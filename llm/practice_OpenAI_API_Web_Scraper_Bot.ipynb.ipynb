{
  "cells": [
    {
      "cell_type": "markdown",
      "id": "e993b222",
      "metadata": {
        "id": "e993b222"
      },
      "source": [
        "# [실습] OpenAI API를 이용하여 뉴스 기사 정리 봇 만들기"
      ]
    },
    {
      "cell_type": "markdown",
      "id": "f4b410df",
      "metadata": {
        "id": "f4b410df"
      },
      "source": [
        "OpenAI Chat API를 이용해 뉴스 검색 결과를 정리하는 프로그램을 만들어 보겠습니다.\n"
      ]
    },
    {
      "cell_type": "markdown",
      "id": "35b32f4c",
      "metadata": {
        "id": "35b32f4c"
      },
      "source": [
        "네이버의 뉴스 검색 API를 사용하겠습니다.   \n",
        "(https://developers.naver.com/apps/#/register?defaultScope=search)"
      ]
    },
    {
      "cell_type": "code",
      "execution_count": 38,
      "id": "f6eb4187",
      "metadata": {
        "id": "f6eb4187"
      },
      "outputs": [
        {
          "name": "stderr",
          "output_type": "stream",
          "text": [
            "\n",
            "[notice] A new release of pip is available: 23.0.1 -> 25.2\n",
            "[notice] To update, run: python.exe -m pip install --upgrade pip\n"
          ]
        }
      ],
      "source": [
        "# Agent처럼 별도 다른 버전으로 맞춘 패키지를 별도 가상 환경에서 동작시키기 위한 예시 (다음 코드는 최신 버전에서도 정상 동작함)\n",
        "!pip install openai>=1.43.0 tiktoken==0.7.0 python-dotenv"
      ]
    },
    {
      "cell_type": "code",
      "execution_count": 39,
      "id": "ccd94373",
      "metadata": {
        "id": "ccd94373"
      },
      "outputs": [
        {
          "name": "stdout",
          "output_type": "stream",
          "text": [
            "OPENAI_API_KEY가 정상적으로 설정되어 있습니다.\n"
          ]
        }
      ],
      "source": [
        "# os의 환경 변수에 API 키 복사 붙여넣기\n",
        "import openai\n",
        "import os\n",
        "\n",
        "# .env 파일 불러오기\n",
        "from dotenv import load_dotenv\n",
        "load_dotenv()\n",
        "\n",
        "client = openai.OpenAI()\n",
        "\n",
        "\n",
        "assert len(os.environ['OPENAI_API_KEY']) > 0, \"OPENAI_API_KEY가 환경 변수에 설정되어 있지 않습니다. API 키를 설정해주세요.\"\n",
        "\n",
        "# API 키가 설정되어 있다면, 이 지점 이후의 코드가 실행됩니다.\n",
        "print(\"OPENAI_API_KEY가 정상적으로 설정되어 있습니다.\")"
      ]
    },
    {
      "cell_type": "markdown",
      "id": "6184c71a",
      "metadata": {
        "id": "6184c71a"
      },
      "source": [
        "## 1. LLM으로 웹 크롤링 코드 구현 프롬프트 만들기"
      ]
    },
    {
      "cell_type": "markdown",
      "id": "e56eb3c0",
      "metadata": {
        "id": "e56eb3c0"
      },
      "source": [
        "네이버 뉴스 API를 이용해 크롤링을 수행하는 파이썬 코드를 작성하겠습니다.   \n",
        "검색어가 `query` 인수로 주어지면, 관련도순으로 검색된 뉴스 기사 30개의 정보를 전달하는 함수를 요청합니다.\n",
        "\n",
        "**네이버 뉴스 API를 사용한다는 내용을 명시하면 정확도가 올라갑니다.**"
      ]
    },
    {
      "cell_type": "code",
      "execution_count": 10,
      "id": "c7df62cb",
      "metadata": {
        "id": "c7df62cb"
      },
      "outputs": [],
      "source": [
        "prompt = '''\n",
        "네이버 뉴스 API를 이용해 크롤링을 수행하는 파이썬 코드를 작성해 주세요.\n",
        "검색어가 `query` 인수로 주어지면, 관련도순으로 검색된 뉴스 기사 30개의 정보를 아래 포맷의 문자열로 변환하는 함수 get_news(query) 를 만들어 주세요.\n",
        "---\n",
        "제목: (뉴스 제목)\n",
        "URL: (뉴스 링크- 있으면)\n",
        "내용: (뉴스 내용)\n",
        "---\n",
        "\n",
        "결과는 result에 저장하고, 출력하세요.\n",
        "---\n",
        "\n",
        "\n",
        "\n",
        "\n",
        "# 검색어\n",
        "query = '생성형 AI'\n",
        "\n",
        "\n",
        "# 검색 결과를 return하는 함수\n",
        "def get_news(query):\n",
        "\n",
        "\n",
        "'''\n",
        "\n"
      ]
    },
    {
      "cell_type": "code",
      "execution_count": 11,
      "id": "518da06c",
      "metadata": {
        "id": "518da06c",
        "scrolled": true
      },
      "outputs": [
        {
          "name": "stdout",
          "output_type": "stream",
          "text": [
            "```python\n",
            "import requests\n",
            "\n",
            "def get_news(query):\n",
            "    url = f\"https://openapi.naver.com/v1/search/news.json?query={query}&display=30&sort=sim\"\n",
            "    headers = {\n",
            "        'X-Naver-Client-Id': 'YOUR_CLIENT_ID',\n",
            "        'X-Naver-Client-Secret': 'YOUR_CLIENT_SECRET'\n",
            "    }\n",
            "    \n",
            "    response = requests.get(url, headers=headers)\n",
            "    news_data = response.json()\n",
            "    \n",
            "    result = \"\"\n",
            "    for item in news_data['items']:\n",
            "        title = item['title']\n",
            "        link = item['link']\n",
            "        description = item['description']\n",
            "        \n",
            "        result += f\"제목: {title}\\n\"\n",
            "        result += f\"URL: {link}\\n\"\n",
            "        result += f\"내용: {description}\\n\"\n",
            "        result += \"---\\n\"\n",
            "    \n",
            "    return result\n",
            "\n",
            "# 검색어\n",
            "query = '생성형 AI'\n",
            "result = get_news(query)\n",
            "print(result)\n",
            "```\n"
          ]
        }
      ],
      "source": [
        "response = client.chat.completions.create(\n",
        "    model = \"gpt-4o-mini\",\n",
        "    messages = [{'role':'system', 'content':'당신은 파이썬 코딩의 전문가입니다. 설명 없이 코드만 출력하세요.'},\n",
        "          {'role':'user', 'content': prompt}],\n",
        "\n",
        "    temperature =  0,\n",
        "    max_tokens = 2000\n",
        "\n",
        ")\n",
        "print(response.choices[0].message.content)"
      ]
    },
    {
      "cell_type": "code",
      "execution_count": 12,
      "id": "ff32acf9",
      "metadata": {
        "id": "ff32acf9"
      },
      "outputs": [],
      "source": [
        "# VS CODE에서 위 결과가 truncated 되는 경우 scrollable element를 클릭하여 풀 코드 확인"
      ]
    },
    {
      "cell_type": "markdown",
      "id": "F7nsGi9tdCyI",
      "metadata": {
        "id": "F7nsGi9tdCyI"
      },
      "source": [
        "아래의 API 키를 사용합니다.\n",
        "(생성된 코드에 값을 추가하세요)"
      ]
    },
    {
      "cell_type": "code",
      "execution_count": 13,
      "id": "_ao65LxLdBnM",
      "metadata": {
        "id": "_ao65LxLdBnM"
      },
      "outputs": [],
      "source": [
        "# 네이버 API Key : 개발자 센터에서 발급 가능\n",
        "# 본인 API Key를 발급 받아도 되고, 실습 시에는 다음 정보를 사용하셔도 됩니다.(SKALA 교수진용)\n",
        "\n",
        "headers = {\n",
        "    'X-Naver-Client-Id': 'gbqzUVViEiF6WXhuq3gZ',\n",
        "    'X-Naver-Client-Secret': 'y0YXaa5unU'\n",
        "}"
      ]
    },
    {
      "cell_type": "markdown",
      "id": "026ed5ff",
      "metadata": {
        "id": "026ed5ff"
      },
      "source": [
        "아래에 전체 코드를 넣고 실행합니다."
      ]
    },
    {
      "cell_type": "code",
      "execution_count": 14,
      "id": "09b139b1",
      "metadata": {
        "id": "09b139b1"
      },
      "outputs": [
        {
          "name": "stdout",
          "output_type": "stream",
          "text": [
            "제목: [<b>AI</b>돋보기] <b>AI</b> 시대, 당신의 직업은 안전한가\n",
            "URL: https://n.news.naver.com/mnews/article/001/0015569039?sid=105\n",
            "내용: 이미 <b>생성형 AI</b>는 고객 응대나 마케팅 콘텐츠 제작 등 사무직 영역 일부를 대체하고 있으며 그 영향력은 이제 IT 인프라와 엔지니어링, 나아가 정책 관리 부문으로까지 확산하는 추세다. 이제는 &quot;AI가 일하고, 사람은... \n",
            "---\n",
            "제목: 올트먼 &quot;박사로 진화&quot; 자신하더니…망신살 뻗친 오픈<b>AI</b> '야심작'\n",
            "URL: https://n.news.naver.com/mnews/article/015/0005171342?sid=105\n",
            "내용: CNN은 GPT-5에 대한 사용자 실망을 오픈AI의 과대광고에 따른 필연적 결과로 분석했다. 챗GPT는 현재 주간 이용자가 약 7억명으로 세계에서 가장 많이 사용되는 <b>생성형 AI</b>다.\n",
            "---\n",
            "제목: 8.15㎞ 기부런, <b>AI</b>로 유관순 부활... MZ세대가 광복절 기념하는 법\n",
            "URL: https://n.news.naver.com/mnews/article/023/0003923344?sid=102\n",
            "내용: 보기만 해도 시원해 보이는 이 영상은 유관순 열사가 서대문형무소에 수감됐을 때 남겨진 흑백사진에 <b>생성형 AI</b>(인공지능)로 현대적 의복과 배경, 색채를 더해 새롭게 만든 것이다. 영상의 제목은 ‘독립운동가분들께... \n",
            "---\n",
            "제목: SK하이닉스, 자체 업무용 <b>생성형 AI</b> 플랫폼 '가이아' 공개\n",
            "URL: https://n.news.naver.com/mnews/article/031/0000957229?sid=105\n",
            "내용: SK하이닉스가 14일 자사 뉴스룸을 통해 반도체 업무에 특화된 <b>생성형 AI</b> 플랫폼 '가이아'를 공개했다. 회사는 가이아(GaiA, Generative AI Assistant)를 중심으로 에이전틱 AI와 에이전트 오케스트레이션을 구현, 생산성과... \n",
            "---\n",
            "제목: SK하이닉스에 ‘<b>AI</b> 홍반장’ 떴다…반도체 제조·개발현장에 ‘<b>AI</b> 가이아...\n",
            "URL: https://n.news.naver.com/mnews/article/009/0005541914?sid=101\n",
            "내용: 구매·채용·법무 업무도 척척 다양한 <b>생성형 AI</b>서비스 가능 SK하이닉스가 반도체 제조·개발 업무에 최적화시킨 ‘AI 비서’를 산업 현장에 투입한다. 14일 SK하이닉스는 다양한 사내 업무에 AI를 활용할 수 있도록 돕는... \n",
            "---\n",
            "제목: 다가온 ‘<b>AI</b> 상담’ 시대… MZ “가족에게도 말 못할 고민 털어놔”\n",
            "URL: https://n.news.naver.com/mnews/article/020/0003654542?sid=102\n",
            "내용: 최근 젊은층을 중심으로 마음을 나눌 상대로 친구나 가족 대신 <b>생성형 AI</b>를 찾는 이들이 늘어나고 있다. 챗봇이 ‘상담 맛집’이 된 것. AI를 단순히 정보 검색 등의 수단으로 보지 않고, ‘삶의 동반자’로까지 여기는... \n",
            "---\n",
            "제목: SKT, 광복 80주년 맞아 <b>AI</b>로 독립운동가 5인 생전 모습 복원\n",
            "URL: https://n.news.naver.com/mnews/article/003/0013421480?sid=105\n",
            "내용: 이번에는 <b>생성형 AI</b> 기술을 접목해 독립운동가들의 오래된 흑백사진의 손상과 왜곡을 제거하고, 자연스럽게 컬러를 입혀 생동감을 더했다. 또한 AI 딥러닝 기반의 '음원분리 및 생성' 기술을 활용해 아날로그 매체의... \n",
            "---\n",
            "제목: 항생제 제2 황금기 온다…<b>생성형 AI</b>가 슈퍼버그 신약 2종 설계\n",
            "URL: https://n.news.naver.com/mnews/article/055/0001284203?sid=104\n",
            "내용: MIT 연구팀의 제임스 콜린스 교수는 &quot;<b>생성형 AI</b>가 완전히 새로운 항생물질을 설계하는 데 이용될 수 있다는 것을 보여줄 수 있어서 기쁘다&quot;면서 슈퍼버그(항생제 내성 슈퍼박테리아)와의 싸움에서 큰 도움이 될 것이라고... \n",
            "---\n",
            "제목: <b>AI</b>가 슈퍼버그 신약 2종 설계...항생제 제2황금기 온다\n",
            "URL: https://n.news.naver.com/mnews/article/052/0002233347?sid=104\n",
            "내용: MIT 연구팀의 제임스 콜린스 교수는 &quot;<b>생성형 AI</b>가 완전히 새로운 항생물질을 설계하는 데 이용될 수 있다는 것을 보여줄 수 있어서 기쁘다&quot;면서 슈퍼버그(항생제 내성 슈퍼박테리아)와의 싸움에서 큰 도움이 될 것이라고... \n",
            "---\n",
            "제목: &quot;박사급 수준이라더니&quot;…GPT-5, 기초적 오류 연발에 망신살\n",
            "URL: https://n.news.naver.com/mnews/article/001/0015568637?sid=105\n",
            "내용: 설립한 경쟁 AI 기업 xAI의 모델 그록(Grok)의 성능이 더 낫다고 말했지만, 마커스 교수는 그록도 별로 나을 게 없다고 평가했다. 챗GPT는 현재 주간 이용자가 약 7억 명으로 세계에서 가장 많이 사용되는 <b>생성형 AI</b>다.\n",
            "---\n",
            "제목: 항생제 제2황금기 온다…<b>생성형 AI</b>가 슈퍼버그 신약 2종 설계\n",
            "URL: https://n.news.naver.com/mnews/article/001/0015568369?sid=104\n",
            "내용: MIT 연구팀의 제임스 콜린스 교수는 &quot;<b>생성형 AI</b>가 완전히 새로운 항생물질을 설계하는 데 이용될 수 있다는 것을 보여줄 수 있어서 기쁘다&quot;면서 슈퍼버그(항생제 내성 슈퍼박테리아)와의 싸움에서 큰 도움이 될 것이라고... \n",
            "---\n",
            "제목: SK하이닉스, 반도체 업무 특화 <b>생성형 AI</b> 플랫폼 공개\n",
            "URL: https://n.news.naver.com/mnews/article/001/0015565895?sid=101\n",
            "내용: SK하이닉스는 14일 자사 뉴스룸을 통해 &quot;디지털 트랜스포메이션을 중심으로 AI 전환(AIX)을 가속하고 있다&quot;며 &quot;업무 혁신을 위한 AI 플랫폼 및 <b>생성형 AI</b> 서비스 3종을 개발했다&quot;고 밝혔다. 이번에 공개된 <b>생성형 AI</b>... \n",
            "---\n",
            "제목: SK하이닉스에 '<b>AI</b> 홍반장' 떴다\n",
            "URL: https://n.news.naver.com/mnews/article/009/0005541845?sid=101\n",
            "내용: AI 플랫폼 '가이아' 투입 반도체 제조·개발현장 활용 구매·채용·법무 업무도 척척 다양한 <b>생성형 AI</b> 서비스 가능 SK하이닉스가 반도체 제조·개발 업무에 최적화시킨 '인공지능(AI) 비서'를 산업 현장에 투입한다. 14일... \n",
            "---\n",
            "제목: SK하이닉스, 반도체 업무에 최적화한 <b>생성형 AI</b> 플랫폼 공개\n",
            "URL: https://n.news.naver.com/mnews/article/366/0001100370?sid=105\n",
            "내용: 이번에 공개된 <b>생성형AI</b>플랫폼 ‘가이아’는 반도체 업무에 특화된 것이 특징이다. 가이아를 활용하면 업무에 따른 맞춤형 AI 에이전트를 개발할 수 있으며 임직원들은 사내 보안망 내에서 <b>생성형AI</b>를 활용할 수... \n",
            "---\n",
            "제목: SK하이닉스, '반도체 특화' <b>생성형 AI</b> 플랫폼 공개\n",
            "URL: https://n.news.naver.com/mnews/article/079/0004055766?sid=101\n",
            "내용: SK하이닉스가 반도체 업무에 최적화 된 자체 개발 <b>생성형 AI</b>(인공지능) 플랫폼 '가이아'(GaiA)를 공개했다. SK하이닉스는 14일 자사 뉴스룸을 통해 &quot;디지털 트랜스포메이션을 중심으로 AI 전환(AIX)을 가속하고 있다&quot;며... \n",
            "---\n",
            "제목: SK하이닉스, <b>생성형 AI</b> 플랫폼 '가이아' 공개…&quot;AI 전환으로 혁신&quot;\n",
            "URL: https://n.news.naver.com/mnews/article/421/0008428143?sid=101\n",
            "내용: 또 구성원들이 사내 보안망 내에서 안전하게 <b>생성형 AI</b>를 활용하고 업무 특화 서비스를 개발·운영하도록 지원하고 있다. 가이아를 활용하면 부서·업무별 맞춤형 AI 에이전트 개발할 수 있고, 피드백 루프 체계를... \n",
            "---\n",
            "제목: SK하이닉스, 반도체 업무 특화 <b>생성형 AI</b> 플랫폼 개발\n",
            "URL: https://n.news.naver.com/mnews/article/030/0003340995?sid=105\n",
            "내용: SK하이닉스는 14일 내부 업무 혁신을 위한 <b>생성형 AI</b> 로드맵에 따라 AI 플랫폼 '가이아(GaiA)'를 개발했다고 밝혔다. 가이아는 SK하이닉스 구성원이 안전하게 <b>생성형 AI</b>를 활용하고 업무 특화 서비스를 개발 및... \n",
            "---\n",
            "제목: &quot;이러려고 <b>AI</b> 하는구나&quot;…'광복 80주년' 생생하게 돌아온 김구 선생 [영...\n",
            "URL: https://n.news.naver.com/mnews/article/015/0005170775?sid=105\n",
            "내용: 자사 인공지능(AI) 미디어 솔루션과 <b>생성형 AI</b> 기술을 활용해 독립운동가의 생전 모습을 생생하게 재현한 것이다. SK텔레콤은 14일 독립기념관과 함께 독립운동가의 모습이 복원된 ‘광복의 기쁨, 27년 만의 환국’ 영상을... \n",
            "---\n",
            "제목: [세상만사] 나는 <b>AI</b> 시대에 필요할까\n",
            "URL: https://n.news.naver.com/mnews/article/005/0001796000?sid=110\n",
            "내용: 예전에는 검색 결과를 바탕으로 사용자들이 직접 홈페이지를 방문했지만 이제는 <b>생성형 AI</b>가 내용을 요약해 보여주기에 찾아갈 필요가 없기 때문이다. 미디어 업계 종사자 입장에선 AI로 인해 트래픽이 감소하는 걸... \n",
            "---\n",
            "제목: SK하이닉스, 반도체 특화 <b>생성형AI</b> 플랫폼 '가이아' 공개\n",
            "URL: https://n.news.naver.com/mnews/article/011/0004521002?sid=101\n",
            "내용: SK하이닉스는 14일 자사 뉴스룸을 통해 <b>생성형 AI</b> 플랫폼 '가이아'를 기반으로 한 사내 <b>생성형 AI</b> 서비스 3종을 개발했다고 밝혔다. 가이아는 반도체 업무에 특화된 AI 플랫폼으로, 이를 활용하면 사내 보안망 내에서... \n",
            "---\n",
            "제목: <b>AI</b> 기업 퍼플렉시티, 구글 '크롬' 47조 원에 인수?\n",
            "URL: https://n.news.naver.com/mnews/article/006/0000131313?sid=105\n",
            "내용: 미국 <b>생성형AI</b> 기업 퍼플렉시티가 구글의 웹 브라우저 크롬을 47조 원에 매수하겠다고 밝혔다. 지난달 자체 웹 브라우저를 출시한 퍼플렉시티가 크롬 인수 시도를 통해 본격적으로 웹 브라우저 시장에 뛰어드는... \n",
            "---\n",
            "제목: 국가유산청, 국가유산 기반 창작 <b>AI</b> 개발 추진\n",
            "URL: https://n.news.naver.com/mnews/article/092/0002386196?sid=103\n",
            "내용: 이를 통해 기존의 <b>생성형</b> 인공지능(<b>AI</b>)에서 국가유산 검색 시 오류나 왜곡된 이미지가 무분별하게 제공되지 않도록 하고, 국가유산 관련 콘텐츠 제작의 진입 장벽을 낮추며, 창작 생태계의 활성화에도 기여할 것으로... \n",
            "---\n",
            "제목: SK하이닉스, 반도체 업무 특화 <b>생성형 AI</b> 플랫폼 '가이아' 공개\n",
            "URL: https://n.news.naver.com/mnews/article/374/0000457645?sid=101\n",
            "내용: SK하이닉스는 오늘(14일) 자사 뉴스룸을 통해 &quot;디지털 트랜스포메이션을 중심으로 AI 전환(AIX)을 가속하고 있다&quot;며 &quot;업무 혁신을 위한 AI 플랫폼 및 <b>생성형 AI</b> 서비스 3종을 개발했다&quot;고 밝혔습니다. 이번에 공개된... \n",
            "---\n",
            "제목: 김구·김규식… <b>AI</b>로 되살아난 독립운동가들\n",
            "URL: https://n.news.naver.com/mnews/article/014/0005392047?sid=105\n",
            "내용: 이번에는 <b>생성형 AI</b> 기술을 접목해 독립운동가들의 오래된 흑백사진의 손상과 왜곡을 제거하고 자연스럽게 컬러를 입혀 생동감을 더했다. 또 AI 딥러닝 기반의 '음원분리 및 생성' 기술을 활용해 아날로그 매체의... \n",
            "---\n",
            "제목: SK하이닉스, <b>생성형 AI</b> 플랫폼 '가이아' 공개…&quot;반도체 제조 혁신&quot;\n",
            "URL: https://n.news.naver.com/mnews/article/014/0005391579?sid=101\n",
            "내용: SK하이닉스는 글로벌 인공지능(AI) 시장에서 고대역폭메모리(HBM)를 통해 핵심 인프라를 공급하는 한편, 내부 반도체 업무 혁신을 가속화하기 위해 <b>생성형 AI</b> 플랫폼 '가이아(GaiA·Generative AI Assistant)'를 활용하고... \n",
            "---\n",
            "제목: SK하이닉스, <b>생성형 AI</b> 로드맵 공개…가이아로 에이전틱 AI·A2A 구현 [인...\n",
            "URL: https://n.news.naver.com/mnews/article/138/0002202726?sid=105\n",
            "내용: SK하이닉스가 반도체 산업에 특화된 <b>생성형 AI</b> 플랫폼 '가이아(GaiA)'를 중심으로 한 중장기 AI 로드맵을 공개하고, 전사 업무 혁신과 스마트팩토리 구현까지 이어가는 청사진을 제시했다. SK하이닉스는 14일 가이아를... \n",
            "---\n",
            "제목: SK하이닉스, 사내 <b>생성형 AI</b> '가이아' 개발 완료…3개년 로드맵 공개\n",
            "URL: https://n.news.naver.com/mnews/article/277/0005637271?sid=101\n",
            "내용: 회사는 지난 2023년부터 3년간의 '<b>생성형 AI</b> 로드맵'에 따라 AI 서비스를 준비해왔으며 연내 한층 진화한 형태의 AI 시스템인 '에이전트 오케스트레이션' 기술을 개발해내겠다고 밝혔다. SK하이닉스는 14일 뉴스룸을... \n",
            "---\n",
            "제목: SK하이닉스, 자체 <b>생성형 AI</b> 플랫폼 '가이아'로 업무 혁신\n",
            "URL: https://n.news.naver.com/mnews/article/092/0002386166?sid=105\n",
            "내용: 그 중심에는 반도체 업무에 특화된 <b>생성형 AI</b> 플랫폼 ‘GaiA(Generative AI Assistant, 가이아)’가 있다. GaiA는 반도체 제조 프로세스의 혁신을 뒷받침하는 것은 물론, 임직원의 다양한 업무를 지원해 효율성과 혁신성을... \n",
            "---\n",
            "제목: 국가유산청, 국가유산 기반 '멀티모달' <b>AI</b> 만든다\n",
            "URL: https://n.news.naver.com/mnews/article/003/0013421666?sid=103\n",
            "내용: 국가유산청 관계자는 &quot;이를 통해 기존 <b>생성형 AI</b>는 국가유산 검색 시 오류나 왜곡된 이미지를 무분별하게 제공하지 않도록 하고, 국가유산 관련 콘텐츠 제작의 진입 장벽을 낮추고, 창작 생태계 활성화에도 기여할 것... \n",
            "---\n",
            "제목: SKT, 광복 80주년 맞아 독립기념관과 <b>AI</b> 복원 콘텐츠 공개\n",
            "URL: https://n.news.naver.com/mnews/article/421/0008427987?sid=105\n",
            "내용: SKT는 <b>생성형 AI</b> 기술을 접목해 독립운동가들의 오래된 흑백사진의 손상과 왜곡을 제거하고, 자연스럽게 컬러를 입혀 생동감을 더했다. 또 AI 딥러닝 기반의 음원분리 및 생성(Soundistill) 기술을 활용해 아날로그 매체의... \n",
            "---\n",
            "\n"
          ]
        },
        {
          "data": {
            "text/plain": [
              "\"제목: [<b>AI</b>돋보기] <b>AI</b> 시대, 당신의 직업은 안전한가\\nURL: https://n.news.naver.com/mnews/article/001/0015569039?sid=105\\n내용: 이미 <b>생성형 AI</b>는 고객 응대나 마케팅 콘텐츠 제작 등 사무직 영역 일부를 대체하고 있으며 그 영향력은 이제 IT 인프라와 엔지니어링, 나아가 정책 관리 부문으로까지 확산하는 추세다. 이제는 &quot;AI가 일하고, 사람은... \\n---\\n제목: 올트먼 &quot;박사로 진화&quot; 자신하더니…망신살 뻗친 오픈<b>AI</b> '야심작'\\nURL: https://n.news.naver.com/mnews/article/015/0005171342?sid=105\\n내용: CNN은 GPT-5에 대한 사용자 실망을 오픈AI의 과대광고에 따른 필연적 결과로 분석했다. 챗GPT는 현재 주간 이용자가 약 7억명으로 세계에서 가장 많이 사용되는 <b>생성형 AI</b>다.\\n---\\n제목: 8.15㎞ 기부런, <b>AI</b>로 유관순 부활... MZ세대가 광복절 기념하는 법\\nURL: https://n.news.naver.com/mnews/article/023/0003923344?sid=102\\n내용: 보기만 해도 시원해 보이는 이 영상은 유관순 열사가 서대문형무소에 수감됐을 때 남겨진 흑백사진에 <b>생성형 AI</b>(인공지능)로 현대적 의복과 배경, 색채를 더해 새롭게 만든 것이다. 영상의 제목은 ‘독립운동가분들께... \\n---\\n제목: SK하이닉스, 자체 업무용 <b>생성형 AI</b> 플랫폼 '가이아' 공개\\nURL: https://n.news.naver.com/mnews/article/031/0000957229?sid=105\\n내용: SK하이닉스가 14일 자사 뉴스룸을 통해 반도체 업무에 특화된 <b>생성형 AI</b> 플랫폼 '가이아'를 공개했다. 회사는 가이아(GaiA, Generative AI Assistant)를 중심으로 에이전틱 AI와 에이전트 오케스트레이션을 구현, 생산성과... \\n---\\n제목: SK하이닉스에 ‘<b>AI</b> 홍반장’ 떴다…반도체 제조·개발현장에 ‘<b>AI</b> 가이아...\\nURL: https://n.news.naver.com/mnews/article/009/0005541914?sid=101\\n내용: 구매·채용·법무 업무도 척척 다양한 <b>생성형 AI</b>서비스 가능 SK하이닉스가 반도체 제조·개발 업무에 최적화시킨 ‘AI 비서’를 산업 현장에 투입한다. 14일 SK하이닉스는 다양한 사내 업무에 AI를 활용할 수 있도록 돕는... \\n---\\n제목: 다가온 ‘<b>AI</b> 상담’ 시대… MZ “가족에게도 말 못할 고민 털어놔”\\nURL: https://n.news.naver.com/mnews/article/020/0003654542?sid=102\\n내용: 최근 젊은층을 중심으로 마음을 나눌 상대로 친구나 가족 대신 <b>생성형 AI</b>를 찾는 이들이 늘어나고 있다. 챗봇이 ‘상담 맛집’이 된 것. AI를 단순히 정보 검색 등의 수단으로 보지 않고, ‘삶의 동반자’로까지 여기는... \\n---\\n제목: SKT, 광복 80주년 맞아 <b>AI</b>로 독립운동가 5인 생전 모습 복원\\nURL: https://n.news.naver.com/mnews/article/003/0013421480?sid=105\\n내용: 이번에는 <b>생성형 AI</b> 기술을 접목해 독립운동가들의 오래된 흑백사진의 손상과 왜곡을 제거하고, 자연스럽게 컬러를 입혀 생동감을 더했다. 또한 AI 딥러닝 기반의 '음원분리 및 생성' 기술을 활용해 아날로그 매체의... \\n---\\n제목: 항생제 제2 황금기 온다…<b>생성형 AI</b>가 슈퍼버그 신약 2종 설계\\nURL: https://n.news.naver.com/mnews/article/055/0001284203?sid=104\\n내용: MIT 연구팀의 제임스 콜린스 교수는 &quot;<b>생성형 AI</b>가 완전히 새로운 항생물질을 설계하는 데 이용될 수 있다는 것을 보여줄 수 있어서 기쁘다&quot;면서 슈퍼버그(항생제 내성 슈퍼박테리아)와의 싸움에서 큰 도움이 될 것이라고... \\n---\\n제목: <b>AI</b>가 슈퍼버그 신약 2종 설계...항생제 제2황금기 온다\\nURL: https://n.news.naver.com/mnews/article/052/0002233347?sid=104\\n내용: MIT 연구팀의 제임스 콜린스 교수는 &quot;<b>생성형 AI</b>가 완전히 새로운 항생물질을 설계하는 데 이용될 수 있다는 것을 보여줄 수 있어서 기쁘다&quot;면서 슈퍼버그(항생제 내성 슈퍼박테리아)와의 싸움에서 큰 도움이 될 것이라고... \\n---\\n제목: &quot;박사급 수준이라더니&quot;…GPT-5, 기초적 오류 연발에 망신살\\nURL: https://n.news.naver.com/mnews/article/001/0015568637?sid=105\\n내용: 설립한 경쟁 AI 기업 xAI의 모델 그록(Grok)의 성능이 더 낫다고 말했지만, 마커스 교수는 그록도 별로 나을 게 없다고 평가했다. 챗GPT는 현재 주간 이용자가 약 7억 명으로 세계에서 가장 많이 사용되는 <b>생성형 AI</b>다.\\n---\\n제목: 항생제 제2황금기 온다…<b>생성형 AI</b>가 슈퍼버그 신약 2종 설계\\nURL: https://n.news.naver.com/mnews/article/001/0015568369?sid=104\\n내용: MIT 연구팀의 제임스 콜린스 교수는 &quot;<b>생성형 AI</b>가 완전히 새로운 항생물질을 설계하는 데 이용될 수 있다는 것을 보여줄 수 있어서 기쁘다&quot;면서 슈퍼버그(항생제 내성 슈퍼박테리아)와의 싸움에서 큰 도움이 될 것이라고... \\n---\\n제목: SK하이닉스, 반도체 업무 특화 <b>생성형 AI</b> 플랫폼 공개\\nURL: https://n.news.naver.com/mnews/article/001/0015565895?sid=101\\n내용: SK하이닉스는 14일 자사 뉴스룸을 통해 &quot;디지털 트랜스포메이션을 중심으로 AI 전환(AIX)을 가속하고 있다&quot;며 &quot;업무 혁신을 위한 AI 플랫폼 및 <b>생성형 AI</b> 서비스 3종을 개발했다&quot;고 밝혔다. 이번에 공개된 <b>생성형 AI</b>... \\n---\\n제목: SK하이닉스에 '<b>AI</b> 홍반장' 떴다\\nURL: https://n.news.naver.com/mnews/article/009/0005541845?sid=101\\n내용: AI 플랫폼 '가이아' 투입 반도체 제조·개발현장 활용 구매·채용·법무 업무도 척척 다양한 <b>생성형 AI</b> 서비스 가능 SK하이닉스가 반도체 제조·개발 업무에 최적화시킨 '인공지능(AI) 비서'를 산업 현장에 투입한다. 14일... \\n---\\n제목: SK하이닉스, 반도체 업무에 최적화한 <b>생성형 AI</b> 플랫폼 공개\\nURL: https://n.news.naver.com/mnews/article/366/0001100370?sid=105\\n내용: 이번에 공개된 <b>생성형AI</b>플랫폼 ‘가이아’는 반도체 업무에 특화된 것이 특징이다. 가이아를 활용하면 업무에 따른 맞춤형 AI 에이전트를 개발할 수 있으며 임직원들은 사내 보안망 내에서 <b>생성형AI</b>를 활용할 수... \\n---\\n제목: SK하이닉스, '반도체 특화' <b>생성형 AI</b> 플랫폼 공개\\nURL: https://n.news.naver.com/mnews/article/079/0004055766?sid=101\\n내용: SK하이닉스가 반도체 업무에 최적화 된 자체 개발 <b>생성형 AI</b>(인공지능) 플랫폼 '가이아'(GaiA)를 공개했다. SK하이닉스는 14일 자사 뉴스룸을 통해 &quot;디지털 트랜스포메이션을 중심으로 AI 전환(AIX)을 가속하고 있다&quot;며... \\n---\\n제목: SK하이닉스, <b>생성형 AI</b> 플랫폼 '가이아' 공개…&quot;AI 전환으로 혁신&quot;\\nURL: https://n.news.naver.com/mnews/article/421/0008428143?sid=101\\n내용: 또 구성원들이 사내 보안망 내에서 안전하게 <b>생성형 AI</b>를 활용하고 업무 특화 서비스를 개발·운영하도록 지원하고 있다. 가이아를 활용하면 부서·업무별 맞춤형 AI 에이전트 개발할 수 있고, 피드백 루프 체계를... \\n---\\n제목: SK하이닉스, 반도체 업무 특화 <b>생성형 AI</b> 플랫폼 개발\\nURL: https://n.news.naver.com/mnews/article/030/0003340995?sid=105\\n내용: SK하이닉스는 14일 내부 업무 혁신을 위한 <b>생성형 AI</b> 로드맵에 따라 AI 플랫폼 '가이아(GaiA)'를 개발했다고 밝혔다. 가이아는 SK하이닉스 구성원이 안전하게 <b>생성형 AI</b>를 활용하고 업무 특화 서비스를 개발 및... \\n---\\n제목: &quot;이러려고 <b>AI</b> 하는구나&quot;…'광복 80주년' 생생하게 돌아온 김구 선생 [영...\\nURL: https://n.news.naver.com/mnews/article/015/0005170775?sid=105\\n내용: 자사 인공지능(AI) 미디어 솔루션과 <b>생성형 AI</b> 기술을 활용해 독립운동가의 생전 모습을 생생하게 재현한 것이다. SK텔레콤은 14일 독립기념관과 함께 독립운동가의 모습이 복원된 ‘광복의 기쁨, 27년 만의 환국’ 영상을... \\n---\\n제목: [세상만사] 나는 <b>AI</b> 시대에 필요할까\\nURL: https://n.news.naver.com/mnews/article/005/0001796000?sid=110\\n내용: 예전에는 검색 결과를 바탕으로 사용자들이 직접 홈페이지를 방문했지만 이제는 <b>생성형 AI</b>가 내용을 요약해 보여주기에 찾아갈 필요가 없기 때문이다. 미디어 업계 종사자 입장에선 AI로 인해 트래픽이 감소하는 걸... \\n---\\n제목: SK하이닉스, 반도체 특화 <b>생성형AI</b> 플랫폼 '가이아' 공개\\nURL: https://n.news.naver.com/mnews/article/011/0004521002?sid=101\\n내용: SK하이닉스는 14일 자사 뉴스룸을 통해 <b>생성형 AI</b> 플랫폼 '가이아'를 기반으로 한 사내 <b>생성형 AI</b> 서비스 3종을 개발했다고 밝혔다. 가이아는 반도체 업무에 특화된 AI 플랫폼으로, 이를 활용하면 사내 보안망 내에서... \\n---\\n제목: <b>AI</b> 기업 퍼플렉시티, 구글 '크롬' 47조 원에 인수?\\nURL: https://n.news.naver.com/mnews/article/006/0000131313?sid=105\\n내용: 미국 <b>생성형AI</b> 기업 퍼플렉시티가 구글의 웹 브라우저 크롬을 47조 원에 매수하겠다고 밝혔다. 지난달 자체 웹 브라우저를 출시한 퍼플렉시티가 크롬 인수 시도를 통해 본격적으로 웹 브라우저 시장에 뛰어드는... \\n---\\n제목: 국가유산청, 국가유산 기반 창작 <b>AI</b> 개발 추진\\nURL: https://n.news.naver.com/mnews/article/092/0002386196?sid=103\\n내용: 이를 통해 기존의 <b>생성형</b> 인공지능(<b>AI</b>)에서 국가유산 검색 시 오류나 왜곡된 이미지가 무분별하게 제공되지 않도록 하고, 국가유산 관련 콘텐츠 제작의 진입 장벽을 낮추며, 창작 생태계의 활성화에도 기여할 것으로... \\n---\\n제목: SK하이닉스, 반도체 업무 특화 <b>생성형 AI</b> 플랫폼 '가이아' 공개\\nURL: https://n.news.naver.com/mnews/article/374/0000457645?sid=101\\n내용: SK하이닉스는 오늘(14일) 자사 뉴스룸을 통해 &quot;디지털 트랜스포메이션을 중심으로 AI 전환(AIX)을 가속하고 있다&quot;며 &quot;업무 혁신을 위한 AI 플랫폼 및 <b>생성형 AI</b> 서비스 3종을 개발했다&quot;고 밝혔습니다. 이번에 공개된... \\n---\\n제목: 김구·김규식… <b>AI</b>로 되살아난 독립운동가들\\nURL: https://n.news.naver.com/mnews/article/014/0005392047?sid=105\\n내용: 이번에는 <b>생성형 AI</b> 기술을 접목해 독립운동가들의 오래된 흑백사진의 손상과 왜곡을 제거하고 자연스럽게 컬러를 입혀 생동감을 더했다. 또 AI 딥러닝 기반의 '음원분리 및 생성' 기술을 활용해 아날로그 매체의... \\n---\\n제목: SK하이닉스, <b>생성형 AI</b> 플랫폼 '가이아' 공개…&quot;반도체 제조 혁신&quot;\\nURL: https://n.news.naver.com/mnews/article/014/0005391579?sid=101\\n내용: SK하이닉스는 글로벌 인공지능(AI) 시장에서 고대역폭메모리(HBM)를 통해 핵심 인프라를 공급하는 한편, 내부 반도체 업무 혁신을 가속화하기 위해 <b>생성형 AI</b> 플랫폼 '가이아(GaiA·Generative AI Assistant)'를 활용하고... \\n---\\n제목: SK하이닉스, <b>생성형 AI</b> 로드맵 공개…가이아로 에이전틱 AI·A2A 구현 [인...\\nURL: https://n.news.naver.com/mnews/article/138/0002202726?sid=105\\n내용: SK하이닉스가 반도체 산업에 특화된 <b>생성형 AI</b> 플랫폼 '가이아(GaiA)'를 중심으로 한 중장기 AI 로드맵을 공개하고, 전사 업무 혁신과 스마트팩토리 구현까지 이어가는 청사진을 제시했다. SK하이닉스는 14일 가이아를... \\n---\\n제목: SK하이닉스, 사내 <b>생성형 AI</b> '가이아' 개발 완료…3개년 로드맵 공개\\nURL: https://n.news.naver.com/mnews/article/277/0005637271?sid=101\\n내용: 회사는 지난 2023년부터 3년간의 '<b>생성형 AI</b> 로드맵'에 따라 AI 서비스를 준비해왔으며 연내 한층 진화한 형태의 AI 시스템인 '에이전트 오케스트레이션' 기술을 개발해내겠다고 밝혔다. SK하이닉스는 14일 뉴스룸을... \\n---\\n제목: SK하이닉스, 자체 <b>생성형 AI</b> 플랫폼 '가이아'로 업무 혁신\\nURL: https://n.news.naver.com/mnews/article/092/0002386166?sid=105\\n내용: 그 중심에는 반도체 업무에 특화된 <b>생성형 AI</b> 플랫폼 ‘GaiA(Generative AI Assistant, 가이아)’가 있다. GaiA는 반도체 제조 프로세스의 혁신을 뒷받침하는 것은 물론, 임직원의 다양한 업무를 지원해 효율성과 혁신성을... \\n---\\n제목: 국가유산청, 국가유산 기반 '멀티모달' <b>AI</b> 만든다\\nURL: https://n.news.naver.com/mnews/article/003/0013421666?sid=103\\n내용: 국가유산청 관계자는 &quot;이를 통해 기존 <b>생성형 AI</b>는 국가유산 검색 시 오류나 왜곡된 이미지를 무분별하게 제공하지 않도록 하고, 국가유산 관련 콘텐츠 제작의 진입 장벽을 낮추고, 창작 생태계 활성화에도 기여할 것... \\n---\\n제목: SKT, 광복 80주년 맞아 독립기념관과 <b>AI</b> 복원 콘텐츠 공개\\nURL: https://n.news.naver.com/mnews/article/421/0008427987?sid=105\\n내용: SKT는 <b>생성형 AI</b> 기술을 접목해 독립운동가들의 오래된 흑백사진의 손상과 왜곡을 제거하고, 자연스럽게 컬러를 입혀 생동감을 더했다. 또 AI 딥러닝 기반의 음원분리 및 생성(Soundistill) 기술을 활용해 아날로그 매체의... \\n---\\n\""
            ]
          },
          "execution_count": 14,
          "metadata": {},
          "output_type": "execute_result"
        }
      ],
      "source": [
        "import requests\n",
        "\n",
        "def get_news(query):\n",
        "    url = f\"https://openapi.naver.com/v1/search/news.json?query={query}&display=30&sort=sim\"\n",
        "    headers = {\n",
        "        'X-Naver-Client-Id': 'gbqzUVViEiF6WXhuq3gZ',\n",
        "        'X-Naver-Client-Secret': 'y0YXaa5unU'\n",
        "    }\n",
        "    \n",
        "    response = requests.get(url, headers=headers)\n",
        "    news_items = response.json().get('items', [])\n",
        "    \n",
        "    result = \"\"\n",
        "    for item in news_items:\n",
        "        title = item['title']\n",
        "        link = item['link']\n",
        "        description = item['description']\n",
        "        \n",
        "        result += f\"제목: {title}\\n\"\n",
        "        result += f\"URL: {link}\\n\"\n",
        "        result += f\"내용: {description}\\n\"\n",
        "        result += \"---\\n\"\n",
        "    \n",
        "    print(result)\n",
        "    return result\n",
        "\n",
        "# 검색어\n",
        "query = '생성형 AI'\n",
        "get_news(query)\n"
      ]
    },
    {
      "cell_type": "markdown",
      "id": "875dc181",
      "metadata": {
        "id": "875dc181"
      },
      "source": [
        "아래는 예시 코드입니다."
      ]
    },
    {
      "cell_type": "markdown",
      "id": "e399facd",
      "metadata": {
        "id": "e399facd"
      },
      "source": [
        "## 2. OpenAI chat을 이용하여 요약하기"
      ]
    },
    {
      "cell_type": "markdown",
      "id": "a995dc0b",
      "metadata": {
        "id": "a995dc0b"
      },
      "source": [
        "키워드에 대한 뉴스 검색 결과를 요약합니다.   \n",
        "위 결과인 `result` 데이터를 입력으로 넣은 뒤, 해당 결과에 대한 요약을 요청합니다."
      ]
    },
    {
      "cell_type": "code",
      "execution_count": 15,
      "id": "97ead65c",
      "metadata": {
        "id": "97ead65c"
      },
      "outputs": [],
      "source": [
        "def news_bot(messages):\n",
        "\n",
        "    response = client.chat.completions.create(\n",
        "        model=\"gpt-4o\",\n",
        "        messages = messages,\n",
        "        temperature = 0.1,\n",
        "        max_tokens= 2048,\n",
        "    )\n",
        "\n",
        "    return response.choices[0].message.content\n",
        "    # 간편한 출력을 위해 content만 추출"
      ]
    },
    {
      "cell_type": "markdown",
      "id": "f0ff486c",
      "metadata": {
        "id": "f0ff486c"
      },
      "source": [
        "챗봇에 전달할 메시지는 두 개로 나눠집니다.   \n",
        "위에서 얻은 get_html(query)와, 사용자가 제시할 명령입니다.   "
      ]
    },
    {
      "cell_type": "code",
      "execution_count": 16,
      "id": "ba01b31a",
      "metadata": {
        "id": "ba01b31a",
        "scrolled": true
      },
      "outputs": [
        {
          "name": "stdout",
          "output_type": "stream",
          "text": [
            "제목: '최원태 쾌투·구자욱 쐐기포' <b>삼성</b>, 5연패 뒤 2연승…롯데 8연패 '늪'\n",
            "URL: https://m.sports.naver.com/kbaseball/article/003/0013425155\n",
            "내용: 프로야구 <b>삼성 라이온즈</b>가 5연패 뒤 2연승을 달리며 반등에 성공했다. 삼성은 16일 사직구장에서 벌어진 2025 신한 쏠뱅크 KBO리그 롯데와의 경기에서 4-1로 승리했다. 전날 롯데를 10-4로 물리치고 5연패를 끊은 삼성은... \n",
            "---\n",
            "제목: <b>삼성</b>, '단두대 매치'서 5연패 탈출…롯데 7연패 악몽\n",
            "URL: https://m.sports.naver.com/kbaseball/article/421/0008430719\n",
            "내용: 프로야구 <b>삼성 라이온즈</b>가 롯데 자이언츠를 완파하고 5연패에서 벗어났다. 무기력한 모습을 보인 롯데는 1년 4개월 만에 7연패 수모를 당했다. 삼성은 15일 부산 사직구장에서 열린 롯데와 2025 신한 SOL뱅크 KBO리그... \n",
            "---\n",
            "제목: [사진] 롯데전 2연승 챙긴 <b>삼성</b> 선수들\n",
            "URL: https://m.sports.naver.com/kbaseball/article/109/0005372217\n",
            "내용: 16일 부산 사직야구장에서 2025 신한 SOL 뱅크 KBO 리그 롯데 자이언츠와 <b>삼성 라이온즈</b>의 경기가 열렸다. 홈팀 롯데는 박세웅이, 방문팀 삼성은 최원태가 선발 출전했다. <b>삼성 라이온즈</b> 선수들이 롯데... \n",
            "---\n",
            "제목: '70억 FA' 부활 <b>삼성</b>, 최원태+구자욱 앞세워 2연승…롯데 8연패 수렁 [사...\n",
            "URL: https://m.sports.naver.com/kbaseball/article/311/0001905414\n",
            "내용: 박진만 감독이 이끄는 <b>삼성 라이온즈</b>가 5연패 탈출 후 곧바로 연승을 내달렸다. 베테랑 우완 최원태가 '부활투'를 펼치면서 주말 3연전 위닝 시리즈를 확보했다. 삼성은 16일 부산 사직야구장에서 열린 2025 신한 SOL Bank... \n",
            "---\n",
            "제목: 6연패 롯데, 5연패 <b>삼성</b>의 광복절 단두대 매치…지면 끝장\n",
            "URL: https://m.sports.naver.com/kbaseball/article/001/0015568312\n",
            "내용: 2위 추격하던 롯데, 6위 kt와 3경기 차이…PS 진출도 '불안' 8위 삼성, 5위 KIA와 5경기 차…희미해지는 가을 야구 프로야구 롯데 자이언츠와 <b>삼성 라이온즈</b>가 광복절인 15일 물러설 수 없는 '단두대 매치'를 벌인다.... \n",
            "---\n",
            "제목: <b>삼성</b>, 롯데 7연패 몰아넣고 5연패 탈출…한화, '손아섭 더비' 이겨 5연승...\n",
            "URL: https://m.sports.naver.com/kbaseball/article/003/0013424707\n",
            "내용: 프로야구 <b>삼성 라이온즈</b>가 연패에 빠진 팀 끼리의 '단두대 매치'에서 승리를 거뒀다. 삼성은 15일 사직구장에서 벌어진 2025 신한 쏠뱅크 KBO리그 롯데 자이언츠와의 경기에서 10-4로 승리했다. 8위 삼성(52승 1무 58패)은... \n",
            "---\n",
            "제목: &quot;6연패 탈출 접전&quot;…롯데·<b>삼성</b>, 광복절 단두대 매치서 총력전\n",
            "URL: https://www.topstarnews.net/news/articleView.html?idxno=15770311\n",
            "내용: 광복절을 맞아 KBO 리그 사직구장에서 롯데 자이언츠와 <b>삼성 라이온즈</b>가 물러설 수 없는 '단두대 매치'를 벌인다. 6연패에 빠진 롯데 자이언츠와 5연패에 허덕이는 <b>삼성 라이온즈</b>는 15일 오후 6시 부산 사직구장에서... \n",
            "---\n",
            "제목: '홈런 3방' <b>삼성</b>, '단두대 매치' 이기고 5연패 탈출…롯데 7연패 수렁\n",
            "URL: https://m.sports.naver.com/kbaseball/article/003/0013424639\n",
            "내용: 프로야구 <b>삼성 라이온즈</b>가 연패에 빠진 팀 끼리의 '단두대 매치'에서 승리를 거뒀다. 삼성은 15일 사직구장에서 벌어진 2025 신한 쏠뱅크 KBO리그 롯데 자이언츠와의 경기에서 10-4로 승리했다. 8위 삼성(52승 1무 58패)은... \n",
            "---\n",
            "제목: '사직 첫 승리' 맛본 <b>삼성라이온즈</b>…연승 위한 조건은 '홈런'과 '불펜'\n",
            "URL: https://m.sports.naver.com/kbaseball/article/657/0000041783\n",
            "내용: 시즌 승리가 없었던 사직에서 5연패 탈출에 성공한 <b>삼성라이온즈</b>가 흐름을 더해 연승에 도전합니다. 16일 오후 부산 사직야구장에서 펼쳐지는 2025 신한 SOL 뱅크 KBO리그 롯데자이언츠와의 맞대결에서 삼성은 전날 승리를... \n",
            "---\n",
            "제목: [사진] 승리 기쁨 나누는 <b>삼성</b> 박진만 감독\n",
            "URL: https://m.sports.naver.com/kbaseball/article/109/0005372220\n",
            "내용: 16일 부산 사직야구장에서 2025 신한 SOL 뱅크 KBO 리그 롯데 자이언츠와 <b>삼성 라이온즈</b>의 경기가 열렸다. 홈팀 롯데는 박세웅이, 방문팀 삼성은 최원태가 선발 출전했다. <b>삼성 라이온즈</b> 박진만 감독이 롯데... \n",
            "---\n",
            "제목: [사진] 승리 기쁨 나누는 <b>삼성</b> 박진만 감독과 구자욱\n",
            "URL: https://m.sports.naver.com/kbaseball/article/109/0005372221\n",
            "내용: 16일 부산 사직야구장에서 2025 신한 SOL 뱅크 KBO 리그 롯데 자이언츠와 <b>삼성 라이온즈</b>의 경기가 열렸다. 홈팀 롯데는 박세웅이, 방문팀 삼성은 최원태가 선발 출전했다. <b>삼성 라이온즈</b> 박진만 감독이 롯데... \n",
            "---\n",
            "제목: [사진] 승리 기쁨 나누는 <b>삼성</b> 박진만 감독과 구자욱\n",
            "URL: https://m.sports.naver.com/kbaseball/article/109/0005372222\n",
            "내용: 16일 부산 사직야구장에서 2025 신한 SOL 뱅크 KBO 리그 롯데 자이언츠와 <b>삼성 라이온즈</b>의 경기가 열렸다. 홈팀 롯데는 박세웅이, 방문팀 삼성은 최원태가 선발 출전했다. <b>삼성 라이온즈</b> 박진만 감독이 롯데... \n",
            "---\n",
            "제목: 상무 야구단, 합격자 발표…<b>삼성</b> 황동재·한화 김기중 12월 입대\n",
            "URL: https://m.sports.naver.com/kbaseball/article/001/0015567004\n",
            "내용: <b>삼성 라이온즈</b> 오른손 불펜 투수 황동재, 한화 이글스 좌완 불펜 김기중 등 프로야구 선수 총 14명이 상무에 입대한다. 국군체육부대는 14일 상무 야구단 합격자를 확정해 선수들에게 개별 통보했다. KBO리그 10개 구단... \n",
            "---\n",
            "제목: 4연패 <b>삼성</b>, 류지혁·김태훈 등 5명 1군 엔트리 새로 등록\n",
            "URL: https://m.sports.naver.com/kbaseball/article/001/0015567491\n",
            "내용: 삼성은 14일 대구 <b>삼성라이온즈</b>파크에서 열리는 KIA 타이거즈와 홈 경기를 앞두고 류지혁과 투수 김태훈, 홍원표, 외야수 김태훈, 내야수 양우현을 1군에 등록했다. 대신 최충연(투수), 심재훈, 이해승(이상 내야수)... \n",
            "---\n",
            "제목: [사진] 롯데전 2연승 챙긴 <b>삼성</b> 구자욱과 강민호, 미소 가득\n",
            "URL: https://m.sports.naver.com/kbaseball/article/109/0005372219\n",
            "내용: 16일 부산 사직야구장에서 2025 신한 SOL 뱅크 KBO 리그 롯데 자이언츠와 <b>삼성 라이온즈</b>의 경기가 열렸다. 홈팀 롯데는 박세웅이, 방문팀 삼성은 최원태가 선발 출전했다. <b>삼성 라이온즈</b> 구자욱과 강민호가 롯데... \n",
            "---\n",
            "제목: 상무 야구단 합격자 발표…<b>삼성</b> 황동재 등 12월 입대\n",
            "URL: https://m.sports.naver.com/kbaseball/article/055/0001284027\n",
            "내용: ▲ 삼성 투수 황동재 <b>삼성 라이온즈</b> 오른손 불펜 투수 황동재, 한화 이글스 좌완 불펜 김기중 등 프로야구 선수 총 14명이 상무에 입대합니다. 국군체육부대는 오늘 상무 야구단 합격자를 확정해 선수들에게 개별... \n",
            "---\n",
            "제목: <b>삼성</b>, 류지혁·김태훈 등 5명 1군 엔트리에 새로 등록\n",
            "URL: https://m.sports.naver.com/kbaseball/article/055/0001284054\n",
            "내용: 삼성은 오늘(14일) 대구 <b>삼성라이온즈</b>파크에서 열리는 KIA 타이거즈와 홈 경기를 앞두고 류지혁과 투수 김태훈, 홍원표, 외야수 김태훈, 내야수 양우현을 1군에 등록했습니다. 대신 최충연(투수), 심재훈, 이해승(이상... \n",
            "---\n",
            "제목: '동병상련' 4연패 <b>삼성</b>·5연패 롯데, 1군 엔트리 대거 교체\n",
            "URL: https://m.sports.naver.com/kbaseball/article/421/0008429617\n",
            "내용: 삼성은 14일 대구 <b>삼성라이온즈</b>파크에서 열리는 2025 신한 SOL뱅크 KBO리그 KIA 타이거즈와 홈 경기를 앞두고 다섯 자리를 바꿨다. 투수 최충연과 내야수 심재훈, 이해승, 외야수 함수호, 홍현빈이 2군행을 통보받았다.... \n",
            "---\n",
            "제목: 연패 빠진 <b>삼성</b>·롯데, 대거 엔트리 변경…류지혁·정보근 등 1군 복귀\n",
            "URL: https://m.sports.naver.com/kbaseball/article/003/0013423285\n",
            "내용: 삼성은 14일 대구 <b>삼성라이온즈</b>파크에서 예정된 2025 신한 쏠뱅크 KBO리그 KIA 타이거즈와의 경기를 앞두고 1군 엔트리 명단을 대폭 교체했다. 이날 삼성은 신인 내야수 심재훈, 신인 외야수 함수호, 우완 최충연, 내야수... \n",
            "---\n",
            "제목: 상무 야구단, 합격자 발표…<b>삼성</b> 황동재·한화 김기중 12월 입대\n",
            "URL: https://m.sports.naver.com/kbaseball/article/241/0003459967\n",
            "내용: <b>삼성 라이온즈</b> 오른손 불펜 투수 황동재, 한화 이글스 좌완 불펜 김기중 등 프로야구 선수 총 14명이 상무에 입대한다. 국군체육부대는 14일 상무 야구단 합격자를 확정해 선수들에게 개별 통보했다. KBO리그 10개 구단... \n",
            "---\n",
            "제목: <b>삼성</b> 5연패 탈출, 국민유격수 미팅 효과 있었다?…&quot;눈치 보지 말고 뛰라...\n",
            "URL: https://m.sports.naver.com/kbaseball/article/311/0001905288\n",
            "내용: &quot;사실 감독이 선수들을 불러서 얘기하는 건 안 하는 게 제일 좋다.&quot; 박진만 감독이 이끄는 <b>삼성 라이온즈</b>는 지난 15일 사직 롯데 자이언츠전에서 10-4 승리를 거두고 5연패의 사슬을 끊어냈다. 타선이 1회초부터 3득점에... \n",
            "---\n",
            "제목: 롯데 충격의 7연패…중위권 싸움 휘말리나→<b>삼성</b>, '홈런 공장 풀가동' 1...\n",
            "URL: https://m.sports.naver.com/kbaseball/article/311/0001905108\n",
            "내용: 박진만 감독이 이끄는 <b>삼성 라이온즈</b>가 투타의 조화 속에 5연패의 사슬을 끊어냈다. 반면 롯데 자이언츠는 안방에서 7연패의 수렁에 빠졌다. 삼성은 15일 부산 사직야구장에서 열린 2025 신한 SOL Bank KBO리그 롯데... \n",
            "---\n",
            "제목: [사진] 5연패 탈출 기쁨 나누는 <b>삼성</b> 선수들\n",
            "URL: https://m.sports.naver.com/kbaseball/article/109/0005371627\n",
            "내용: 15일 부산 사직야구장에서 2025 신한 SOL 뱅크 KBO 리그 롯데 자이언츠와 <b>삼성 라이온즈</b>의 경기가 열렸다. 홈팀 롯데는 이민석이, 방문팀 삼성은 가라비토가 선발 출전했다. <b>삼성 라이온즈</b> 강민호와 선수들이 롯데... \n",
            "---\n",
            "제목: 프로야구 <b>삼성</b>, 최근 4경기 5득점…타고투저 홈구장도 소용없네\n",
            "URL: https://m.sports.naver.com/kbaseball/article/001/0015565957\n",
            "내용: 삼성의 홈구장인 대구<b>삼성라이온즈</b>파크는 홈런이 많이 나오는 좌·우중간 펜스까지 거리가 홈플레이트부터 107ｍ에 불과해 KBO리그의 대표적인 '타고투저 구장'으로 꼽힌다. 삼성은 홈 이점을 누리기 위해... \n",
            "---\n",
            "제목: 프로야구 KIA, 홈런 5방 앞세워 3연승…<b>삼성</b>은 5연패 수렁\n",
            "URL: https://m.sports.naver.com/kbaseball/article/001/0015567765\n",
            "내용: KIA는 14일 대구 <b>삼성라이온즈</b>파크에서 열린 2025 신한 SOL뱅크 KBO리그 <b>삼성 라이온즈</b>와 원정 경기에서 10-4로 이겼다. 홈런 5방을 몰아치며 화끈한 타격을 뽐낸 KIA는 3연승을 거두고 53승 4무 50패, 5위 자리를 지켰다.... \n",
            "---\n",
            "제목: 바꿨으면 어쩔 뻔! 위즈덤, 2홈런 6타점 폭발...KIA, <b>삼성</b> 3연전 싹쓸이...\n",
            "URL: https://m.sports.naver.com/kbaseball/article/109/0005371007\n",
            "내용: KIA는 14일 대구<b>삼성라이온즈</b>파크에서 열린 원정 경기에서 선발 양현종의 호투와 김호령, 김태군, 패트릭 위즈덤, 김선빈의 홈런 5개를 앞세워 삼성을 10-4로 눌렀다. 3연승. 반면 삼성은 지난 9일 수원 KT 위즈전 이후... \n",
            "---\n",
            "제목: '원태인마저 흔들' <b>삼성 라이온즈</b>, 5연패 수렁 빠져\n",
            "URL: https://m.sports.naver.com/kbaseball/article/088/0000964616\n",
            "내용: <b>삼성 라이온즈</b>가 젊은 에이스를 투입하고도 5연패에 빠졌다. 삼성은 14일 대구에서 열린 프로야구 경기에 나섰으나 KIA 타이거즈에 4대10으로 패했다. 12일부터 펼쳐진 KIA와의 3연전을 모두 내줬다. 믿었던 선발 원태인이... \n",
            "---\n",
            "제목: 위즈덤 2홈런 6타점 쾅…KIA, <b>삼성</b> 5연패 몰아넣고 3연전 싹쓸이\n",
            "URL: https://m.sports.naver.com/kbaseball/article/003/0013423691\n",
            "내용: KIA는 14일 대구 <b>삼성라이온즈</b>파크에서 열린 2025 신한 쏠뱅크 KBO리그 삼성과의 경기에서 10-4로 이겼다. 삼성과 주중 3연전을 싹쓸이한 5위 KIA(53승 4무 50패)는 4위 SSG 랜더스(54승 4무 50패)와의 승차를 0.5경기까지... \n",
            "---\n",
            "제목: <b>삼성</b> 황동재·한화 김기중 등 14명 상무야구단 합격\n",
            "URL: https://www.asiatoday.co.kr/view.php?key=20250814010007221\n",
            "내용: <b>삼성 라이온즈</b> 투수 황동재&lt;사진&gt; 등 프로야구 선수 총 14명이 12월 상무에 입대한다. 국군체육부대는 14일 상무 야구단 합격자를 확정했다. 삼성에서는 오른손 불펜 투수 황동재와 내야수 양도근이 합격했다. 한화... \n",
            "---\n",
            "제목: ‘4연패+8위 추락’ <b>삼성</b>, 1군 엔트리 5명 전격 교체···류지혁·김태...\n",
            "URL: https://m.sports.naver.com/kbaseball/article/144/0001060543\n",
            "내용: 삼성은 14일 대구 <b>삼성라이온즈</b>파크에서 열리는 2025 프로야구 KIA와 홈경기를 앞두고 류지혁과 투수 김태훈, 홍원표, 외야수 김태훈, 내야수 양우현을 1군에 등록했다. 대신 최충연(투수), 심재훈, 이해승(이상... \n",
            "---\n",
            "\n",
            "삼성 라이온즈는 최근 5연패에서 벗어나 롯데 자이언츠와의 경기에서 2연승을 기록하며 반등에 성공했습니다. 15일과 16일 부산 사직구장에서 열린 경기에서 삼성은 각각 10-4, 4-1로 승리했습니다. 특히 최원태의 호투와 구자욱의 홈런이 팀 승리에 큰 기여를 했습니다. 반면 롯데는 8연패의 수렁에 빠졌습니다. 삼성은 이번 승리로 8위에 머물고 있으며, 가을 야구 진출을 위해 계속해서 승리를 이어가야 하는 상황입니다.\n",
            "\n",
            "관련 링크:\n",
            "1. [최원태 쾌투·구자욱 쐐기포 삼성, 5연패 뒤 2연승…롯데 8연패 '늪'](https://m.sports.naver.com/kbaseball/article/003/0013425155)\n",
            "2. [삼성, '단두대 매치'서 5연패 탈출…롯데 7연패 악몽](https://m.sports.naver.com/kbaseball/article/421/0008430719)\n",
            "3. ['70억 FA' 부활 삼성, 최원태+구자욱 앞세워 2연승…롯데 8연패 수렁](https://m.sports.naver.com/kbaseball/article/311/0001905414)\n"
          ]
        }
      ],
      "source": [
        "query = '삼성 라이온즈'\n",
        "\n",
        "result = get_news(query)\n",
        "\n",
        "response = news_bot([\n",
        "    {\n",
        "        # f-string: f\"\"\"{변수명}\"\"\"\n",
        "        \"role\": \"system\",\n",
        "        \"content\": f\"\"\"{query}에 대한 뉴스 검색 결과가 주어집니다.\n",
        "{query}에 대한 뉴스를 요약하세요.\n",
        "관련 링크를 추가하세요.\n",
        "---\n",
        "\"\"\"\n",
        "    },\n",
        "    {\n",
        "        \"role\": \"user\",\n",
        "        \"content\": result\n",
        "    }\n",
        "])\n",
        "\n",
        "print(response)"
      ]
    },
    {
      "cell_type": "code",
      "execution_count": 18,
      "id": "eb8753f4",
      "metadata": {
        "id": "eb8753f4"
      },
      "outputs": [
        {
          "name": "stdout",
          "output_type": "stream",
          "text": [
            "문자 수: 7719\n",
            "토큰 수: 4783\n"
          ]
        }
      ],
      "source": [
        "# 토큰 수 체크\n",
        "import tiktoken\n",
        "\n",
        "tokenizer  = tiktoken.encoding_for_model('gpt-4o')\n",
        "\n",
        "print(\"문자 수:\", len(result))\n",
        "print(\"토큰 수:\", len(tokenizer.encode(result)))\n",
        "# print(result) #result\n"
      ]
    },
    {
      "cell_type": "markdown",
      "id": "f22469ad",
      "metadata": {
        "id": "f22469ad"
      },
      "source": [
        "다양한 명령을 넣어서 형식과 스타일을 바꿀 수 있습니다."
      ]
    },
    {
      "cell_type": "code",
      "execution_count": 19,
      "id": "b83450fb",
      "metadata": {
        "id": "b83450fb"
      },
      "outputs": [
        {
          "name": "stdout",
          "output_type": "stream",
          "text": [
            "제목: '최원태 쾌투·구자욱 쐐기포' <b>삼성</b>, 5연패 뒤 2연승…롯데 8연패 '늪'\n",
            "URL: https://m.sports.naver.com/kbaseball/article/003/0013425155\n",
            "내용: 프로야구 <b>삼성 라이온즈</b>가 5연패 뒤 2연승을 달리며 반등에 성공했다. 삼성은 16일 사직구장에서 벌어진 2025 신한 쏠뱅크 KBO리그 롯데와의 경기에서 4-1로 승리했다. 전날 롯데를 10-4로 물리치고 5연패를 끊은 삼성은... \n",
            "---\n",
            "제목: <b>삼성</b>, '단두대 매치'서 5연패 탈출…롯데 7연패 악몽\n",
            "URL: https://m.sports.naver.com/kbaseball/article/421/0008430719\n",
            "내용: 프로야구 <b>삼성 라이온즈</b>가 롯데 자이언츠를 완파하고 5연패에서 벗어났다. 무기력한 모습을 보인 롯데는 1년 4개월 만에 7연패 수모를 당했다. 삼성은 15일 부산 사직구장에서 열린 롯데와 2025 신한 SOL뱅크 KBO리그... \n",
            "---\n",
            "제목: [사진] 롯데전 2연승 챙긴 <b>삼성</b> 선수들\n",
            "URL: https://m.sports.naver.com/kbaseball/article/109/0005372217\n",
            "내용: 16일 부산 사직야구장에서 2025 신한 SOL 뱅크 KBO 리그 롯데 자이언츠와 <b>삼성 라이온즈</b>의 경기가 열렸다. 홈팀 롯데는 박세웅이, 방문팀 삼성은 최원태가 선발 출전했다. <b>삼성 라이온즈</b> 선수들이 롯데... \n",
            "---\n",
            "제목: '70억 FA' 부활 <b>삼성</b>, 최원태+구자욱 앞세워 2연승…롯데 8연패 수렁 [사...\n",
            "URL: https://m.sports.naver.com/kbaseball/article/311/0001905414\n",
            "내용: 박진만 감독이 이끄는 <b>삼성 라이온즈</b>가 5연패 탈출 후 곧바로 연승을 내달렸다. 베테랑 우완 최원태가 '부활투'를 펼치면서 주말 3연전 위닝 시리즈를 확보했다. 삼성은 16일 부산 사직야구장에서 열린 2025 신한 SOL Bank... \n",
            "---\n",
            "제목: 6연패 롯데, 5연패 <b>삼성</b>의 광복절 단두대 매치…지면 끝장\n",
            "URL: https://m.sports.naver.com/kbaseball/article/001/0015568312\n",
            "내용: 2위 추격하던 롯데, 6위 kt와 3경기 차이…PS 진출도 '불안' 8위 삼성, 5위 KIA와 5경기 차…희미해지는 가을 야구 프로야구 롯데 자이언츠와 <b>삼성 라이온즈</b>가 광복절인 15일 물러설 수 없는 '단두대 매치'를 벌인다.... \n",
            "---\n",
            "제목: <b>삼성</b>, 롯데 7연패 몰아넣고 5연패 탈출…한화, '손아섭 더비' 이겨 5연승...\n",
            "URL: https://m.sports.naver.com/kbaseball/article/003/0013424707\n",
            "내용: 프로야구 <b>삼성 라이온즈</b>가 연패에 빠진 팀 끼리의 '단두대 매치'에서 승리를 거뒀다. 삼성은 15일 사직구장에서 벌어진 2025 신한 쏠뱅크 KBO리그 롯데 자이언츠와의 경기에서 10-4로 승리했다. 8위 삼성(52승 1무 58패)은... \n",
            "---\n",
            "제목: &quot;6연패 탈출 접전&quot;…롯데·<b>삼성</b>, 광복절 단두대 매치서 총력전\n",
            "URL: https://www.topstarnews.net/news/articleView.html?idxno=15770311\n",
            "내용: 광복절을 맞아 KBO 리그 사직구장에서 롯데 자이언츠와 <b>삼성 라이온즈</b>가 물러설 수 없는 '단두대 매치'를 벌인다. 6연패에 빠진 롯데 자이언츠와 5연패에 허덕이는 <b>삼성 라이온즈</b>는 15일 오후 6시 부산 사직구장에서... \n",
            "---\n",
            "제목: '홈런 3방' <b>삼성</b>, '단두대 매치' 이기고 5연패 탈출…롯데 7연패 수렁\n",
            "URL: https://m.sports.naver.com/kbaseball/article/003/0013424639\n",
            "내용: 프로야구 <b>삼성 라이온즈</b>가 연패에 빠진 팀 끼리의 '단두대 매치'에서 승리를 거뒀다. 삼성은 15일 사직구장에서 벌어진 2025 신한 쏠뱅크 KBO리그 롯데 자이언츠와의 경기에서 10-4로 승리했다. 8위 삼성(52승 1무 58패)은... \n",
            "---\n",
            "제목: '사직 첫 승리' 맛본 <b>삼성라이온즈</b>…연승 위한 조건은 '홈런'과 '불펜'\n",
            "URL: https://m.sports.naver.com/kbaseball/article/657/0000041783\n",
            "내용: 시즌 승리가 없었던 사직에서 5연패 탈출에 성공한 <b>삼성라이온즈</b>가 흐름을 더해 연승에 도전합니다. 16일 오후 부산 사직야구장에서 펼쳐지는 2025 신한 SOL 뱅크 KBO리그 롯데자이언츠와의 맞대결에서 삼성은 전날 승리를... \n",
            "---\n",
            "제목: [사진] 승리 기쁨 나누는 <b>삼성</b> 박진만 감독\n",
            "URL: https://m.sports.naver.com/kbaseball/article/109/0005372220\n",
            "내용: 16일 부산 사직야구장에서 2025 신한 SOL 뱅크 KBO 리그 롯데 자이언츠와 <b>삼성 라이온즈</b>의 경기가 열렸다. 홈팀 롯데는 박세웅이, 방문팀 삼성은 최원태가 선발 출전했다. <b>삼성 라이온즈</b> 박진만 감독이 롯데... \n",
            "---\n",
            "제목: [사진] 승리 기쁨 나누는 <b>삼성</b> 박진만 감독과 구자욱\n",
            "URL: https://m.sports.naver.com/kbaseball/article/109/0005372221\n",
            "내용: 16일 부산 사직야구장에서 2025 신한 SOL 뱅크 KBO 리그 롯데 자이언츠와 <b>삼성 라이온즈</b>의 경기가 열렸다. 홈팀 롯데는 박세웅이, 방문팀 삼성은 최원태가 선발 출전했다. <b>삼성 라이온즈</b> 박진만 감독이 롯데... \n",
            "---\n",
            "제목: [사진] 승리 기쁨 나누는 <b>삼성</b> 박진만 감독과 구자욱\n",
            "URL: https://m.sports.naver.com/kbaseball/article/109/0005372222\n",
            "내용: 16일 부산 사직야구장에서 2025 신한 SOL 뱅크 KBO 리그 롯데 자이언츠와 <b>삼성 라이온즈</b>의 경기가 열렸다. 홈팀 롯데는 박세웅이, 방문팀 삼성은 최원태가 선발 출전했다. <b>삼성 라이온즈</b> 박진만 감독이 롯데... \n",
            "---\n",
            "제목: 상무 야구단, 합격자 발표…<b>삼성</b> 황동재·한화 김기중 12월 입대\n",
            "URL: https://m.sports.naver.com/kbaseball/article/001/0015567004\n",
            "내용: <b>삼성 라이온즈</b> 오른손 불펜 투수 황동재, 한화 이글스 좌완 불펜 김기중 등 프로야구 선수 총 14명이 상무에 입대한다. 국군체육부대는 14일 상무 야구단 합격자를 확정해 선수들에게 개별 통보했다. KBO리그 10개 구단... \n",
            "---\n",
            "제목: 4연패 <b>삼성</b>, 류지혁·김태훈 등 5명 1군 엔트리 새로 등록\n",
            "URL: https://m.sports.naver.com/kbaseball/article/001/0015567491\n",
            "내용: 삼성은 14일 대구 <b>삼성라이온즈</b>파크에서 열리는 KIA 타이거즈와 홈 경기를 앞두고 류지혁과 투수 김태훈, 홍원표, 외야수 김태훈, 내야수 양우현을 1군에 등록했다. 대신 최충연(투수), 심재훈, 이해승(이상 내야수)... \n",
            "---\n",
            "제목: [사진] 롯데전 2연승 챙긴 <b>삼성</b> 구자욱과 강민호, 미소 가득\n",
            "URL: https://m.sports.naver.com/kbaseball/article/109/0005372219\n",
            "내용: 16일 부산 사직야구장에서 2025 신한 SOL 뱅크 KBO 리그 롯데 자이언츠와 <b>삼성 라이온즈</b>의 경기가 열렸다. 홈팀 롯데는 박세웅이, 방문팀 삼성은 최원태가 선발 출전했다. <b>삼성 라이온즈</b> 구자욱과 강민호가 롯데... \n",
            "---\n",
            "제목: 상무 야구단 합격자 발표…<b>삼성</b> 황동재 등 12월 입대\n",
            "URL: https://m.sports.naver.com/kbaseball/article/055/0001284027\n",
            "내용: ▲ 삼성 투수 황동재 <b>삼성 라이온즈</b> 오른손 불펜 투수 황동재, 한화 이글스 좌완 불펜 김기중 등 프로야구 선수 총 14명이 상무에 입대합니다. 국군체육부대는 오늘 상무 야구단 합격자를 확정해 선수들에게 개별... \n",
            "---\n",
            "제목: <b>삼성</b>, 류지혁·김태훈 등 5명 1군 엔트리에 새로 등록\n",
            "URL: https://m.sports.naver.com/kbaseball/article/055/0001284054\n",
            "내용: 삼성은 오늘(14일) 대구 <b>삼성라이온즈</b>파크에서 열리는 KIA 타이거즈와 홈 경기를 앞두고 류지혁과 투수 김태훈, 홍원표, 외야수 김태훈, 내야수 양우현을 1군에 등록했습니다. 대신 최충연(투수), 심재훈, 이해승(이상... \n",
            "---\n",
            "제목: '동병상련' 4연패 <b>삼성</b>·5연패 롯데, 1군 엔트리 대거 교체\n",
            "URL: https://m.sports.naver.com/kbaseball/article/421/0008429617\n",
            "내용: 삼성은 14일 대구 <b>삼성라이온즈</b>파크에서 열리는 2025 신한 SOL뱅크 KBO리그 KIA 타이거즈와 홈 경기를 앞두고 다섯 자리를 바꿨다. 투수 최충연과 내야수 심재훈, 이해승, 외야수 함수호, 홍현빈이 2군행을 통보받았다.... \n",
            "---\n",
            "제목: 연패 빠진 <b>삼성</b>·롯데, 대거 엔트리 변경…류지혁·정보근 등 1군 복귀\n",
            "URL: https://m.sports.naver.com/kbaseball/article/003/0013423285\n",
            "내용: 삼성은 14일 대구 <b>삼성라이온즈</b>파크에서 예정된 2025 신한 쏠뱅크 KBO리그 KIA 타이거즈와의 경기를 앞두고 1군 엔트리 명단을 대폭 교체했다. 이날 삼성은 신인 내야수 심재훈, 신인 외야수 함수호, 우완 최충연, 내야수... \n",
            "---\n",
            "제목: 상무 야구단, 합격자 발표…<b>삼성</b> 황동재·한화 김기중 12월 입대\n",
            "URL: https://m.sports.naver.com/kbaseball/article/241/0003459967\n",
            "내용: <b>삼성 라이온즈</b> 오른손 불펜 투수 황동재, 한화 이글스 좌완 불펜 김기중 등 프로야구 선수 총 14명이 상무에 입대한다. 국군체육부대는 14일 상무 야구단 합격자를 확정해 선수들에게 개별 통보했다. KBO리그 10개 구단... \n",
            "---\n",
            "제목: <b>삼성</b> 5연패 탈출, 국민유격수 미팅 효과 있었다?…&quot;눈치 보지 말고 뛰라...\n",
            "URL: https://m.sports.naver.com/kbaseball/article/311/0001905288\n",
            "내용: &quot;사실 감독이 선수들을 불러서 얘기하는 건 안 하는 게 제일 좋다.&quot; 박진만 감독이 이끄는 <b>삼성 라이온즈</b>는 지난 15일 사직 롯데 자이언츠전에서 10-4 승리를 거두고 5연패의 사슬을 끊어냈다. 타선이 1회초부터 3득점에... \n",
            "---\n",
            "제목: 롯데 충격의 7연패…중위권 싸움 휘말리나→<b>삼성</b>, '홈런 공장 풀가동' 1...\n",
            "URL: https://m.sports.naver.com/kbaseball/article/311/0001905108\n",
            "내용: 박진만 감독이 이끄는 <b>삼성 라이온즈</b>가 투타의 조화 속에 5연패의 사슬을 끊어냈다. 반면 롯데 자이언츠는 안방에서 7연패의 수렁에 빠졌다. 삼성은 15일 부산 사직야구장에서 열린 2025 신한 SOL Bank KBO리그 롯데... \n",
            "---\n",
            "제목: [사진] 5연패 탈출 기쁨 나누는 <b>삼성</b> 선수들\n",
            "URL: https://m.sports.naver.com/kbaseball/article/109/0005371627\n",
            "내용: 15일 부산 사직야구장에서 2025 신한 SOL 뱅크 KBO 리그 롯데 자이언츠와 <b>삼성 라이온즈</b>의 경기가 열렸다. 홈팀 롯데는 이민석이, 방문팀 삼성은 가라비토가 선발 출전했다. <b>삼성 라이온즈</b> 강민호와 선수들이 롯데... \n",
            "---\n",
            "제목: 프로야구 <b>삼성</b>, 최근 4경기 5득점…타고투저 홈구장도 소용없네\n",
            "URL: https://m.sports.naver.com/kbaseball/article/001/0015565957\n",
            "내용: 삼성의 홈구장인 대구<b>삼성라이온즈</b>파크는 홈런이 많이 나오는 좌·우중간 펜스까지 거리가 홈플레이트부터 107ｍ에 불과해 KBO리그의 대표적인 '타고투저 구장'으로 꼽힌다. 삼성은 홈 이점을 누리기 위해... \n",
            "---\n",
            "제목: 프로야구 KIA, 홈런 5방 앞세워 3연승…<b>삼성</b>은 5연패 수렁\n",
            "URL: https://m.sports.naver.com/kbaseball/article/001/0015567765\n",
            "내용: KIA는 14일 대구 <b>삼성라이온즈</b>파크에서 열린 2025 신한 SOL뱅크 KBO리그 <b>삼성 라이온즈</b>와 원정 경기에서 10-4로 이겼다. 홈런 5방을 몰아치며 화끈한 타격을 뽐낸 KIA는 3연승을 거두고 53승 4무 50패, 5위 자리를 지켰다.... \n",
            "---\n",
            "제목: 바꿨으면 어쩔 뻔! 위즈덤, 2홈런 6타점 폭발...KIA, <b>삼성</b> 3연전 싹쓸이...\n",
            "URL: https://m.sports.naver.com/kbaseball/article/109/0005371007\n",
            "내용: KIA는 14일 대구<b>삼성라이온즈</b>파크에서 열린 원정 경기에서 선발 양현종의 호투와 김호령, 김태군, 패트릭 위즈덤, 김선빈의 홈런 5개를 앞세워 삼성을 10-4로 눌렀다. 3연승. 반면 삼성은 지난 9일 수원 KT 위즈전 이후... \n",
            "---\n",
            "제목: '원태인마저 흔들' <b>삼성 라이온즈</b>, 5연패 수렁 빠져\n",
            "URL: https://m.sports.naver.com/kbaseball/article/088/0000964616\n",
            "내용: <b>삼성 라이온즈</b>가 젊은 에이스를 투입하고도 5연패에 빠졌다. 삼성은 14일 대구에서 열린 프로야구 경기에 나섰으나 KIA 타이거즈에 4대10으로 패했다. 12일부터 펼쳐진 KIA와의 3연전을 모두 내줬다. 믿었던 선발 원태인이... \n",
            "---\n",
            "제목: 위즈덤 2홈런 6타점 쾅…KIA, <b>삼성</b> 5연패 몰아넣고 3연전 싹쓸이\n",
            "URL: https://m.sports.naver.com/kbaseball/article/003/0013423691\n",
            "내용: KIA는 14일 대구 <b>삼성라이온즈</b>파크에서 열린 2025 신한 쏠뱅크 KBO리그 삼성과의 경기에서 10-4로 이겼다. 삼성과 주중 3연전을 싹쓸이한 5위 KIA(53승 4무 50패)는 4위 SSG 랜더스(54승 4무 50패)와의 승차를 0.5경기까지... \n",
            "---\n",
            "제목: <b>삼성</b> 황동재·한화 김기중 등 14명 상무야구단 합격\n",
            "URL: https://www.asiatoday.co.kr/view.php?key=20250814010007221\n",
            "내용: <b>삼성 라이온즈</b> 투수 황동재&lt;사진&gt; 등 프로야구 선수 총 14명이 12월 상무에 입대한다. 국군체육부대는 14일 상무 야구단 합격자를 확정했다. 삼성에서는 오른손 불펜 투수 황동재와 내야수 양도근이 합격했다. 한화... \n",
            "---\n",
            "제목: ‘4연패+8위 추락’ <b>삼성</b>, 1군 엔트리 5명 전격 교체···류지혁·김태...\n",
            "URL: https://m.sports.naver.com/kbaseball/article/144/0001060543\n",
            "내용: 삼성은 14일 대구 <b>삼성라이온즈</b>파크에서 열리는 2025 프로야구 KIA와 홈경기를 앞두고 류지혁과 투수 김태훈, 홍원표, 외야수 김태훈, 내야수 양우현을 1군에 등록했다. 대신 최충연(투수), 심재훈, 이해승(이상... \n",
            "---\n",
            "\n",
            "A: 최근 삼성 라이온즈가 5연패에서 벗어나 2연승을 기록하며 반등의 기미를 보이고 있습니다. 특히 최원태의 안정적인 투구와 구자욱의 결정적인 홈런이 팀의 승리에 큰 기여를 했습니다. 이러한 흐름이 계속된다면, 삼성은 중위권으로의 도약도 가능할 것으로 보입니다.\n",
            "\n",
            "B: 아, 그렇군요. 근데 삼성 라이온즈가 연패를 끊었다고 하니 다행이네요. 근데 롯데는 왜 이렇게 계속 지는 거죠? 8연패라니, 참 안타깝네요.\n",
            "\n",
            "A: 롯데 자이언츠의 경우, 최근 경기에서 투타의 조화가 맞지 않으면서 연패의 늪에 빠진 상황입니다. 반면 삼성은 엔트리 변화를 통해 팀 분위기를 쇄신하고, 선수들의 활약이 이어지면서 긍정적인 결과를 얻고 있습니다. 특히 박진만 감독의 리더십이 돋보이는 시점입니다.\n",
            "\n",
            "B: 아, 엔트리 변화가 중요하군요. 근데 삼성도 한때 5연패였잖아요. 그때는 왜 그렇게 못했을까요?\n",
            "\n",
            "A: 삼성의 5연패 당시에는 타선의 부진과 불펜의 불안정함이 주요 원인이었습니다. 그러나 최근 경기에서는 홈런과 불펜의 안정적인 운영이 돋보이며, 이러한 문제점들이 개선되고 있습니다. 앞으로도 이러한 흐름을 유지한다면, 포스트시즌 진출도 노려볼 수 있을 것입니다.\n",
            "\n",
            "B: 아, 그렇군요. 홈런이랑 불펜이 중요하네요. 그럼 앞으로도 계속 이기면 좋겠어요. 삼성 파이팅!\n"
          ]
        }
      ],
      "source": [
        "query = '삼성 라이온즈'\n",
        "\n",
        "result  = get_news(query)\n",
        "\n",
        "result = news_bot([\n",
        "    {\n",
        "        \"role\": \"user\",\n",
        "        \"content\": result\n",
        "    },\n",
        "    {\n",
        "        \"role\": \"user\",\n",
        "        \"content\": f\"\"\"\n",
        "---\n",
        "위 전체 내용을 종합하여 {query}의 동향과 미래에 대해 논쟁하는 두 사람의 대화 내용을 만들어줘.\n",
        "한 명은 전문적인 말투, 한 명은 어리숙한 말투를 사용하고, 형식은 아래와 같아.\n",
        "---\n",
        "A:(A의 대화)\n",
        "B:(B의 대화)\n",
        "        \"\"\"\n",
        "    }\n",
        "])\n",
        "\n",
        "print(result)"
      ]
    },
    {
      "cell_type": "markdown",
      "id": "4aa4182c",
      "metadata": {
        "id": "4aa4182c"
      },
      "source": [
        "## 참고) 스트리밍\n",
        "ChatGPT처럼 글자가 한 글자씩 순서대로 쭉 출력되도록 하면 어떨까요?   \n",
        "이와 같은 작업을 스트리밍(Streaming)이라고 하며, 옵션을 추가하여 구현할 수 있습니다."
      ]
    },
    {
      "cell_type": "code",
      "execution_count": 11,
      "id": "c9c2254e",
      "metadata": {
        "id": "c9c2254e"
      },
      "outputs": [],
      "source": [
        "def news_bot_stream(messages):\n",
        "\n",
        "    response = client.chat.completions.create(\n",
        "        model = \"gpt-4o-mini\",\n",
        "        messages = messages,\n",
        "        temperature = 0.1,\n",
        "        max_tokens = 2048,\n",
        "        stream=True # 스트리밍\n",
        "    )\n",
        "\n",
        "    return response\n",
        "    # content가 아닌 전체를 return함"
      ]
    },
    {
      "cell_type": "code",
      "execution_count": 12,
      "id": "c57c0f75",
      "metadata": {
        "id": "c57c0f75"
      },
      "outputs": [
        {
          "name": "stdout",
          "output_type": "stream",
          "text": [
            "제목: 수백만 AI ‘초<b>거대</b> 집단지성’…인간 통제될까? [AI 엑스파일]\n",
            "URL: https://n.news.naver.com/mnews/article/015/0005171395?sid=105\n",
            "내용: 지금의 대형<b>언어모델</b>(LLM)은 인간보다 훨씬 더 많은 내용을 접해서 초인적인 지식을 갖게 됐습니다. 앞으로... 모든 경험과 지식을 실시간으로 공유하는 '초<b>거대</b> 집단 지성'이다. 수백만 개의 AI가 각자의 영역에서 24시간... \n",
            "---\n",
            "제목: “소버린 AI 원조, 독자LLM <b>모델</b> 가진 네이버가 국가대표 AI”\n",
            "URL: https://n.news.naver.com/mnews/article/023/0003923143?sid=105\n",
            "내용: 이미 자체 <b>거대언어모델</b>(LLM) ‘하이퍼클로바X’를 내놓았고, 데이터센터, 클라우드, 모델, 서비스까지 풀스택(Full-Stack·인프라, 하드웨어, 소프트웨어 등 기술을 패키지로 제공) 역량을 갖춘 컨소시엄이기도 하다. 성... \n",
            "---\n",
            "제목: [K-AI 도전]④네이버 &quot;대한민국 구석구석 가장 잘 아는 AI <b>모델</b>…수출도...\n",
            "URL: https://n.news.naver.com/mnews/article/277/0005637163?sid=105\n",
            "내용: 네이버클라우드 컨소시엄은 과학기술정보통신부가 국가대표 AI를 뽑는 '독자 AI 파운데이션 <b>모델</b>' 사업에... 옴니 모달리티는 <b>언어</b>뿐만 아니라 이미지, 음성, 영상 등 다양한 데이터를 동시에 이해하고 처리한다. 인간의... \n",
            "---\n",
            "제목: [국대 AI人]&quot;누구나 활용 가능한 최고 성능 K-AI <b>모델</b> 선보일 것&quot;\n",
            "URL: https://n.news.naver.com/mnews/article/008/0005235749?sid=101\n",
            "내용: 네이버의 핵심 AI 개발자 출신들이 2020년 설립한 업스테이지는 <b>거대언어모델</b>(LLM) '솔라'를 개발했다. 최근 '솔라 프로2'는 독립 LLM 성능 분석기관 아티피셜 애널리시스트에서 오픈AI, 구글, 메타 등과 함께 상위... \n",
            "---\n",
            "제목: AI가 부동산 등기 대신해줄까…범정부 초<b>거대</b> AI '시동'\n",
            "URL: https://n.news.naver.com/mnews/article/293/0000071167?sid=105\n",
            "내용: 과학기술정보통신부와 행정안전부는 올해 9월 공공AX를 목표로 한 '범정부 초<b>거대</b> AI 공통기반'을... 공통적으로는 기존 정부 시스템에 대규모<b>언어모델</b>(LLM)을 접목한다. 이날 송 대표는 대국민 서비스 AX의 한 예로... \n",
            "---\n",
            "제목: 과기정통부 &quot;공공AX 공격적 추진&quot;...전문가들 &quot;AX 특화 발주·민관 협업...\n",
            "URL: https://www.techm.kr/news/articleView.html?idxno=143292\n",
            "내용: 그는 &quot;<b>거대언어모델</b>(LLM)을 통해 의미 기반 검색이 가능한 초기 단계를 넘어 공공기관 내부 데이터를 활용해 환각 현상을 최소화하고, AI 에이전트 기반 행정시스템을 연계해 부처 시스템들로 업무별 AI 협업 행정 체계를... \n",
            "---\n",
            "제목: K-AI 따낸 SKT 어벤저스…&quot;국내 LLM 뛰어넘는 초<b>거대</b>AI 개발&quot;\n",
            "URL: https://n.news.naver.com/mnews/article/003/0013402531?sid=105\n",
            "내용: 독자 AI 파운데이션 모델 프로젝트를 통해 통해 기존 국내 <b>거대언어모델</b>(LLM)의 규모를 뛰어넘는 초거대 AI 모델 개발에 도전한다는 목표다. 모든 국민이 편리하게 활용할 수 있는 AI 에이전트를 개발하고, 국내 산업... \n",
            "---\n",
            "제목: [국가대표 AI, 릴레이 인터뷰③] 업스테이지 “국내 유일 '글로벌 프론티...\n",
            "URL: https://www.etoday.co.kr/news/view/2496812\n",
            "내용: 지난달 초 선보인 차세대 추론형 <b>거대언어모델</b>(LLM) ‘솔라 프로 2’는 독립 성능 분석기관 ‘아티피셜 애널리시스’의 지능 지표에서 국내 유일 프런티어 모델로 선정됐다. 오픈AI, 구글 등 글로벌 빅테크 기업과 함께... \n",
            "---\n",
            "제목: [이경전의 AI와 비즈니스 <b>모델</b>] 대규모<b>언어모델</b>의 겨울, AI 응용의 봄\n",
            "URL: https://n.news.naver.com/mnews/article/015/0005171376?sid=110\n",
            "내용: 기대와 달리 퀀텀 점프는 없다는 평가가 나오면서 대규모<b>언어모델</b>(LLM)에 대한 열기도 한풀 꺾이고 있다.... 이런 변화는 뒤늦게 초<b>거대</b> AI 개발 경쟁에 뛰어든 한국엔 전화위복이 될 수 있다. 최첨단을 무작정... \n",
            "---\n",
            "제목: 뤼튼, 오픈AI 최신 <b>모델</b> GPT-5 서비스 신규 업데이트\n",
            "URL: https://n.news.naver.com/mnews/article/031/0000955520?sid=105\n",
            "내용: 인공지능(AI) 서비스 플랫폼 기업 ‘뤼튼테크놀로지스는 8일 새벽(한국 시간) 오픈AI가 공개한 새로운 플래그십 초<b>거대 언어 모델</b>(LLM) GPT-5를 무료로 제공한다. 오픈AI에 따르면 GPT-5는 지금까지 출시한 자사 AI 모델 중... \n",
            "---\n",
            "제목: DGIST 유니바, 초<b>거대</b> AI 확산 생태계 조성 사업에 선정\n",
            "URL: https://n.news.naver.com/mnews/article/003/0013410870?sid=102\n",
            "내용: 이 과제는 초<b>거대 언어모델</b>의 핵심 기능인 단계적 사고(Chain-of-Thought, CoT)를 제조 및 물류 산업에 접목하는 것을 목표로 하고 있으며 협동 및 물류 로봇이 인지-판단-실행의 전 과정을 자율적으로 수행할 수... \n",
            "---\n",
            "제목: '국대 AI' 이름표 단 5개 기업들, 글로벌서 통하는 AI <b>모델</b> 만든다\n",
            "URL: https://n.news.naver.com/mnews/article/277/0005632499?sid=105\n",
            "내용: SK텔레콤 컨소시엄은 기존 국내에서 개발한 <b>거대언어모델</b>(LLM)의 규모를 뛰어넘는 초거대 AI 모델 개발에 도전한다. 마찬가지로 다양한 형태의 데이터를 통합적으로 처리할 수 있는 '옴니모달(Omni-Modal)' 기술을 적용할... \n",
            "---\n",
            "제목: [국가대표 AI 선발전] ②네이버, AI<b>모델</b>·인프라·서비스까지 '자체 기술...\n",
            "URL: https://www.newsquest.co.kr/news/articleView.html?idxno=250635\n",
            "내용: 지난 6월 공개한 추론모델 '하이퍼클로바X 씽크(HyperCLOVA X THINK)'는 '코발트(KoBALT)-700' 벤치마크에서 언어 능력으로 국내외 주요 LLM(<b>거대언어모델</b>)인 알리바바의 '큐원3', LG AI연구원의 '엑사원딥' 보다 높은 점수를... \n",
            "---\n",
            "제목: 네이버클라우드, ‘독자 AI 파운데이션 <b>모델</b>’ 프로젝트 주관 사업자 선...\n",
            "URL: https://n.news.naver.com/mnews/article/022/0004057112?sid=105\n",
            "내용: 프롬스크래치 방식으로 자체 개발한 초<b>거대 언어모델</b> 하이퍼클로바X를 비롯해 대규모 데이터센터·클라우드 인프라·AI 플랫폼·애플리케이션·사용자 서비스까지 모두 직접 구축·운영하며, 실제 대규모 서비스 적용... \n",
            "---\n",
            "제목: 서울시 전용 AI 행정지원 ‘챗봇 2.0’ 나온다… 자체 <b>언어모델</b> 도입 [오...\n",
            "URL: https://n.news.naver.com/mnews/article/022/0004058071?sid=102\n",
            "내용: 내부망에 자체 초<b>거대 언어모델</b>(LLM)을 도입, 일부 부서를 대상으로 시범 운영하고 내년부터는 내부 행정 시스템과 연계해 문서 자동화, 의사결정 지원 등 기능을 순차적으로 고도화할 예정이다. 예를 들면 ‘공유재산... \n",
            "---\n",
            "제목: DGIST 학생창업기업 유니바, 초<b>거대</b> AI 확산 생태계 조성 사업 선정\n",
            "URL: https://n.news.naver.com/mnews/article/015/0005168267?sid=101\n",
            "내용: 아 과제는 초<b>거대 언어모델</b>의 핵심 기능인 ‘단계적 사고(Chain-of-Thought, CoT)’를 제조 및 물류 산업에 접목하는 것을 목표로 하고 있으며, 협동 및 물류 로봇이 인지-판단-실행의 전 과정을 자율적으로 수행할 수... \n",
            "---\n",
            "제목: 네이버클라우드, '옴니 파운데이션 <b>모델</b>' 개발… '국가대표 AI' 선정\n",
            "URL: https://n.news.naver.com/mnews/article/417/0001093300?sid=101\n",
            "내용: '프롬 스크래치'(From Scratch) 방식으로 자체 개발한 초<b>거대 언어모델</b> '하이퍼클로바X'를 비롯해 대규모 데이터센터와 클라우드 인프라, AI 플랫폼, 애플리케이션, 사용자 서비스까지 직접 구축·운영하며 대규모 실서비스... \n",
            "---\n",
            "제목: 초<b>거대</b> AI인프라 필요한 시대…그래서 머스크도 오라클 택했죠\n",
            "URL: https://n.news.naver.com/mnews/article/009/0005539547?sid=105\n",
            "내용: 이번 협력을 통해 오라클은 OCI의 생성형 AI 서비스로 xAI가 개발한 초<b>거대 언어모델</b> '그록'을 제공 중이다. 최근 매일경제와 인터뷰에 나선 페데리코 토레티 오라클 AI 및 머신러닝 제품 부문 시니어 디렉터는 &quot;코히어... \n",
            "---\n",
            "제목: SK텔레콤, ‘풀스택 AI’로 승부수… &quot;생태계 열린 초<b>거대</b> <b>모델</b> 만들 것...\n",
            "URL: https://n.news.naver.com/mnews/article/011/0004519214?sid=105\n",
            "내용: 목표는 국내 기존 <b>거대언어모델</b>(LLM)을 뛰어넘는 초거대 AI 모델을 개발해 모든 국민이 활용 가능한 AI 에이전트를 구현하고, 사무·제조·자동차·게임·로봇 등 핵심 산업에서 혁신을 주도하는 것이다. 조 담당은... \n",
            "---\n",
            "제목: DGIST 학생창업기업 유니바, '초<b>거대</b> AI 확산 생태계 조성 사업' 선정\n",
            "URL: https://n.news.naver.com/mnews/article/008/0005233525?sid=105\n",
            "내용: 이번 과제는 초<b>거대 언어모델</b>의 핵심 기능인 '단계적 사고(Chain-of-Thought, CoT)'를 제조 및 물류 산업에 접목하는 것을 목표로 하고 있다. 협동 및 물류 로봇이 인지-판단-실행의 전 과정을 자율적으로 수행할 수 있도록... \n",
            "---\n",
            "제목: [국가대표AI⑤업스테이지] 최강의 AI스타트업…독자 <b>모델</b>로 승부\n",
            "URL: https://www.insightkorea.co.kr/news/articleView.html?idxno=230252\n",
            "내용: 자체 개발한 초<b>거대언어모델</b>(LLM) '솔라'와 AI 기반 광학문자인식(OCR) 문서 처리 기술 '도큐먼트 파스(DP)'를 통해 글로벌 시장에서 기술력을 인정받고 있다. 업스테이지가 지난달 초 선보인 신규 AI 모델 '솔라 프로 2'는... \n",
            "---\n",
            "제목: NIA·인공지능안전연구소, AI <b>모델</b> 안전성 확보 시동\n",
            "URL: https://it.chosun.com/news/articleView.html?idxno=2023092145466\n",
            "내용: 한국지능정보사회진흥원(NIA, 원장 황종성)은 인공지능(AI) 모델의 안전성 및 신뢰성 평가 기반 구축을 위한 '<b>거대언어모델</b>(LLM) 안전성 및 신뢰성 평가 데이터셋 구축' 사업 착수보고회를 NIA 서울사무소에서... \n",
            "---\n",
            "제목: &quot;GPT도 긴장해야 할 판&quot;…알리바바, AI 코딩 <b>모델</b> '큐원3-코더' 공개\n",
            "URL: https://n.news.naver.com/mnews/article/015/0005166477?sid=105\n",
            "내용: 큐원3-코더는 알리바바 산하 큐원 팀이 개발한 <b>거대언어모델</b>(LLM)이다. 총 4800억개의 매개변수 중 매 토큰마다 350억 개만 선택적으로 활성화하는 전문가 혼합(MoE) 구조가 적용돼 있어 성능 저하 없이 연산 효율을 크게... \n",
            "---\n",
            "제목: NIA, AI<b>모델</b> 안정성·공공 클라우드·플랫폼 이용지원 '종횡무진'\n",
            "URL: https://daily.hankooki.com/news/articleView.html?idxno=1255289\n",
            "내용: 같은날 NIA는 인공지능안전연구소와 <b>거대언어모델</b>(LLM) 안전성 및 신뢰성 평가 데이터 구축 사업 착수보고회를 진행했다. 이 사업은 과기정통부의 '독자 AI 파운데이션 모델 프로젝트'를 통해 구축되는 AI모델 등에 대한... \n",
            "---\n",
            "제목: 카카오, 'GPT4-o' 맞먹는 멀티모달 <b>모델</b> 내달 공개…음성 데이터부터 직...\n",
            "URL: https://n.news.naver.com/mnews/article/030/0003340725?sid=101\n",
            "내용: “다음 달 열릴 예정인 카카오 개발자 행사 '이프 카카오(if kakao)'에서 새로운 멀티모달 생성형 인공지능(AI) 모델인 '카나나-o(Kanana o)'를 공개할 예정입니다.” 노병석 카카오 멀티모달 <b>거대언어모델</b>(LLM) 코어 리더는... \n",
            "---\n",
            "제목: 아마존, 베드록에 오픈AI 최신 <b>모델</b> 적용\n",
            "URL: https://n.news.naver.com/mnews/article/092/0002384952?sid=105\n",
            "내용: 특히, 베드록은 아마존 자체 모델 뿐만 아니라 다른 기업의 초<b>거대언어모델</b>(LLM)에도 편리하게 접근할 수 있도록 했다. 뿐만 아니라 아마존은 오픈AI의 대항마로 불리는 엔트로픽과도 협력 중이며 엔트로픽에 80억... \n",
            "---\n",
            "제목: DGIST 학생창업기업 ㈜유니바, 초<b>거대</b> AI 확산 생태계 조성 사업 선정\n",
            "URL: https://n.news.naver.com/mnews/article/088/0000963650?sid=102\n",
            "내용: 이 과제는 초<b>거대 언어모델</b>의 핵심 기능인 '단계적 사고'(CoT)를 제조 및 물류 산업에 접목하는 것을 목표로 하고 있으며, 협동 및 물류 로봇이 인지-판단-실행의 전 과정을 자율적으로 수행할 수 있도록 고품질 학습... \n",
            "---\n",
            "제목: DGIST 학생창업기업 ‘유니바’…초<b>거대</b> AI 확산 생태계 조성사업 선정\n",
            "URL: https://n.news.naver.com/mnews/article/016/0002511850?sid=105\n",
            "내용: 이 과제는 초<b>거대 언어모델</b>의 핵심 기능인 ‘단계적 사고(Chain-of-Thought, CoT)’를 제조 및 물류 산업에 접목하는 것을 목표로 하고 있으며, 협동 및 물류 로봇이 인지-판단-실행의 전 과정을 자율적으로 수행할 수... \n",
            "---\n",
            "제목: DGIST 학생창업기업 '유니바', '초<b>거대</b> AI확산 생태계조성 사업' 선정\n",
            "URL: https://n.news.naver.com/mnews/article/277/0005634597?sid=102\n",
            "내용: 이 과제는 초<b>거대 언어모델</b>의 핵심 기능인 '단계적 사고(Chain-of-Thought, CoT)'를 제조 및 물류 산업에 접목하는 것을 목표로 하고 있으며, 협동 및 물류 로봇이 인지-판단-실행의 전 과정을 자율적으로 수행할 수... \n",
            "---\n",
            "제목: DGIST 학생창업기업 ㈜유니바, 초<b>거대</b> AI 확산 생태계 조성 사업 선정\n",
            "URL: https://edu.donga.com/news/articleView.html?idxno=93160\n",
            "내용: 본 과제는 초<b>거대 언어모델</b>의 핵심 기능인 '단계적 사고(Chain-of-Thought, CoT)'를 제조 및 물류 산업에 접목하는 것을 목표로 하고 있으며, 협동 및 물류 로봇이 인지-판단-실행의 전 과정을 자율적으로 수행할 수... \n",
            "---\n",
            "\n",
            "**제목:** 초거대 AI 시대, 한국의 AI 기술 경쟁력 강화\n",
            "\n",
            "**본문:**  \n",
            "최근 한국에서 초거대 AI(인공지능) 기술 개발이 활발히 진행되고 있으며, 여러 기업과 기관들이 이 분야에서 경쟁력을 강화하고 있습니다. 대형 언어 모델(LLM)의 발전으로 인해 AI는 인간보다 더 많은 정보를 처리하고, 실시간으로 지식을 공유하는 '초거대 집단지성'으로 진화하고 있습니다. 이러한 변화는 AI의 활용 범위를 넓히고 있으며, 다양한 산업에 혁신을 가져올 것으로 기대됩니다.\n",
            "\n",
            "네이버는 자체 개발한 LLM '하이퍼클로바X'를 통해 AI 기술의 선두주자로 자리매김하고 있으며, 데이터센터와 클라우드 인프라를 포함한 풀스택 역량을 갖춘 컨소시엄을 구성하고 있습니다. 이와 함께, SK텔레콤은 기존 LLM의 규모를 뛰어넘는 초거대 AI 모델 개발에 도전하고 있으며, 모든 국민이 활용할 수 있는 AI 에이전트를 구현할 계획입니다.\n",
            "\n",
            "또한, DGIST와 같은 연구기관들은 초거대 AI의 핵심 기능인 단계적 사고(Chain-of-Thought, CoT)를 제조 및 물류 산업에 접목하는 프로젝트를 진행하고 있습니다. 이러한 기술들은 협동 및 물류 로봇이 자율적으로 작업을 수행할 수 있도록 지원할 것입니다.\n",
            "\n",
            "AI의 발전은 공공 부문에서도 큰 변화를 가져오고 있습니다. 과학기술정보통신부와 행정안전부는 범정부 초거대 AI 공통기반 구축을 목표로 하고 있으며, 이를 통해 공공기관의 업무 효율성을 높이고 있습니다. \n",
            "\n",
            "이처럼 한국은 초거대 AI 기술 개발에 박차를 가하고 있으며, 글로벌 AI 시장에서의 경쟁력을 더욱 강화하고 있습니다. 앞으로의 AI 기술 발전이 기대되는 가운데, 이러한 변화가 우리 사회에 미칠 긍정적인 영향에 대한 논의가 필요합니다.\n",
            "\n",
            "**관련 링크:**  \n",
            "- [수백만 AI ‘초거대 집단지성’…인간 통제될까?](https://n.news.naver.com/mnews/article/015/0005171395?sid=105)  \n",
            "- [소버린 AI 원조, 독자LLM 모델 가진 네이버가 국가대표 AI](https://n.news.naver.com/mnews/article/023/0003923143?sid=105)  \n",
            "- [K-AI 따낸 SKT 어벤저스… \"국내 LLM 뛰어넘는 초거대AI 개발\"](https://n.news.naver.com/mnews/article/003/0013402531?sid=105)  \n",
            "- [DGIST 유니바, 초거대 AI 확산 생태계 조성 사업에 선정](https://n.news.naver.com/mnews/article/003/0013410870?sid=102)  \n",
            "- [AI가 부동산 등기 대신해줄까…범정부 초거대 AI '시동'](https://n.news.naver.com/mnews/article/293/0000071167?sid=105)  None"
          ]
        }
      ],
      "source": [
        "query = '거대 언어 모델'\n",
        "result = get_news(query)\n",
        "\n",
        "result = news_bot_stream([\n",
        "    {\n",
        "        \"role\": \"user\",\n",
        "        \"content\": result\n",
        "    },\n",
        "    {\n",
        "        \"role\": \"user\",\n",
        "        \"content\": \"\"\"\n",
        "위 전체 내용을 종합하여 뉴스 리포팅을 해줘.\n",
        "관련 링크를 추가해줘\n",
        "---\n",
        "'제목':\n",
        "'본문':\n",
        "        \"\"\"\n",
        "    }\n",
        "])\n",
        "\n",
        "for chunk in result:\n",
        "    print(chunk.choices[0].delta.content, end='')"
      ]
    },
    {
      "cell_type": "markdown",
      "id": "72c46e8a",
      "metadata": {
        "id": "72c46e8a"
      },
      "source": [
        "이와 같은 스트리밍은 LLM 어플리케이션의 마지막 출력에서 사용하면    \n",
        "사용자 경험을 향상시킬 수 있습니다."
      ]
    },
    {
      "cell_type": "code",
      "execution_count": null,
      "id": "2G5_lmDnXXF7",
      "metadata": {
        "id": "2G5_lmDnXXF7"
      },
      "outputs": [],
      "source": []
    },
    {
      "cell_type": "markdown",
      "id": "d34bf6c6",
      "metadata": {
        "id": "d34bf6c6"
      },
      "source": [
        "<br><br><br>\n",
        "## Tool(과거 Function Call) : 커스텀 함수 사용하기\n",
        "만약 query를 명시적으로 지정하지 않고, 사용자의 질문에 따라 관련 query를 추출하고,  \n",
        "이를 통해 검색하게 할 수도 있을까요?    \n",
        "\n",
        "`Tool Calling` 를 추가하면 이를 수행할 수 있습니다.    \n",
        "\n",
        "Web_Search라는 이름의 툴을 만들고, 이를 `get_html`과 연결하겠습니다.\n",
        "\n",
        "-------\n"
      ]
    },
    {
      "cell_type": "code",
      "execution_count": 13,
      "id": "MwUHmvcyetyZ",
      "metadata": {
        "id": "MwUHmvcyetyZ"
      },
      "outputs": [
        {
          "name": "stdout",
          "output_type": "stream",
          "text": [
            "[{'function': {'description': 'query를 이용하여 뉴스 검색',\n",
            "               'name': 'web_search',\n",
            "               'parameters': {'description': 'query를 이용하여 뉴스 검색',\n",
            "                              'properties': {'query': {'description': '검색 키워드\\n'\n",
            "                                                                      '규칙:\\n'\n",
            "                                                                      '1. 최대 '\n",
            "                                                                      '2개 단어로 '\n",
            "                                                                      '구성\\n'\n",
            "                                                                      '2. 불필요한 '\n",
            "                                                                      '조사나 형용사 '\n",
            "                                                                      '제외\\n'\n",
            "                                                                      '3. 핵심 '\n",
            "                                                                      '명사만 포함\\n'\n",
            "                                                                      '\\n'\n",
            "                                                                      '예시:\\n'\n",
            "                                                                      '- (좋음) '\n",
            "                                                                      '\"개봉영화\", '\n",
            "                                                                      '\"영화\"\\n'\n",
            "                                                                      '- (나쁨) '\n",
            "                                                                      '\"새로 개봉한 '\n",
            "                                                                      '영화\", '\n",
            "                                                                      '\"요즘 '\n",
            "                                                                      '인기있는 '\n",
            "                                                                      '영화\"\\n',\n",
            "                                                       'title': 'Query',\n",
            "                                                       'type': 'string'}},\n",
            "                              'required': ['query'],\n",
            "                              'title': 'WebSearchInput',\n",
            "                              'type': 'object'}},\n",
            "  'type': 'function'}]\n"
          ]
        }
      ],
      "source": [
        "from pydantic import BaseModel, Field\n",
        "\n",
        "# 1. Pydantic 모델 정의\n",
        "class WebSearchInput(BaseModel):\n",
        "    \"\"\"query를 이용하여 뉴스 검색\"\"\"\n",
        "    query: str = Field(\n",
        "        description=\"\"\"검색 키워드\n",
        "규칙:\n",
        "1. 최대 2개 단어로 구성\n",
        "2. 불필요한 조사나 형용사 제외\n",
        "3. 핵심 명사만 포함\n",
        "\n",
        "예시:\n",
        "- (좋음) \"개봉영화\", \"영화\"\n",
        "- (나쁨) \"새로 개봉한 영화\", \"요즘 인기있는 영화\"\n",
        "\"\"\"\n",
        "    )\n",
        "\n",
        "# 2. Function tool 수동 정의\n",
        "tools = [\n",
        "    {\n",
        "        \"type\": \"function\",\n",
        "        \"function\": {\n",
        "            \"name\": \"web_search\",\n",
        "            \"description\": \"query를 이용하여 뉴스 검색\",\n",
        "            \"parameters\": WebSearchInput.model_json_schema()  # Pydantic v2 대응\n",
        "        }\n",
        "    }\n",
        "]\n",
        "\n",
        "# 확인\n",
        "from pprint import pprint\n",
        "pprint(tools)\n"
      ]
    },
    {
      "cell_type": "markdown",
      "id": "si2yTeBWe3LV",
      "metadata": {
        "id": "si2yTeBWe3LV"
      },
      "source": [
        "Tool 정보가 포함된 gpt는 함수의 구조와 설명을 이용하여 어떤 함수를 써야 하는지를 판단합니다.\n",
        "\n",
        "직접적으로 실행하는 것은 아니지만, 결과를 활용하면 해당 함수를 바로 사용할 수 있습니다."
      ]
    },
    {
      "cell_type": "code",
      "execution_count": 20,
      "id": "c8465bc2",
      "metadata": {
        "id": "c8465bc2"
      },
      "outputs": [],
      "source": [
        "from openai import OpenAI\n",
        "from pydantic import BaseModel, Field\n",
        "\n",
        "client = OpenAI()\n",
        "\n",
        "def news_bot_v2(messages, stream=False, model='gpt-4o'):\n",
        "\n",
        "    # 1. Pydantic 모델 정의\n",
        "    class WebSearchInput(BaseModel):\n",
        "        \"\"\"query를 이용하여 뉴스 검색\"\"\"\n",
        "        query: str = Field(description=\"\"\"\n",
        "검색 키워드\n",
        "규칙:\n",
        "1. 최대 2개 단어로 구성\n",
        "2. 불필요한 조사나 형용사 제외\n",
        "3. 핵심 명사만 포함\n",
        "\n",
        "예시:\n",
        "- (좋음) \"영화\"\n",
        "- (나쁨) \"새로 개봉한 영화\", \"요즘 인기있는 영화\"\n",
        "\"\"\")\n",
        "\n",
        "    # 2. tool 수동 정의\n",
        "    tools = [\n",
        "        {\n",
        "            \"type\": \"function\",\n",
        "            \"function\": {\n",
        "                \"name\": \"web_search\",\n",
        "                \"description\": \"query를 이용하여 뉴스 검색\",\n",
        "                \"parameters\": WebSearchInput.model_json_schema()\n",
        "            }\n",
        "        }\n",
        "    ]\n",
        "\n",
        "    # 3. chat completion 호출\n",
        "    response = client.chat.completions.create(\n",
        "        model=model,\n",
        "        messages=messages,\n",
        "        tools=tools,\n",
        "        tool_choice='auto',\n",
        "        temperature=0.1,\n",
        "        max_tokens=1024,\n",
        "        stream=stream\n",
        "    )\n",
        "\n",
        "    # 4. 결과 리턴\n",
        "    return response if stream else response.choices[0].message\n"
      ]
    },
    {
      "cell_type": "code",
      "execution_count": 21,
      "id": "_vzJwQWN5QY7",
      "metadata": {
        "id": "_vzJwQWN5QY7"
      },
      "outputs": [
        {
          "data": {
            "text/plain": [
              "ChatCompletionMessage(content='안녕하세요! 날씨가 좋다니 기분이 좋으시겠어요. 오늘 하루도 즐겁게 보내세요! 혹시 도움이 필요하신 부분이 있으면 말씀해 주세요.', refusal=None, role='assistant', annotations=[], audio=None, function_call=None, tool_calls=None)"
            ]
          },
          "execution_count": 21,
          "metadata": {},
          "output_type": "execute_result"
        }
      ],
      "source": [
        "# tool 사용 필요 없음\n",
        "result = news_bot_v2([\n",
        "    {\n",
        "        \"role\": \"user\",\n",
        "        \"content\": \"\"\"안녕하세요! 오늘 날씨가 좋네요.\"\"\"\n",
        "    }\n",
        "])\n",
        "\n",
        "result"
      ]
    },
    {
      "cell_type": "code",
      "execution_count": 22,
      "id": "34500980",
      "metadata": {
        "id": "34500980"
      },
      "outputs": [
        {
          "name": "stdout",
          "output_type": "stream",
          "text": [
            "ChatCompletionMessage(content=None, refusal=None, role='assistant', annotations=[], audio=None, function_call=None, tool_calls=[ChatCompletionMessageFunctionToolCall(id='call_GGADRSr4LBl7ansgLjqAoKZY', function=Function(arguments='{\"query\":\"영화 개봉\"}', name='web_search'), type='function')])\n"
          ]
        }
      ],
      "source": [
        "# tool 사용 필요함\n",
        "\n",
        "tool_call_result = news_bot_v2([\n",
        "    {\n",
        "        \"role\": \"user\",\n",
        "        \"content\": \"\"\"\n",
        "요즘 새로 개봉한 영화는 무엇이 있나요?\n",
        "\"\"\"\n",
        "    }\n",
        "])\n",
        "\n",
        "print(tool_call_result)"
      ]
    },
    {
      "cell_type": "markdown",
      "id": "7_TO3a-cbVaO",
      "metadata": {
        "id": "7_TO3a-cbVaO"
      },
      "source": [
        "Tool Call 메시지는 content 대신 tool_calls로 전달됩니다."
      ]
    },
    {
      "cell_type": "code",
      "execution_count": 23,
      "id": "bLOhNEPiZcWB",
      "metadata": {
        "id": "bLOhNEPiZcWB"
      },
      "outputs": [
        {
          "data": {
            "text/plain": [
              "[ChatCompletionMessageFunctionToolCall(id='call_GGADRSr4LBl7ansgLjqAoKZY', function=Function(arguments='{\"query\":\"영화 개봉\"}', name='web_search'), type='function')]"
            ]
          },
          "execution_count": 23,
          "metadata": {},
          "output_type": "execute_result"
        }
      ],
      "source": [
        "tool_call_result.tool_calls"
      ]
    },
    {
      "cell_type": "code",
      "execution_count": 24,
      "id": "aqN-uIqeV6mC",
      "metadata": {
        "id": "aqN-uIqeV6mC"
      },
      "outputs": [
        {
          "data": {
            "text/plain": [
              "('call_GGADRSr4LBl7ansgLjqAoKZY', 'web_search', '{\"query\":\"영화 개봉\"}')"
            ]
          },
          "execution_count": 24,
          "metadata": {},
          "output_type": "execute_result"
        }
      ],
      "source": [
        "(tool_call_result.tool_calls[0].id,\n",
        "tool_call_result.tool_calls[0].function.name,\n",
        "tool_call_result.tool_calls[0].function.arguments)"
      ]
    },
    {
      "cell_type": "markdown",
      "id": "eGFDzYvif2u6",
      "metadata": {
        "id": "eGFDzYvif2u6"
      },
      "source": [
        "LLM이 스스로 판단하여, 실행할 함수의 정보를 `tool_calls`에 돌려줍니다."
      ]
    },
    {
      "cell_type": "markdown",
      "id": "kcw0x1ULbh0I",
      "metadata": {
        "id": "kcw0x1ULbh0I"
      },
      "source": [
        "tool_calls의 구성 요소는 다음과 같습니다.\n",
        "- id: tool call의 id로, 해당 id에 실행 결과를 연결할 수 있습니다.\n",
        "- function : arguments와 name을 통해 실행할 툴의 이름과 매개변수를 전달합니다.\n",
        "<br><br>\n",
        "\n",
        "\n",
        "tool_calls의 결과를 임의로 포함하여 전달해 보겠습니다.   \n",
        "`tool`타입의 메시지로 전달해야 합니다."
      ]
    },
    {
      "cell_type": "code",
      "execution_count": 25,
      "id": "TeFixgQUY7F7",
      "metadata": {
        "id": "TeFixgQUY7F7"
      },
      "outputs": [
        {
          "data": {
            "text/plain": [
              "ChatCompletionMessage(content='요즘 새로 개봉한 영화로는 \"청설\", \"보통의 가족\", \"아노라\", \"아마존 활명수\", \"베놈: 라스트 댄스\" 등이 있습니다.', refusal=None, role='assistant', annotations=[], audio=None, function_call=None, tool_calls=None)"
            ]
          },
          "execution_count": 25,
          "metadata": {},
          "output_type": "execute_result"
        }
      ],
      "source": [
        "result = news_bot_v2([\n",
        "    {\n",
        "        \"role\": \"user\",\n",
        "        \"content\": \"\"\"\n",
        "요즘 새로 개봉한 영화는 무엇이 있나요?\n",
        "\"\"\"\n",
        "    },\n",
        "    tool_call_result, # tool_calls 메시지\n",
        "    {\n",
        "        \"role\": \"tool\",\n",
        "        \"content\": \"\"\"\n",
        "청설, 보통의 가족, 아노라, 아마존 활명수, 베놈:라스트 댄스\n",
        "\"\"\",\n",
        "        \"tool_call_id\":tool_call_result.tool_calls[0].id\n",
        "    }\n",
        "])\n",
        "\n",
        "result"
      ]
    },
    {
      "cell_type": "markdown",
      "id": "-lBwdy_f5vMA",
      "metadata": {
        "id": "-lBwdy_f5vMA"
      },
      "source": [
        "이번에는 실제 함수를 실행하여 전달해 보겠습니다."
      ]
    },
    {
      "cell_type": "code",
      "execution_count": 26,
      "id": "85f007da",
      "metadata": {
        "id": "85f007da"
      },
      "outputs": [
        {
          "data": {
            "text/plain": [
              "('web_search', '{\"query\":\"영화 개봉\"}')"
            ]
          },
          "execution_count": 26,
          "metadata": {},
          "output_type": "execute_result"
        }
      ],
      "source": [
        "tool_call_result.tool_calls[0].function.name, tool_call_result.tool_calls[0].function.arguments"
      ]
    },
    {
      "cell_type": "markdown",
      "id": "dTJGyyWs6D4e",
      "metadata": {
        "id": "dTJGyyWs6D4e"
      },
      "source": [
        "함수명과 함수에 전달할 매개변수값이 주어지면, 아래와 같이 함수를 불러올 수 있습니다."
      ]
    },
    {
      "cell_type": "code",
      "execution_count": 27,
      "id": "-dHIEPJe6DpO",
      "metadata": {
        "id": "-dHIEPJe6DpO"
      },
      "outputs": [
        {
          "name": "stdout",
          "output_type": "stream",
          "text": [
            "{'query': 'LLM'}\n",
            "<class 'dict'>\n"
          ]
        }
      ],
      "source": [
        "# 문자열을 Dict로 바꾸기\n",
        "import json\n",
        "\n",
        "example = '{\"query\":\"LLM\"}'\n",
        "example_dict = json.loads(example)\n",
        "# json으로 변환\n",
        "\n",
        "print(example_dict)\n",
        "print(type(example_dict))\n",
        "\n"
      ]
    },
    {
      "cell_type": "code",
      "execution_count": 28,
      "id": "jFXaG0Gy6dHw",
      "metadata": {
        "id": "jFXaG0Gy6dHw"
      },
      "outputs": [
        {
          "data": {
            "text/plain": [
              "<function __main__.get_news(query)>"
            ]
          },
          "execution_count": 28,
          "metadata": {},
          "output_type": "execute_result"
        }
      ],
      "source": [
        "# 함수이름 문자열을 함수로 바꾸기\n",
        "\n",
        "available_functions = {'Web_Search': get_news}\n",
        "\n",
        "available_functions['Web_Search']"
      ]
    },
    {
      "cell_type": "code",
      "execution_count": 29,
      "id": "jHBnRR_v72Yi",
      "metadata": {
        "id": "jHBnRR_v72Yi"
      },
      "outputs": [
        {
          "data": {
            "text/plain": [
              "3"
            ]
          },
          "execution_count": 29,
          "metadata": {},
          "output_type": "execute_result"
        }
      ],
      "source": [
        "# Dictionary를 함수의 매개변수로 전달하기\n",
        "\n",
        "def f(a,b):\n",
        "  return a + b\n",
        "\n",
        "example2 = {'a': 1, 'b': 2}\n",
        "\n",
        "f(**example2)\n"
      ]
    },
    {
      "cell_type": "code",
      "execution_count": 30,
      "id": "w_qW36Y26qS4",
      "metadata": {
        "id": "w_qW36Y26qS4"
      },
      "outputs": [
        {
          "name": "stdout",
          "output_type": "stream",
          "text": [
            "제목: “소버린 AI 원조, 독자<b>LLM</b> 모델 가진 네이버가 국가대표 AI”\n",
            "URL: https://n.news.naver.com/mnews/article/023/0003923143?sid=105\n",
            "내용: 이미 자체 거대언어모델(<b>LLM</b>) ‘하이퍼클로바X’를 내놓았고, 데이터센터, 클라우드, 모델, 서비스까지... 거대언어모델(<b>LLM</b>)을 발표했고 소버린 AI라는 표현을 가장 먼저 사용한 기업도 네이버”라고 했다. 이번... \n",
            "---\n",
            "제목: <b>LLM</b>의 시대, 인간의 시대\n",
            "URL: https://www.lawtimes.co.kr/opinion/210528\n",
            "내용: 메타발 인재 쓸어담기 열풍에 전 세계 AI 뒤처질까 불안 고조 <b>LLM</b> 기반 초지능 실현은 회의적 딥러닝 구조... 언어모델(<b>LLM</b>)에 천착한다. 그러나 나는 <b>LLM</b>이 초지능이 될 수 없다고 생각한다. 그리고 <b>LLM</b>을 개발하기 위해... \n",
            "---\n",
            "제목: 한국형 경량 <b>LLM</b>, AI 생존 전략 실마리되나\n",
            "URL: https://n.news.naver.com/mnews/article/030/0003341071?sid=105\n",
            "내용: 대규모언어모델(<b>LLM</b>)이 한국의 글로벌 AI 생존 전략에서 새로운 선택지로 부상하고 있다. 최근 국내 한 스타트업이 공개한 31B(310억) 파라미터급 경량 <b>LLM</b>은 일부 주요 벤치마크 과제에서 GPT-4.1, 클로드 3.7 등 대형 모델을... \n",
            "---\n",
            "제목: SK하이닉스에 'AI 홍반장' 떴다\n",
            "URL: https://n.news.naver.com/mnews/article/009/0005541845?sid=101\n",
            "내용: 현재까지 가이아를 기반으로 만들어진 생성형 AI 서비스는 '비즈(Biz) 특화' '엘엘엠 챗(<b>LLM</b> Chat)' '에이닷... <b>LLM</b> Chat은 사내 모든 직원이 이용할 수 있는 SK하이닉스 전용 챗GPT 서비스라고 생각하면 된다. 회사 보안망... \n",
            "---\n",
            "제목: SK하이닉스, 반도체 업무 특화 생성형 AI 플랫폼 공개\n",
            "URL: https://n.news.naver.com/mnews/article/001/0015565895?sid=101\n",
            "내용: 가이아 플랫폼은 비즈(Biz) 특화, <b>LLM</b> Chat(거대언어모델 챗), 에이닷 비즈(A. BBiz) 등 세 가지 생성형 AI... 이달 초에는 전사 구성원 대상으로 SK하이닉스 전용 챗GPT 서비스 '<b>LLM</b> Chat'을 베타 오픈했다. 사내 보안망으로... \n",
            "---\n",
            "제목: SK하이닉스, 자체 업무용 생성형 AI 플랫폼 '가이아' 공개\n",
            "URL: https://n.news.naver.com/mnews/article/031/0000957229?sid=105\n",
            "내용: 이달 초에는 전사 구성원 대상 챗봇 서비스 '<b>LLM</b> 챗(<b>LLM</b> Chat)'을 베타 오픈했다. 사내 데이터 및 지식을 기반으로 질의응답 서비스로 업무를 효율화할 수 있다. 이외에도 SK텔레콤과 협력해 범용·전문 업무를 모두... \n",
            "---\n",
            "제목: [인터뷰] 김계관 그리드원 대표 &quot;<b>LLM</b> 만능 아냐…현장 맞춤 AI가 답이다...\n",
            "URL: https://n.news.naver.com/mnews/article/092/0002386206?sid=105\n",
            "내용: 거대언어모델(<b>LLM</b>)의 발전에도 불구하고 복잡한 비정형 데이터 처리나 실행 단계에서의 한계는 여전하다.... &quot;<b>LLM</b>이 만능은 아니다&quot;…그리드원, 도메인 특화 전략 속도 김 대표는 <b>LLM</b>이 전지전능한 해답이 될 수 없으며... \n",
            "---\n",
            "제목: SK하이닉스, '반도체 특화' 생성형 AI 플랫폼 공개\n",
            "URL: https://n.news.naver.com/mnews/article/079/0004055766?sid=101\n",
            "내용: 가이아 플랫폼은 비즈(Biz) 특화, <b>LLM</b> Chat(거대언어모델 챗), 에이닷 비즈(A. BBiz) 등 세 가지 생성형 AI... 이달 초에는 전사 구성원 대상으로 SK하이닉스 전용 챗GPT 서비스 '<b>LLM</b> Chat'을 베타 오픈했다. 사내 보안망으로... \n",
            "---\n",
            "제목: SK하이닉스, 생성형 AI 플랫폼 '가이아' 공개…&quot;AI 전환으로 혁신&quot;\n",
            "URL: https://n.news.naver.com/mnews/article/421/0008428143?sid=101\n",
            "내용: 이달 초에는 전사 구성원 대상으로 챗지피티와 유사한 '<b>LLM</b> 챗'을 베타 오픈했다. <b>LLM</b> 챗을 이용하면 사내 보안망으로 안전하게 접속해 사내 데이터·지식 기반의 질의응답 서비스로 업무를 효율화할 수 있다. 또... \n",
            "---\n",
            "제목: [한국의 AI] 네이버의 목표 '개인 데이터 주권 지키는 AI 에이전트 플랫...\n",
            "URL: https://n.news.naver.com/mnews/article/293/0000071132?sid=105\n",
            "내용: 오픈AI를 필두로 한 글로벌 빅테크들이 대규모언어모델(<b>LLM</b>)의 크기를 자랑하던 시기에 '하이퍼클로바'를... 유용한 AI서비스의 기반은 <b>LLM</b>이기 때문이다. 지도·검색·커머스 등에 특화된 AI를 만들려면 <b>LLM</b>을 바탕으로 특정... \n",
            "---\n",
            "제목: 에이엘티, 국산 <b>LLM</b> 적용 차세대 AI 단말기 개발\n",
            "URL: https://n.news.naver.com/mnews/article/003/0013416380?sid=101\n",
            "내용: IBKS제21호스팩과 합병을 추진 중인 에이엘티(ALT)는 국내 대기업 거대언어모델(<b>LLM</b>)을 적용한 차세대... 신제품은 국산 <b>LLM</b>이 적용돼 AI 에이전트 기능이 구현된 게 특징이다. AI 에이전트는 사용자 명령, 질문을 이해하고... \n",
            "---\n",
            "제목: 엔터프라이즈 <b>LLM</b> 코히어, 68억달러 가치로 5억달러 투자 유치\n",
            "URL: https://www.digitaltoday.co.kr/news/articleView.html?idxno=585332\n",
            "내용: 주도했고 AMD 벤처스, 엔비디아, 세일즈포스 벤처스도 참여했다. 캐나다 연금펀드인 HOOPP도 새롭게 합류했다. 코히어는 엔터프라이즈에 초점을 맞춘 <b>LLM</b>을 개발하고 있다. 오라클, 델, SAP, LG CNS 등과 협력하고 있다.\n",
            "---\n",
            "제목: SK하이닉스, 반도체 업무 특화 생성형 AI 플랫폼 개발\n",
            "URL: https://n.news.naver.com/mnews/article/030/0003340995?sid=105\n",
            "내용: 이달 초에는 전사 구성원 대상으로 SK하이닉스용 챗GPT 서비스 '<b>LLM</b> 챗'도 베타 오픈했다. <b>LLM</b> 챗을 이용하면 사내 보안망으로 안전하게 접속해, 사내 데이터 및 지식 기반의 질의응답 서비스로 업무 효율을 높일 수... \n",
            "---\n",
            "제목: 반도체와 AI의 결합... SK하이닉스 'GaiA' 플랫폼 본격 가동\n",
            "URL: https://www.insight.co.kr/news/515944\n",
            "내용: 지난 8월 초에는 전사 구성원을 대상으로 SK하이닉스 맞춤형 ChatGPT 서비스인 '<b>LLM</b> Chat'을 베타 오픈했습니다. 임직원들은 <b>LLM</b> Chat을 통해 사내 보안망으로 안전하게 접속하여, 사내 데이터 및 지식 기반의 질의응답... \n",
            "---\n",
            "제목: &quot;소버린AI 원조가 우리&quot;…네이버클라우드의 이유 있는 자신감 [K-AI 인터...\n",
            "URL: https://n.news.naver.com/mnews/article/003/0013421465?sid=105\n",
            "내용: 초거대언어모델(<b>LLM</b>) 하이퍼클로바X를 비롯해 데이터센터·클라우드 인프라·AI 플랫폼·애플리케이션·사용자... 기존 <b>LLM</b>의 한계로 지적되는 지리·공간 정보 인식 부족 문제를 보완하는 것이 핵심 목표다. 성낙호 총괄은... \n",
            "---\n",
            "제목: 에이엘티, 국산 <b>LLM</b> 적용 차세대 AI 단말기 개발\n",
            "URL: https://n.news.naver.com/mnews/article/015/0005169747?sid=101\n",
            "내용: IBKS제21호스팩과 합병을 추진 중인 에이엘티(ALT)는 국내 대기업 거대언어모델(<b>LLM</b>)을 적용한 차세대... 신제품은 국산 <b>LLM</b>이 적용돼 AI 에이전트 기능이 구현된 게 특징이다. AI 에이전트는 사용자 명령, 질문을 이해하고... \n",
            "---\n",
            "제목: SK하이닉스, 반도체 특화 생성형AI 플랫폼 '가이아' 공개\n",
            "URL: https://n.news.naver.com/mnews/article/011/0004521002?sid=101\n",
            "내용: 이달 초에는 전사 구성원 대상으로 SK하이닉스 전용 챗GPT 서비스 '<b>LLM</b> 챗'을 베타 오픈했다. 사내 데이터 및... 회사는 2023년부터 네이티브 RAG+<b>LLM</b>(2023), 에이전트 및 작업 도구(2024), 에이전틱 AI(2025), 에이전트... \n",
            "---\n",
            "제목: &quot;에이전틱AI로 병원 감염 대응&quot;...아크릴, 대형 프로젝트 수행\n",
            "URL: https://n.news.naver.com/mnews/article/092/0002386192?sid=105\n",
            "내용: '조나단'은 고객사의 개발 비용과 구축 시간을 70% 이상 단축시키고, GPU 효율화를 통해 <b>LLM</b> 학습 속도를 53% 향상시키는 솔루션으로, '2024년 AI 서비스 어워드'에서 대상을 수상한 바 있다. <b>LLM</b> 중심의 AI 서비스 개발... \n",
            "---\n",
            "제목: SK하이닉스, 반도체 업무 특화 생성형 AI 플랫폼 '가이아' 공개\n",
            "URL: https://n.news.naver.com/mnews/article/374/0000457645?sid=101\n",
            "내용: 가이아 플랫폼은 비즈(Biz) 특화, <b>LLM</b> Chat(거대언어모델 챗), 에이닷 비즈(A. BBiz) 등 세 가지 생성형 AI... 이달 초에는 전사 구성원 대상으로 SK하이닉스 전용 챗GPT 서비스 '<b>LLM</b> Chat'을 베타 오픈했습니다. 사내... \n",
            "---\n",
            "제목: SK하이닉스, 반도체 특화 AI 플랫폼 '가이아' 개발…&quot;혁신 속도&quot;\n",
            "URL: https://n.news.naver.com/mnews/article/018/0006089499?sid=101\n",
            "내용: 이달 초에는 전사 구성원 대상으로 SK하이닉스 향 챗GPT 서비스인 ‘<b>LLM</b> Chat’을 베타 오픈했다. <b>LLM</b> Chat을 이용하면 사내 보안망으로 안전하게 접속해, 사내 데이터 및 지식 기반의 질의응답 서비스로 업무를 효율화할... \n",
            "---\n",
            "제목: SK하이닉스, 사내 AI 플랫폼 '가이아' 공개\n",
            "URL: https://biz.newdaily.co.kr/site/data/html/2025/08/14/2025081400162.html\n",
            "내용: 이달 초에는 사내 보안망에서 안전하게 접속 가능한 질의응답 서비스 '<b>LLM</b> Chat'을 전사 대상으로 베타... 2023년 '네이티브 RAG+<b>LLM</b>'을 시작으로, 2024년 '에이전트 및 작업 도구', 2025년 '에이전틱 AI'와 '에이전트... \n",
            "---\n",
            "제목: 대동로보틱스, 음성인식·<b>LLM</b> 결합한 운반로봇 공개\n",
            "URL: https://n.news.naver.com/mnews/article/014/0005389900?sid=101\n",
            "내용: 대동로보틱스가 음성인식과 대형언어모델(<b>LLM</b>)을 결합한 차세대 운반로봇 개발에 나섰다. 내년 양산을... <b>LLM</b> 기반 대화로 날씨, 작물 재배법, 병해충 정보 등 농업 관련 질의응답도 가능하다. 대동로보틱스는 복잡한 조작... \n",
            "---\n",
            "제목: SK하이닉스, 생성형 AI 로드맵 공개…가이아로 에이전틱 AI·A2A 구현 [인...\n",
            "URL: https://n.news.naver.com/mnews/article/138/0002202726?sid=105\n",
            "내용: SK하이닉스는 14일 가이아를 '반도체 업무 혁신의 토대'로 삼아 AI 기술 진화를 ▲네이티브 RAG+<b>LLM</b>(2023)... 이달 초에는 사내 데이터 기반 질의응답이 가능한 '<b>LLM</b> 챗'도 베타로 선보였으며, SK텔레콤과 공동 개발 중인... \n",
            "---\n",
            "제목: SK하이닉스, 생성형 AI 플랫폼 '가이아' 공개…&quot;반도체 제조 혁신&quot;\n",
            "URL: https://n.news.naver.com/mnews/article/014/0005391579?sid=101\n",
            "내용: 8월 초에는 전사 구성원 대상으로 SK하이닉스 향 챗GPT 서비스인 ‘거대언어모델 챗(<b>LLM</b> Chat)’을 베타 오픈했다. <b>LLM</b> 챗을 이용하면 사내 보안망으로 안전하게 접속해, 사내 데이터 및 지식 기반의 질의응답 서비스로... \n",
            "---\n",
            "제목: 에이엘티, 국산 <b>LLM</b> 적용 차세대 AI 단말기 개발\n",
            "URL: https://n.news.naver.com/mnews/article/018/0006087834?sid=101\n",
            "내용: 거대언어모델(<b>LLM</b>)을 적용한 차세대 인공지능(AI) 미디어 단말기의 공급사로 선정돼 제품을 개발 중이라고... 신제품은 국산 <b>LLM</b>이 적용돼 AI 에이전트 기능이 구현된 것이 특징이다. AI 에이전트는 사용자 명령, 질문을... \n",
            "---\n",
            "제목: [포항소식]포스텍, 학생·일반인 대상 무료 AI교육 개최 등\n",
            "URL: https://n.news.naver.com/mnews/article/003/0013423370?sid=102\n",
            "내용: 교육은 최신 대규모 언어 모델(<b>LLM</b>)과 생성형 비전 모델을 중심으로 기술 이해부터 산업 적용 사례 학습, 제조... 학생 과정은 자율 제조 구현에 필요한 <b>LLM</b> 이해와 데이터 기반 기술 습득에 중점을 둔다. 커리큘럼은 자율... \n",
            "---\n",
            "제목: SK하이닉스, 사내 생성형 AI '가이아' 개발 완료…3개년 로드맵 공개\n",
            "URL: https://n.news.naver.com/mnews/article/277/0005637271?sid=101\n",
            "내용: 이달 초에는 전사 구성원 대상으로 SK하이닉스 향 ChatGPT 서비스인 '<b>LLM</b> Chat(대형언어모델 챗)'을 베타 오픈했다. <b>LLM</b> Chat을 이용하면 사내 보안망으로 안전하게 접속해, 사내 데이터 및 지식 기반의 질의응답 서비스로... \n",
            "---\n",
            "제목: SK하이닉스, 자체 생성형 AI 플랫폼 '가이아'로 업무 혁신\n",
            "URL: https://n.news.naver.com/mnews/article/092/0002386166?sid=105\n",
            "내용: 8월 초에는 전사 구성원 대상으로 SK하이닉스향 ChatGPT 서비스인 ‘<b>LLM</b> Chat’을 베타 오픈했다. <b>LLM</b> Chat을 이용하면 사내 보안망으로 안전하게 접속해, 사내 데이터 및 지식 기반의 질의응답 서비스로 업무를... \n",
            "---\n",
            "제목: 글로벌 AI 패권 전쟁, 한국선택은 분명...“행동으로 답해야!”\n",
            "URL: http://www.breaknews.com/1140690\n",
            "내용: 언어모델(<b>LLM</b>)과의 협업 과정에서 연구 효율을 극대화하고 AI 산업화 속도를... 특히 <b>LLM</b>과 AutoXML 기반의 협업 생태계를 활용하면 데이터 활용 효율을 극대화하고... \n",
            "---\n",
            "제목: 포스텍, 학생·일반인 대상 무료 AI 실무교육\n",
            "URL: https://www.joongdo.co.kr/web/view.php?key=20250814010004695\n",
            "내용: 교육은 최신 대규모 언어 모델(<b>LLM</b>)과 생성형 비전 모델을 중심으로 기술 이해부터 산업 적용 사례 학습... 학생 과정은 자율제조 구현에 필요한 <b>LLM</b> 이해와 데이터 기반 기술 습득에 중점을 둔다. 커리큘럼은 자율제조... \n",
            "---\n",
            "\n"
          ]
        },
        {
          "data": {
            "text/plain": [
              "\"제목: “소버린 AI 원조, 독자<b>LLM</b> 모델 가진 네이버가 국가대표 AI”\\nURL: https://n.news.naver.com/mnews/article/023/0003923143?sid=105\\n내용: 이미 자체 거대언어모델(<b>LLM</b>) ‘하이퍼클로바X’를 내놓았고, 데이터센터, 클라우드, 모델, 서비스까지... 거대언어모델(<b>LLM</b>)을 발표했고 소버린 AI라는 표현을 가장 먼저 사용한 기업도 네이버”라고 했다. 이번... \\n---\\n제목: <b>LLM</b>의 시대, 인간의 시대\\nURL: https://www.lawtimes.co.kr/opinion/210528\\n내용: 메타발 인재 쓸어담기 열풍에 전 세계 AI 뒤처질까 불안 고조 <b>LLM</b> 기반 초지능 실현은 회의적 딥러닝 구조... 언어모델(<b>LLM</b>)에 천착한다. 그러나 나는 <b>LLM</b>이 초지능이 될 수 없다고 생각한다. 그리고 <b>LLM</b>을 개발하기 위해... \\n---\\n제목: 한국형 경량 <b>LLM</b>, AI 생존 전략 실마리되나\\nURL: https://n.news.naver.com/mnews/article/030/0003341071?sid=105\\n내용: 대규모언어모델(<b>LLM</b>)이 한국의 글로벌 AI 생존 전략에서 새로운 선택지로 부상하고 있다. 최근 국내 한 스타트업이 공개한 31B(310억) 파라미터급 경량 <b>LLM</b>은 일부 주요 벤치마크 과제에서 GPT-4.1, 클로드 3.7 등 대형 모델을... \\n---\\n제목: SK하이닉스에 'AI 홍반장' 떴다\\nURL: https://n.news.naver.com/mnews/article/009/0005541845?sid=101\\n내용: 현재까지 가이아를 기반으로 만들어진 생성형 AI 서비스는 '비즈(Biz) 특화' '엘엘엠 챗(<b>LLM</b> Chat)' '에이닷... <b>LLM</b> Chat은 사내 모든 직원이 이용할 수 있는 SK하이닉스 전용 챗GPT 서비스라고 생각하면 된다. 회사 보안망... \\n---\\n제목: SK하이닉스, 반도체 업무 특화 생성형 AI 플랫폼 공개\\nURL: https://n.news.naver.com/mnews/article/001/0015565895?sid=101\\n내용: 가이아 플랫폼은 비즈(Biz) 특화, <b>LLM</b> Chat(거대언어모델 챗), 에이닷 비즈(A. BBiz) 등 세 가지 생성형 AI... 이달 초에는 전사 구성원 대상으로 SK하이닉스 전용 챗GPT 서비스 '<b>LLM</b> Chat'을 베타 오픈했다. 사내 보안망으로... \\n---\\n제목: SK하이닉스, 자체 업무용 생성형 AI 플랫폼 '가이아' 공개\\nURL: https://n.news.naver.com/mnews/article/031/0000957229?sid=105\\n내용: 이달 초에는 전사 구성원 대상 챗봇 서비스 '<b>LLM</b> 챗(<b>LLM</b> Chat)'을 베타 오픈했다. 사내 데이터 및 지식을 기반으로 질의응답 서비스로 업무를 효율화할 수 있다. 이외에도 SK텔레콤과 협력해 범용·전문 업무를 모두... \\n---\\n제목: [인터뷰] 김계관 그리드원 대표 &quot;<b>LLM</b> 만능 아냐…현장 맞춤 AI가 답이다...\\nURL: https://n.news.naver.com/mnews/article/092/0002386206?sid=105\\n내용: 거대언어모델(<b>LLM</b>)의 발전에도 불구하고 복잡한 비정형 데이터 처리나 실행 단계에서의 한계는 여전하다.... &quot;<b>LLM</b>이 만능은 아니다&quot;…그리드원, 도메인 특화 전략 속도 김 대표는 <b>LLM</b>이 전지전능한 해답이 될 수 없으며... \\n---\\n제목: SK하이닉스, '반도체 특화' 생성형 AI 플랫폼 공개\\nURL: https://n.news.naver.com/mnews/article/079/0004055766?sid=101\\n내용: 가이아 플랫폼은 비즈(Biz) 특화, <b>LLM</b> Chat(거대언어모델 챗), 에이닷 비즈(A. BBiz) 등 세 가지 생성형 AI... 이달 초에는 전사 구성원 대상으로 SK하이닉스 전용 챗GPT 서비스 '<b>LLM</b> Chat'을 베타 오픈했다. 사내 보안망으로... \\n---\\n제목: SK하이닉스, 생성형 AI 플랫폼 '가이아' 공개…&quot;AI 전환으로 혁신&quot;\\nURL: https://n.news.naver.com/mnews/article/421/0008428143?sid=101\\n내용: 이달 초에는 전사 구성원 대상으로 챗지피티와 유사한 '<b>LLM</b> 챗'을 베타 오픈했다. <b>LLM</b> 챗을 이용하면 사내 보안망으로 안전하게 접속해 사내 데이터·지식 기반의 질의응답 서비스로 업무를 효율화할 수 있다. 또... \\n---\\n제목: [한국의 AI] 네이버의 목표 '개인 데이터 주권 지키는 AI 에이전트 플랫...\\nURL: https://n.news.naver.com/mnews/article/293/0000071132?sid=105\\n내용: 오픈AI를 필두로 한 글로벌 빅테크들이 대규모언어모델(<b>LLM</b>)의 크기를 자랑하던 시기에 '하이퍼클로바'를... 유용한 AI서비스의 기반은 <b>LLM</b>이기 때문이다. 지도·검색·커머스 등에 특화된 AI를 만들려면 <b>LLM</b>을 바탕으로 특정... \\n---\\n제목: 에이엘티, 국산 <b>LLM</b> 적용 차세대 AI 단말기 개발\\nURL: https://n.news.naver.com/mnews/article/003/0013416380?sid=101\\n내용: IBKS제21호스팩과 합병을 추진 중인 에이엘티(ALT)는 국내 대기업 거대언어모델(<b>LLM</b>)을 적용한 차세대... 신제품은 국산 <b>LLM</b>이 적용돼 AI 에이전트 기능이 구현된 게 특징이다. AI 에이전트는 사용자 명령, 질문을 이해하고... \\n---\\n제목: 엔터프라이즈 <b>LLM</b> 코히어, 68억달러 가치로 5억달러 투자 유치\\nURL: https://www.digitaltoday.co.kr/news/articleView.html?idxno=585332\\n내용: 주도했고 AMD 벤처스, 엔비디아, 세일즈포스 벤처스도 참여했다. 캐나다 연금펀드인 HOOPP도 새롭게 합류했다. 코히어는 엔터프라이즈에 초점을 맞춘 <b>LLM</b>을 개발하고 있다. 오라클, 델, SAP, LG CNS 등과 협력하고 있다.\\n---\\n제목: SK하이닉스, 반도체 업무 특화 생성형 AI 플랫폼 개발\\nURL: https://n.news.naver.com/mnews/article/030/0003340995?sid=105\\n내용: 이달 초에는 전사 구성원 대상으로 SK하이닉스용 챗GPT 서비스 '<b>LLM</b> 챗'도 베타 오픈했다. <b>LLM</b> 챗을 이용하면 사내 보안망으로 안전하게 접속해, 사내 데이터 및 지식 기반의 질의응답 서비스로 업무 효율을 높일 수... \\n---\\n제목: 반도체와 AI의 결합... SK하이닉스 'GaiA' 플랫폼 본격 가동\\nURL: https://www.insight.co.kr/news/515944\\n내용: 지난 8월 초에는 전사 구성원을 대상으로 SK하이닉스 맞춤형 ChatGPT 서비스인 '<b>LLM</b> Chat'을 베타 오픈했습니다. 임직원들은 <b>LLM</b> Chat을 통해 사내 보안망으로 안전하게 접속하여, 사내 데이터 및 지식 기반의 질의응답... \\n---\\n제목: &quot;소버린AI 원조가 우리&quot;…네이버클라우드의 이유 있는 자신감 [K-AI 인터...\\nURL: https://n.news.naver.com/mnews/article/003/0013421465?sid=105\\n내용: 초거대언어모델(<b>LLM</b>) 하이퍼클로바X를 비롯해 데이터센터·클라우드 인프라·AI 플랫폼·애플리케이션·사용자... 기존 <b>LLM</b>의 한계로 지적되는 지리·공간 정보 인식 부족 문제를 보완하는 것이 핵심 목표다. 성낙호 총괄은... \\n---\\n제목: 에이엘티, 국산 <b>LLM</b> 적용 차세대 AI 단말기 개발\\nURL: https://n.news.naver.com/mnews/article/015/0005169747?sid=101\\n내용: IBKS제21호스팩과 합병을 추진 중인 에이엘티(ALT)는 국내 대기업 거대언어모델(<b>LLM</b>)을 적용한 차세대... 신제품은 국산 <b>LLM</b>이 적용돼 AI 에이전트 기능이 구현된 게 특징이다. AI 에이전트는 사용자 명령, 질문을 이해하고... \\n---\\n제목: SK하이닉스, 반도체 특화 생성형AI 플랫폼 '가이아' 공개\\nURL: https://n.news.naver.com/mnews/article/011/0004521002?sid=101\\n내용: 이달 초에는 전사 구성원 대상으로 SK하이닉스 전용 챗GPT 서비스 '<b>LLM</b> 챗'을 베타 오픈했다. 사내 데이터 및... 회사는 2023년부터 네이티브 RAG+<b>LLM</b>(2023), 에이전트 및 작업 도구(2024), 에이전틱 AI(2025), 에이전트... \\n---\\n제목: &quot;에이전틱AI로 병원 감염 대응&quot;...아크릴, 대형 프로젝트 수행\\nURL: https://n.news.naver.com/mnews/article/092/0002386192?sid=105\\n내용: '조나단'은 고객사의 개발 비용과 구축 시간을 70% 이상 단축시키고, GPU 효율화를 통해 <b>LLM</b> 학습 속도를 53% 향상시키는 솔루션으로, '2024년 AI 서비스 어워드'에서 대상을 수상한 바 있다. <b>LLM</b> 중심의 AI 서비스 개발... \\n---\\n제목: SK하이닉스, 반도체 업무 특화 생성형 AI 플랫폼 '가이아' 공개\\nURL: https://n.news.naver.com/mnews/article/374/0000457645?sid=101\\n내용: 가이아 플랫폼은 비즈(Biz) 특화, <b>LLM</b> Chat(거대언어모델 챗), 에이닷 비즈(A. BBiz) 등 세 가지 생성형 AI... 이달 초에는 전사 구성원 대상으로 SK하이닉스 전용 챗GPT 서비스 '<b>LLM</b> Chat'을 베타 오픈했습니다. 사내... \\n---\\n제목: SK하이닉스, 반도체 특화 AI 플랫폼 '가이아' 개발…&quot;혁신 속도&quot;\\nURL: https://n.news.naver.com/mnews/article/018/0006089499?sid=101\\n내용: 이달 초에는 전사 구성원 대상으로 SK하이닉스 향 챗GPT 서비스인 ‘<b>LLM</b> Chat’을 베타 오픈했다. <b>LLM</b> Chat을 이용하면 사내 보안망으로 안전하게 접속해, 사내 데이터 및 지식 기반의 질의응답 서비스로 업무를 효율화할... \\n---\\n제목: SK하이닉스, 사내 AI 플랫폼 '가이아' 공개\\nURL: https://biz.newdaily.co.kr/site/data/html/2025/08/14/2025081400162.html\\n내용: 이달 초에는 사내 보안망에서 안전하게 접속 가능한 질의응답 서비스 '<b>LLM</b> Chat'을 전사 대상으로 베타... 2023년 '네이티브 RAG+<b>LLM</b>'을 시작으로, 2024년 '에이전트 및 작업 도구', 2025년 '에이전틱 AI'와 '에이전트... \\n---\\n제목: 대동로보틱스, 음성인식·<b>LLM</b> 결합한 운반로봇 공개\\nURL: https://n.news.naver.com/mnews/article/014/0005389900?sid=101\\n내용: 대동로보틱스가 음성인식과 대형언어모델(<b>LLM</b>)을 결합한 차세대 운반로봇 개발에 나섰다. 내년 양산을... <b>LLM</b> 기반 대화로 날씨, 작물 재배법, 병해충 정보 등 농업 관련 질의응답도 가능하다. 대동로보틱스는 복잡한 조작... \\n---\\n제목: SK하이닉스, 생성형 AI 로드맵 공개…가이아로 에이전틱 AI·A2A 구현 [인...\\nURL: https://n.news.naver.com/mnews/article/138/0002202726?sid=105\\n내용: SK하이닉스는 14일 가이아를 '반도체 업무 혁신의 토대'로 삼아 AI 기술 진화를 ▲네이티브 RAG+<b>LLM</b>(2023)... 이달 초에는 사내 데이터 기반 질의응답이 가능한 '<b>LLM</b> 챗'도 베타로 선보였으며, SK텔레콤과 공동 개발 중인... \\n---\\n제목: SK하이닉스, 생성형 AI 플랫폼 '가이아' 공개…&quot;반도체 제조 혁신&quot;\\nURL: https://n.news.naver.com/mnews/article/014/0005391579?sid=101\\n내용: 8월 초에는 전사 구성원 대상으로 SK하이닉스 향 챗GPT 서비스인 ‘거대언어모델 챗(<b>LLM</b> Chat)’을 베타 오픈했다. <b>LLM</b> 챗을 이용하면 사내 보안망으로 안전하게 접속해, 사내 데이터 및 지식 기반의 질의응답 서비스로... \\n---\\n제목: 에이엘티, 국산 <b>LLM</b> 적용 차세대 AI 단말기 개발\\nURL: https://n.news.naver.com/mnews/article/018/0006087834?sid=101\\n내용: 거대언어모델(<b>LLM</b>)을 적용한 차세대 인공지능(AI) 미디어 단말기의 공급사로 선정돼 제품을 개발 중이라고... 신제품은 국산 <b>LLM</b>이 적용돼 AI 에이전트 기능이 구현된 것이 특징이다. AI 에이전트는 사용자 명령, 질문을... \\n---\\n제목: [포항소식]포스텍, 학생·일반인 대상 무료 AI교육 개최 등\\nURL: https://n.news.naver.com/mnews/article/003/0013423370?sid=102\\n내용: 교육은 최신 대규모 언어 모델(<b>LLM</b>)과 생성형 비전 모델을 중심으로 기술 이해부터 산업 적용 사례 학습, 제조... 학생 과정은 자율 제조 구현에 필요한 <b>LLM</b> 이해와 데이터 기반 기술 습득에 중점을 둔다. 커리큘럼은 자율... \\n---\\n제목: SK하이닉스, 사내 생성형 AI '가이아' 개발 완료…3개년 로드맵 공개\\nURL: https://n.news.naver.com/mnews/article/277/0005637271?sid=101\\n내용: 이달 초에는 전사 구성원 대상으로 SK하이닉스 향 ChatGPT 서비스인 '<b>LLM</b> Chat(대형언어모델 챗)'을 베타 오픈했다. <b>LLM</b> Chat을 이용하면 사내 보안망으로 안전하게 접속해, 사내 데이터 및 지식 기반의 질의응답 서비스로... \\n---\\n제목: SK하이닉스, 자체 생성형 AI 플랫폼 '가이아'로 업무 혁신\\nURL: https://n.news.naver.com/mnews/article/092/0002386166?sid=105\\n내용: 8월 초에는 전사 구성원 대상으로 SK하이닉스향 ChatGPT 서비스인 ‘<b>LLM</b> Chat’을 베타 오픈했다. <b>LLM</b> Chat을 이용하면 사내 보안망으로 안전하게 접속해, 사내 데이터 및 지식 기반의 질의응답 서비스로 업무를... \\n---\\n제목: 글로벌 AI 패권 전쟁, 한국선택은 분명...“행동으로 답해야!”\\nURL: http://www.breaknews.com/1140690\\n내용: 언어모델(<b>LLM</b>)과의 협업 과정에서 연구 효율을 극대화하고 AI 산업화 속도를... 특히 <b>LLM</b>과 AutoXML 기반의 협업 생태계를 활용하면 데이터 활용 효율을 극대화하고... \\n---\\n제목: 포스텍, 학생·일반인 대상 무료 AI 실무교육\\nURL: https://www.joongdo.co.kr/web/view.php?key=20250814010004695\\n내용: 교육은 최신 대규모 언어 모델(<b>LLM</b>)과 생성형 비전 모델을 중심으로 기술 이해부터 산업 적용 사례 학습... 학생 과정은 자율제조 구현에 필요한 <b>LLM</b> 이해와 데이터 기반 기술 습득에 중점을 둔다. 커리큘럼은 자율제조... \\n---\\n\""
            ]
          },
          "execution_count": 30,
          "metadata": {},
          "output_type": "execute_result"
        }
      ],
      "source": [
        "available_functions['Web_Search'](**example_dict)"
      ]
    },
    {
      "cell_type": "markdown",
      "id": "ae9443e6",
      "metadata": {
        "id": "ae9443e6",
        "vscode": {
          "languageId": "bat"
        }
      },
      "source": [
        "위 과정을 조합하여 실행해 보겠습니다."
      ]
    },
    {
      "cell_type": "code",
      "execution_count": 31,
      "id": "vvzJ5ziM5_U2",
      "metadata": {
        "id": "vvzJ5ziM5_U2"
      },
      "outputs": [
        {
          "name": "stdout",
          "output_type": "stream",
          "text": [
            "제목: 李대통령 “저와 <b>영화</b>볼 분 모십니다…조진웅 배우 추천 ‘독립군’”\n",
            "URL: https://n.news.naver.com/mnews/article/020/0003654578?sid=100\n",
            "내용: 그는 13일 <b>개봉</b>한 다큐멘터리 <b>영화</b> ‘독립군: 끝나지 않은 전쟁’ 내레이터로도 참여했다. 조진웅은 지난해 윤석열 전 대통령 탄핵 촉구 집회에 응원 영상을 보내 “국민을 향해 극악무도하게도 비상계엄을 했다”고... \n",
            "---\n",
            "제목: 李대통령, 내일 <b>영화</b> ‘독립군’ 본다…국민과 동반 관람\n",
            "URL: https://n.news.naver.com/mnews/article/366/0001100695?sid=100\n",
            "내용: <b>영화</b> ‘독립군: 끝나지 않은 전쟁‘은 독립운동가 홍범도 장군의 삶을 다룬 다큐멘터리 <b>영화</b>로, 지난 13일 <b>개봉</b>했다. 배우 조진웅은 <b>영화</b> 나레이션 작업에 참여했다. 조진웅은 전날 제80주년 광복절 경축식에서 국기에... \n",
            "---\n",
            "제목: 조정석 ‘좀비딸’, 올 <b>개봉</b> <b>영화</b> 중 처음으로 관객 수 400만 돌파…북미...\n",
            "URL: https://n.news.naver.com/mnews/article/056/0012010101?sid=103\n",
            "내용: 이는 올해 국내에 <b>개봉</b>한 <b>영화</b> 중 브래드 피트 주연의 ‘F1: 더 무비’, 톰 크루즈 주연의 ‘미션 임파서블:파이널 레코닝’을 제치고 최초 400만 관객 돌파이자 최단기간 세운 최고 흥행 기록입니다. 또 ‘좀비딸’의... \n",
            "---\n",
            "제목: 스크린 속 레시피로 만든 '치킨' 먹으면서 <b>영화</b> 본다고? [무비인사이드...\n",
            "URL: https://n.news.naver.com/mnews/article/015/0005171478?sid=103\n",
            "내용: 이 <b>영화</b>는 <b>개봉</b> 첫날 좌석점유율 61%를 기록하며, 단일관 상영임에도 평균 <b>영화</b> 흥행 기준(40%)을 크게 웃돌았다. 엔하이픈 VR 콘서트는 거대한 사무실, 폐공장, 루프탑 등 다양한 공간에서 0cm 거리로 멤버를 마주하는... \n",
            "---\n",
            "제목: '좀비딸', <b>개봉</b> 17일 만에 400만 관객 돌파…올 최고 흥행<b>영화</b> 등극\n",
            "URL: https://m.entertain.naver.com/article/421/0008430965\n",
            "내용: <b>영화</b> '좀비딸'이 <b>개봉</b> 17일 만에 400만 관객을 돌파하며 올해 최고 흥행 <b>영화</b>로 등극했다. 16일 <b>영화</b>진흥위원회 <b>영화</b>관 입장권 통합전산망 집계에 따르면 '좀비딸'은 지난 15일 하루 동안 29만690명의 관객을 동원... \n",
            "---\n",
            "제목: ‘인생이 <b>영화</b>’ 홍석천, <b>영화</b> 제작 포부\n",
            "URL: https://www.bntnews.co.kr/article/view/bnt202508160070\n",
            "내용: 이날 홍석천은 인생 <b>영화</b>로 2006년 <b>개봉</b>한 ’브로크백 마운틴’을 꼽으며 “극장에서 보는데 가슴이 콩닥콩닥 뛰었다”고 회상했다. 하지만 그는 “<b>영화</b>가 끝나고 사람들의 표정을 보니 반반이었다. 여전히 한국이 이런... \n",
            "---\n",
            "제목: <b>영화</b> '좀비딸' 관객 4백만 돌파...올해 최고 흥행작 등극\n",
            "URL: https://n.news.naver.com/mnews/article/052/0002233580?sid=103\n",
            "내용: 관객을 돌파하며 올해 박스오피스 정상에 올랐습니다. '좀비딸'은 어제(15일) 하루 29만 명이 봐 누적 관객 수 409만 명을 기록 중입니다. 올해 <b>개봉</b>한 <b>영화</b> 가운데 관객 수가 4백만 명을 넘은 건 '좀비딸'이 처음입니다.\n",
            "---\n",
            "제목: <b>영화</b> '좀비딸', 압도적 1위…흥행 질주 계속\n",
            "URL: https://www.topstarnews.net/news/articleView.html?idxno=15770787\n",
            "내용: 이는 올해 <b>개봉</b> <b>영화</b> 중 가장 많은 관객수다. 그동안 연간 박스오피스 1위를 지켜왔던 'F1 더 무비'를 넘어선 수치다. '좀비딸'은 <b>개봉</b> 이후 빠른 속도로 관객을 불러 모으고 있다. 손익 분기점은 7일 만에 넘긴 바 있다.... \n",
            "---\n",
            "제목: 홍석천, 게이 건달? 상상도 못한 행보 예고 (인생이 <b>영화</b>)\n",
            "URL: https://m.entertain.naver.com/article/382/0001216914\n",
            "내용: 녹화 당시 홍석천은 인생 <b>영화</b>로 2006년 <b>개봉</b>한 ’브로크백 마운틴’을 꼽으며 “극장에서 보는데 가슴이 콩닥콩닥 뛰었다”고 회상했다. 하지만 그는 “<b>영화</b>가 끝나고 사람들의 표정을 보니 반반이었다. 여전히 한국이... \n",
            "---\n",
            "제목: '좀비딸' 400만 관객 돌파…'F1' 제치고 올해 박스오피스 1위\n",
            "URL: https://m.entertain.naver.com/article/001/0015568713\n",
            "내용: 동명의 웹툰을 바탕으로 <b>영화</b> '인질'(2021)의 필감성 감독이 메가폰을 잡았고, 조정석과 이정은, 윤경호, 조여정 최유리 등이 참여했다. '좀비딸'은 지난달 30일 <b>개봉</b>한 이후 17일 내내 일별 박스오피스 1위를 지켰다.... \n",
            "---\n",
            "제목: 조정석 나오더니 400만 찍었다…&quot;올해 가장 많이 본 <b>영화</b>&quot;\n",
            "URL: https://n.news.naver.com/mnews/article/015/0005171348?sid=103\n",
            "내용: 문화체육관광부와 <b>영화</b>진흥위원회가 배포한 <b>영화</b>관 입장권 할인권이 '좀비딸' <b>개봉</b> 5일 전에 풀린 점도 흥행에 한몫했다는 평가다. 문체부와 영진위는 지난달 25일 <b>영화</b>관 입장권 6천원 할인권 총 450만장을 배포했다.... \n",
            "---\n",
            "제목: 광복절 연휴에 터졌다…400만 관객 뚫고 박스오피스 1위 씹어먹은 '한국...\n",
            "URL: https://www.wikitree.co.kr/articles/1073567\n",
            "내용: 이런 탄탄한 흥행세를 바탕으로 '좀비딸'은 2025년 국내에서 <b>개봉</b>한 <b>영화</b> 중 처음으로 400만 관객을 넘긴 작품이 됐다. 400만 관객이 나온 것은 작년 8월 조정석 주연 '파일럿'이 400만을 돌파한 이후 359일 만이다.... \n",
            "---\n",
            "제목: '좀비딸'·'악마가', 광복절도 달린다…여름 끝물 韓 <b>영화</b> 성적표는 [N초...\n",
            "URL: https://m.entertain.naver.com/article/421/0008430007\n",
            "내용: 7~8편의 여름 <b>영화</b>가 <b>개봉</b>했던 지난해와 달리, 올해 여름 극장가에 나선 한국 <b>영화</b>는 단 세 편이었다. <b>영화</b> '전지적 독자 시점'(감독 김병우)과 '좀비딸'(감독 필감성) '악마가 이사왔다'(감독 이상근)다. 매년 여름 '빅4... \n",
            "---\n",
            "제목: 이재명 대통령이 국민에 관람 제안한 '독립군'은 어떤 <b>영화</b>?\n",
            "URL: https://n.news.naver.com/mnews/article/079/0004056262?sid=103\n",
            "내용: 이 대통령이 관람을 제안한 '독립군: 끝나지 않은 전쟁'(감독 문승욱, 13일 <b>개봉</b>)은 홍범도 장군의 일대기를 중심으로 대한민국 독립전쟁사를 다루는 다큐멘터리 <b>영화</b>로, 광복회와 홍범도장군기념사업회에서 2025년 광복... \n",
            "---\n",
            "제목: 홍석천 “인생 <b>영화</b>는 ‘브로크백 마운틴’, 건달 캐릭터 해보고 싶다”\n",
            "URL: https://m.entertain.naver.com/article/408/0000276862\n",
            "내용: 이날 홍석천은 인생 <b>영화</b>로 2006년 <b>개봉</b>한 ‘브로크백 마운틴’을 꼽으며 “극장에서 보는데 가슴이 콩닥콩닥 뛰었다”고 회상했다. 하지만 그는 “<b>영화</b>가 끝나고 사람들의 표정을 보니 반반이었다. 여전히 한국이 이런... \n",
            "---\n",
            "제목: 100만도 힘든 시대… 조정석, 3연타로 완성한 '흥행의 정석' [D:<b>영화</b> 뷰]\n",
            "URL: https://m.entertain.naver.com/article/119/0002991538\n",
            "내용: 2025년 국내 <b>개봉</b> <b>영화</b> 가운데 최초로 400만 관객을 돌파했을 뿐 아니라 최단 기간 세운 기록으로, 흥행 속도는 2023년 여름 흥행작 '밀수'(17일)와 동일하고 2024년 여름 흥행작 '파일럿'(22일)보다 빠르다. 이로써 조정석은... \n",
            "---\n",
            "제목: 홍석천 “게이 건달役 해보고 싶은데 기회 없어, 직접 쓰겠다” (인생이...\n",
            "URL: https://m.entertain.naver.com/article/609/0001022907\n",
            "내용: 이날 홍석천은 인생 <b>영화</b>로 2006년 <b>개봉</b>한 '브로크백 마운틴'을 꼽으며 “극장에서 보는데 가슴이 콩닥콩닥 뛰었다”고 회상했다. 하지만 그는 “<b>영화</b>가 끝나고 사람들의 표정을 보니 반반이었다. 여전히 한국이 이런... \n",
            "---\n",
            "제목: 23년 전 <b>영화</b>로 내한...식지 않는 재<b>개봉</b> 열풍\n",
            "URL: https://n.news.naver.com/mnews/article/052/0002233525?sid=103\n",
            "내용: 20여 년이 지난 뒤에 제 첫 <b>영화</b>가 지금의 관객들과 다시 만날 수 있는…] 신작도 아닌 재<b>개봉</b> <b>영화</b>로 외국 스타가 우리나라를 찾은 건 이례적인 일입니다. '관객과의 대화' 예매는 개시 직후 다 팔려 추가 행사가... \n",
            "---\n",
            "제목: &quot;<b>영화</b> '좀비딸'을 도저히 막을 수 없습니다&quot;\n",
            "URL: https://www.gukjenews.com/news/articleView.html?idxno=3351491\n",
            "내용: <b>영화</b> 좀비딸 평점 후기 출연진 / new 제공 <b>영화</b> '좀비딸'이 <b>개봉</b> 17일째 박스오피스 정상을 지키며 누적 404만 명을 돌파했다. 16일 <b>영화</b>진흥위원회 통합전산망에 따르면 '좀비딸'은 15일 하루 29만 690명을 동원, 누적... \n",
            "---\n",
            "제목: 조정석 <b>영화</b> '좀비딸', <b>개봉</b> 17일 만에 400만 관객 넘었다... &quot;올해 최초...\n",
            "URL: https://www.insight.co.kr/news/516052\n",
            "내용: <b>영화</b> '좀비딸'이 <b>개봉</b> 17일 만에 400만 관객을 돌파하는 놀라운 흥행 성과를 기록했습니다. 이로써 2025년 국내에서 <b>개봉</b>한 모든 한국 및 외국 <b>영화</b> 중 가장 높은 관객 수를 기록하며 올해의 최고 흥행작으로... \n",
            "---\n",
            "제목: 난리 난 극장가...<b>개봉</b>도 안 했는데 한국서 예매율 51% 찍은 '일본 <b>영화</b>...\n",
            "URL: https://www.wikitree.co.kr/articles/1072317\n",
            "내용: 지난달 18일 일본에서 <b>개봉</b>한 이 <b>영화</b>는 일본 <b>영화</b> 박스오피스 역사상 가장 빠르게 수익 100억엔(930억 원)을 돌파했다. 게다가 현재는 404억엔(3800억원)의 흥행 수익으로 5년만에 일본 <b>영화</b> 역대 흥행 1위를 새로 썼다. 더욱... \n",
            "---\n",
            "제목: 반응 보고 결말 바꾸는 <b>영화</b>관 AI 나온다\n",
            "URL: https://n.news.naver.com/mnews/article/009/0005542115?sid=103\n",
            "내용: AI가 모든 스크린 예약을 담당하는데, 어떤 <b>영화</b>관에서 어떤 스크린에서 어떤 <b>영화</b>를 언제 <b>개봉</b>할지를 결정한다&quot;고 밝힌 바 있다. AI로 관객의 선호 <b>영화</b> 동향과 요일별 예상 관객 수를 미리 파악하고 어느 상영관에 몇... \n",
            "---\n",
            "제목: 조정석, ‘좀비딸’ 400만 돌파..<b>영화</b> 흥행 보증수표 등극\n",
            "URL: https://m.entertain.naver.com/article/112/0003773720\n",
            "내용: 조정석이 지난달 30일 <b>개봉</b>한 <b>영화</b> ‘좀비딸’(제공/배급 NEW,제작 스튜디오N, 감독 필감성)로 흥행 기록을 다시 쓰고 있다. <b>개봉</b> 직후 올해 최고 오프닝 스코어와 역대 한국 코미디 <b>영화</b> 최고 오프닝 스코어 기록을 경신한... \n",
            "---\n",
            "제목: 세계를 열광 시킨 단 두 번의 공연…9년 만 한국 상륙\n",
            "URL: https://www.wikitree.co.kr/articles/1073284\n",
            "내용: 2016년 10월 영국 현지에서 <b>개봉</b>한 이 <b>영화</b>는 당시 영국 엠파이어 어워드에서 최우수 다큐멘터리로 선정되는 등 평단의 찬사를 받았다. <b>영화</b>는 도심 외곽의 변두리 지하 연습실에서부터 전세계 최고로 올라선... \n",
            "---\n",
            "제목: “당신의 행복을 위해 설계됐어요”… ‘AI 로맨스’ <b>영화</b> 재주목\n",
            "URL: https://n.news.naver.com/mnews/article/020/0003654543?sid=102\n",
            "내용: 2021년 <b>개봉</b>한 <b>영화</b> ‘아임 유어 맨’은 사랑과 인간성에 대한 물음을 던지는 로맨스 <b>영화</b>다. 여주인공 알마(마렌 에게르트)는 여느 소개팅과 다를 것 없는 만남 자리에서 로봇 ‘톰’을 만난다. 고고학자인 알마는... \n",
            "---\n",
            "제목: [새<b>영화</b>] '트러블 메이커'를 마주한 곤란함…'내 말 좀 들어줘'\n",
            "URL: https://m.entertain.naver.com/article/001/0015569067\n",
            "내용: 주연배우 마리안 장 바티스트는 이 <b>영화</b>로 전미비평가협회, LA비평가협회, 런던비평가협회 등에서 여우주연상을 받았다. 20일 <b>개봉</b>. 97분. 12세 이상 관람가. ▲ 다른 것으로 알려질 뿐이지 = 여러 인물이 교차하며... \n",
            "---\n",
            "제목: 보라미유, <b>영화</b> ‘첫사랑 엔딩’ 컬래버 음원 ‘바다 가자’ 오늘(16일)...\n",
            "URL: https://m.entertain.naver.com/article/057/0001902716\n",
            "내용: 이뤄지지 않는다는 속설에 도전하는 소년, 소녀의 청춘 로맨스다. 오는 27일 국내 <b>개봉</b>을 앞두고 있다. 한편 보라미유가 가창한 <b>영화</b> ‘첫사랑 엔딩’ 컬래버레이션 음원 ‘바다 가자’는 16일 오후 6시부터 감상할 수 있다.\n",
            "---\n",
            "제목: 李 대통령 &quot;내일 <b>영화</b> '독립군: 끝나지 않은 전쟁' 함께 보실 분 찾아요...\n",
            "URL: http://news.maxmovie.com/443925\n",
            "내용: 1920년 봉오동 전투의 승리에서 시작해 2023년 육사에서 흉상 철거로 논란이 벌어지기까지, 우리의 군대가 어디서부터 시작됐는지 다시 짚는 작품으로 지난 13일 <b>개봉</b>해 관객과 만나고 있다. 배우 조진웅은 <b>영화</b>의... \n",
            "---\n",
            "제목: 연상호 신작 <b>영화</b> '얼굴', 9월 11일 <b>개봉</b> 확정\n",
            "URL: https://www.topstarnews.net/news/articleView.html?idxno=15769171\n",
            "내용: <b>영화</b> '얼굴'이 <b>개봉</b>일을 확정했다. 14일 플러스엠엔터테인먼트 측은 <b>영화</b> '얼굴'의 <b>개봉</b>일이 확정됐다고 알렸다. 동시에 메인 포스터 2종과 메인 예고편을 공개했다. <b>영화</b> '얼굴'이 공개한 메인 포스터는 유니크한 스타일로... \n",
            "---\n",
            "제목: 홍석천 &quot;게이 건달 캐릭터 해보고 싶어&quot; 깜짝 고백 ('인생이 <b>영화</b>')\n",
            "URL: https://m.entertain.naver.com/article/213/0001349304\n",
            "내용: 이날 홍석천은 인생 <b>영화</b>로 2006년 <b>개봉</b>한 ’브로크백 마운틴’을 꼽으며 “극장에서 보는데 가슴이 콩닥콩닥 뛰었다”고 회상했다. 하지만 그는 “<b>영화</b>가 끝나고 사람들의 표정을 보니 반반이었다. 여전히 한국이 이런... \n",
            "---\n",
            "\n",
            "최근 개봉한 영화로는 \"독립군: 끝나지 않은 전쟁\"과 \"좀비딸\"이 있습니다.\n",
            "\n",
            "1. **독립군: 끝나지 않은 전쟁**\n",
            "   - 개봉일: 11월 13일\n",
            "   - 내용: 독립운동가 홍범도 장군의 삶을 다룬 다큐멘터리 영화입니다.\n",
            "   - 관련 기사: [링크](https://n.news.naver.com/mnews/article/020/0003654578?sid=100)\n",
            "\n",
            "2. **좀비딸**\n",
            "   - 개봉일: 10월 30일\n",
            "   - 내용: 동명의 웹툰을 바탕으로 한 영화로, 조정석, 이정은 등이 출연합니다.\n",
            "   - 관련 기사: [링크](https://n.news.naver.com/mnews/article/056/0012010101?sid=103)\n",
            "\n",
            "이 두 영화는 최근 개봉하여 많은 관심을 받고 있습니다.\n"
          ]
        }
      ],
      "source": [
        "import json\n",
        "\n",
        "# 1. 툴 함수 이름에 맞춰 딕셔너리 구성\n",
        "available_functions = {'web_search': get_news}  # tool의 \"name\" 키와 일치해야 함\n",
        "\n",
        "# 2. 툴 호출 결과로부터 이름과 인자 추출\n",
        "tool_call = tool_call_result.tool_calls[0]\n",
        "name = tool_call.function.name  # ex: \"web_search\"\n",
        "arguments = json.loads(tool_call.function.arguments)  # 문자열 → dict\n",
        "\n",
        "# 3. LLM에게 다시 응답 요청\n",
        "result = news_bot_v2([\n",
        "    {\n",
        "        \"role\": \"user\",\n",
        "        \"content\": \"\"\"\n",
        "요즘 새로 개봉한 영화는 무엇이 있나요? 오늘 날짜는 24년 11월 18일입니다.\n",
        "\"\"\"\n",
        "    },\n",
        "    tool_call_result,  # tool_calls 포함 assistant 응답\n",
        "    {\n",
        "        \"role\": \"tool\",\n",
        "        \"tool_call_id\": tool_call.id,\n",
        "        \"content\": available_functions[name](**arguments)  # get_news(query=\"영화\")\n",
        "    }\n",
        "])\n",
        "\n",
        "# 4. 결과 출력\n",
        "print(result.content)\n"
      ]
    },
    {
      "cell_type": "markdown",
      "id": "acv8mydxWKTW",
      "metadata": {
        "id": "acv8mydxWKTW"
      },
      "source": [
        "스트리밍 기능을 추가하고, 전체 과정을 함수로 자동화합니다.:"
      ]
    },
    {
      "cell_type": "code",
      "execution_count": 32,
      "id": "db7579cc",
      "metadata": {
        "id": "db7579cc"
      },
      "outputs": [
        {
          "name": "stdout",
          "output_type": "stream",
          "text": [
            "Prompt: 넷플릭스 신작 추천해줘.\n",
            "---\n",
            "News_Bot: Call web_search {'query': '넷플릭스 신작'}\n",
            "제목: 다큐멘터리부터 SF 호러물까지⋯국내외 OTT <b>신작</b> 공개 [콘슐랭]\n",
            "URL: https://n.news.naver.com/mnews/article/031/0000957584?sid=105\n",
            "내용: 그날 그곳에 있었던 그들의 이야기 '나는 생존자다' <b>넷플릭스</b>는 15일 <b>신작</b>으로 '나는 생존자다'를 공개했다. 대한민국을 충격에 빠뜨린 네 개의 사건, 반복돼서는 안 될 이야기를 살아남은 사람들의 목소리로 기록한... \n",
            "---\n",
            "제목: '나는 신이다' 후속작→'연애 실험', <b>넷플릭스 신작</b> '종합선물세트'\n",
            "URL: https://sports.hankooki.com/news/articleView.html?idxno=6906955\n",
            "내용: 8월 셋째 주, <b>넷플릭스</b>가 전 세계 시청자들의 시선을 사로잡을 <b>신작</b> 라인업을 공개했다. 참혹한 사건의 생존자 증언을 담은 다큐멘터리부터 숨 막히는 하룻밤 추격극, 얼굴 대신 마음으로만 이어지는 연애 실험, 인기... \n",
            "---\n",
            "제목: [이번주 뭐보지] <b>넷플릭스</b> '나는 생존자다' 등 <b>신작</b> 공개\n",
            "URL: https://www.newscj.com/news/articleView.html?idxno=3306067\n",
            "내용: <b>넷플릭스</b>가 금주 <b>신작</b> 라인업을 15일 공개했다. '나는 생존자다'는 대한민국 사회를 뒤흔든 사이비 종교 사건의 진실을 그린 '나는 신이다'의 두 번째 이야기로 대한민국을 충격에 빠뜨린 네 개의 참혹한 사건, 반복돼서는... \n",
            "---\n",
            "제목: <b>넷플릭스</b> 8월 넷째 주 <b>신작</b> 추천\n",
            "URL: https://www.bntnews.co.kr/article/view/bnt202508140174\n",
            "내용: <b>넷플릭스</b>가 8월 넷째 주 신락 라인업을 발표했다. #나는 생존자다 (8월 15일) ‘나는 생존자다’ (제공: <b>넷플릭스</b>) ‘나는 생존자다’는 대한민국 사회를 뒤흔든 사이비 종교 사건의 진실을 그린 ‘나는 신이다’의 두 번째... \n",
            "---\n",
            "제목: <b>넷플릭스</b> ‘나는 생존자다’ 예정대로 본다…JMS 방송금지 가처분 기각\n",
            "URL: https://n.news.naver.com/mnews/article/016/0002514738?sid=102\n",
            "내용: [연합] [헤럴드경제=김현일 기자] 여신도 성폭행 혐의로 재판에 넘겨진 정명석 총재의 기독교복음선교회(JMS)가 <b>넷플릭스</b> 다큐멘터리 <b>신작</b> ‘나는 생존자다’의 방송금지 가처분 신청을 냈지만 법원에서 기각됐다. 법원... \n",
            "---\n",
            "제목: JMS 그 이후...<b>넷플릭스</b>, ‘나는 신이다’ 후속 ‘나는 생존자다’ 공개\n",
            "URL: https://n.news.naver.com/mnews/article/092/0002386382?sid=105\n",
            "내용: 지난 2023년 국내에 큰 파장을 일으킨 <b>넷플릭스</b> 다큐멘터리 시리즈 ‘나는 신이다’ 후속편 ‘나는 생존자가’ 15일 공개됐다. 전편이 충격적인 폭로에 중점을 두고 있다면 <b>신작</b>은 살아남은 자들의 이야기로 재구성한... \n",
            "---\n",
            "제목: [주간 <b>넷플릭스</b>] 후덥지근한 여름 날려 버리는 화제의 <b>신작</b>\n",
            "URL: https://www.nc.press/news/articleView.html?idxno=571431\n",
            "내용: <b>넷플릭스</b>가 금주 화제의 <b>신작</b>을 공개했다. 사진=<b>넷플릭스</b> 그날, 그곳에 있었던 생존자들, 그들의 끝나지 않은 이야기 나는 생존자다 The Echoes of Survivors: Inside Korea's Tragedies &lt;나는 생존자다&gt;는 대한민국 사회를 뒤흔든... \n",
            "---\n",
            "제목: <b>넷플릭스</b> 금주의 <b>신작</b> '나는 생존자다' '아따맘마 리마스터'\n",
            "URL: https://n.news.naver.com/mnews/article/140/0000055797?sid=004\n",
            "내용: 잡고, <b>넷플릭스</b> 영화 &lt;그녀의 조각들&gt;로 베니스 영화제에서 여우주연상을 수상한 바네사 커비가 주연을... 그린 <b>넷플릭스</b> 리얼리티 시리즈다. 오로지 대화로만 교감할 수 있는 공간에서 서로 강렬한 유대를 쌓으며 점차... \n",
            "---\n",
            "제목: 이창동 감독 <b>신작</b>은 왜 <b>넷플릭스</b> 행을 택했나···제작사 대표의 솔직...\n",
            "URL: https://n.news.naver.com/mnews/article/032/0003388649?sid=103\n",
            "내용: &lt;버닝&gt;(2018) 이후 7년 만의 <b>신작</b> 소식이다. <b>넷플릭스</b>는 5일 “영화 &lt;가능한 사랑&gt;의 제작을 확정지었다”며 배우 전도연, 설경구, 조인성, 조여정 등의 출연 소식을 알렸다. 영화는 극과 극의 삶을 살아온 두 부부의... \n",
            "---\n",
            "제목: 넥슨게임즈, 블록버스터급 <b>신작</b> '우치 더 웨이페어러' 공개\n",
            "URL: https://n.news.naver.com/mnews/article/001/0015560594?sid=105\n",
            "내용: (AAA)급 <b>신작</b> '우치 더 웨이페어러(Woochi the Wayfarer)' 티저 영상을 최초 공개했다고 12일 밝혔다. '우치'는 가상의... 영상 전반에 흐르는 국악 기반의 음악은 영화 '기생충'과 <b>넷플릭스</b> 시리즈 '오징어 게임' 제작에 참여한... \n",
            "---\n",
            "제목: 넥슨게임즈, AAA급 <b>신작</b> '우치 더 웨이페어러' 티저 영상 첫 공개\n",
            "URL: https://n.news.naver.com/mnews/article/092/0002385763?sid=105\n",
            "내용: 과 <b>넷플릭스</b> 시리즈 '오징어 게임'으로 잘 알려진 정재일 음악감독이 맡아, 영상의 서사와 감정선을 더욱 깊이 있게 표현했다. ‘우치 더 웨이페어러’는 넥슨게임즈 박용현 대표의 '빅게임’ 전략이 녹아 있는 <b>신작</b>으로... \n",
            "---\n",
            "제목: [금주 OTT <b>신작</b>] '나는 생존자다', '미션임파서블: 파이널 레코닝' 등 공...\n",
            "URL: https://www.newspim.com/news/view/20250814001029\n",
            "내용: [사진=<b>넷플릭스</b>] 2025.08.14 moonddo00@newspim.com 지난 2023년 공개된 '나는 신이다' 이후, 조성현 PD와 제작진이 2년... [사진=<b>넷플릭스</b>] 2025.08.14 moonddo00@newspim.com '밤은 늘 찾아온다'는 가족과 살던 집에서 쫓겨날 위기에 처한... \n",
            "---\n",
            "제목: '애마' 이하늬X방효린 &quot;전설적 에로영화의 탄생&quot; <b>넷플릭스</b> 22일 공개 '영...\n",
            "URL: https://www.topstarnews.net/news/articleView.html?idxno=15770263\n",
            "내용: 그 중에서도 '<b>신작</b>이 좋다' 코너를 통해 '투게더'와 함께 소개한 <b>넷플릭스</b> 시리즈 '애마'가 시청자의 큰 관심을 모았다. '애마'는 '천하장사 마돈나'와 '독전'의 이해영 감독이 연출과 극본을 다 맡은 작품이다.... \n",
            "---\n",
            "제목: 넥슨게임즈, AAA급 <b>신작</b> '우치 더 웨이페어러' 티저 영상 공개\n",
            "URL: https://n.news.naver.com/mnews/article/421/0008423772?sid=105\n",
            "내용: 영상 음악은 영화 '기생충'과 <b>넷플릭스</b> 시리즈 '오징어 게임'의 음악감독으로 알려진 정재일 감독이 맡았다. 넥슨게임즈는 '우치 더 웨이페어러'에 한국 고유의 역사와 문화를 담아내고자 한다. 회사는 한국 문학과 국악... \n",
            "---\n",
            "제목: 넥슨게임즈, 트리플A <b>신작</b> ‘우치 더 웨이페어러’ 티저 영상 공개\n",
            "URL: https://m.sports.naver.com/esports/article/144/0001059888\n",
            "내용: <b>넷플릭스</b> 시리즈 ‘오징어 게임’으로 잘 알려진 정재일 음악감독이 맡아, 영상의 서사와 감정선을 더욱 깊이 있게 표현했다. ‘우치 더 웨이페어러’는 넥슨게임즈 박용현 대표의 ‘빅게임’ 전략이 녹아 있는 <b>신작</b>으... \n",
            "---\n",
            "제목: 넥슨게임즈, 트리플A <b>신작</b> ‘우치 더 웨이페어러’ 티저 영상 최초 공개\n",
            "URL: https://n.news.naver.com/mnews/article/243/0000082919?sid=105\n",
            "내용: 과 <b>넷플릭스</b> 시리즈 '오징어 게임'으로 잘 알려진 정재일 음악감독이 맡아, 영상의 서사와 감정선을 더욱 깊이 있게 표현했다. ‘우치 더 웨이페어러’는 넥슨게임즈 박용현 대표의 '빅게임’ 전략이 녹아 있는 <b>신작</b>으로... \n",
            "---\n",
            "제목: <b>넷플릭스 신작</b> '케이팝 데몬 헌터스', 시청 기록 돌파하며 '레드 노티스...\n",
            "URL: https://www.gokorea.kr/news/articleView.html?idxno=836011\n",
            "내용: <b>넷플릭스</b>의 흥행 목록에서 주목할 만한 변화가 감지되고 있다. 애니메이션 영화 '케이팝 데몬 헌터스'(이하 '케데헌')가 <b>넷플릭스</b> 영화 역사상 두 번째로 많이 시청된 작품으로 자리잡았다. 13일 <b>넷플릭스</b>의 공식... \n",
            "---\n",
            "제목: <b>넷플릭스</b> 8월 둘째 주 <b>신작</b> 추천\n",
            "URL: https://www.bntnews.co.kr/article/view/bnt202508070114\n",
            "내용: <b>넷플릭스</b>가 8월 둘째 주 <b>신작</b> 라인업을 발표했다. #웬즈데이 시즌2 ‘웬즈데이2’ (제공: <b>넷플릭스</b>) ‘웬즈데이’ 시즌2는 새 학기를 맞아 네버모어 아카데미에 돌아온 ‘웬즈데이 아담스’가 자신을 둘러싼 더... \n",
            "---\n",
            "제목: 넥슨게임즈, 전우치 소재 <b>신작</b> '우치 더 웨이페어러' 공개\n",
            "URL: https://news.mtn.co.kr/news-detail/2025081215084539433\n",
            "내용: 영화 '기생충'과 <b>넷플릭스</b> 시리즈 '오징어 게임'으로 잘 알려진 정재일 음악감독이 맡아, 영상의 서사와 감정선을 더욱 깊이 있게 표현했다.‘우치 더 웨이페어러’는 박용현 대표의 '빅게임’ 전략이 녹아 있는 <b>신작</b>이다.... \n",
            "---\n",
            "제목: 넥슨게임즈, BIG 게임 <b>신작</b> ‘우치 더 웨이페어러’ 티저 영상 공개\n",
            "URL: https://game.donga.com/118692/\n",
            "내용: 과 <b>넷플릭스</b> 시리즈 '오징어 게임'으로 잘 알려진 정재일 음악감독이 맡아, 영상의 서사와 감정선을 더욱 깊이 있게 표현했다. ‘우치 더 웨이페어러’는 넥슨게임즈 박용현 대표의 '빅게임’ 전략이 녹아 있는 <b>신작</b>으로... \n",
            "---\n",
            "제목: 컴투스, 4세대 MMORPG '더스타라이트' 흥행 기대…&quot;<b>신작</b> 확대&quot;\n",
            "URL: https://n.news.naver.com/mnews/article/421/0008423717?sid=105\n",
            "내용: 컴투스(078340)는 하반기 <b>신작</b> '더 스타라이트'와 기존작의 마케팅 효과로 성장세를 이어갈 계획이다.... 남 대표는 &quot;원작 애니메이션은 지난 7월부터 일본 전국 30개 채널에서 방영하고, 글로벌 <b>넷플릭스</b>와... \n",
            "---\n",
            "제목: 넥슨게임즈, 트리플A <b>신작</b> '우치 더 웨이페어러' 티저 영상 첫 공개\n",
            "URL: https://n.news.naver.com/mnews/article/030/0003340037?sid=105\n",
            "내용: 영화 '기생충'과 <b>넷플릭스</b> 시리즈 '오징어 게임'으로 잘 알려진 정재일 음악감독이 맡아 영상의 서사와 감정선을 더욱 깊이 있게 표현했다. 우치 더 웨이페어러는 박용현 넥슨게임즈 대표의 '빅게임' 전략이 녹아 있는 <b>신작</b>... \n",
            "---\n",
            "제목: 올해도 못 놓는다…부국제, 넷플·티빙·디플 <b>신작</b> 6편 초청\n",
            "URL: https://m.entertain.naver.com/article/241/0003459112\n",
            "내용: <b>넷플릭스</b> 초청작은 ‘당신이 죽였다’, ‘로맨틱 어나니머스’, ‘이쿠사가미: 전쟁의 신’, ‘회혼계’ 등 4편이다. ‘당신이 죽였다’는 드라마 ‘악귀’ 이정림 감독의 <b>신작</b>으로, 두 여성의 깊은 우정과 연대 그린다.... \n",
            "---\n",
            "제목: 넥슨게임즈, 트리플A <b>신작</b> '우치 더 웨이페어러' 티저 영상 첫선\n",
            "URL: https://n.news.naver.com/mnews/article/031/0000956339?sid=105\n",
            "내용: 과 <b>넷플릭스</b> 시리즈 '오징어 게임'으로 잘 알려진 정재일 음악감독이 맡아, 영상의 서사와 감정선을 더욱 깊이 있게 표현했다. 우치 더 웨이페어러는 넥슨게임즈 박용현 대표의 '빅게임’ 전략이 녹아 있는 <b>신작</b>으로... \n",
            "---\n",
            "제목: [컨콜 종합] 엔씨소프트, '아이온2' 시작으로 내년 <b>신작</b> 7종 선보인다\n",
            "URL: https://n.news.naver.com/mnews/article/138/0002202571?sid=105\n",
            "내용: 게임&quot;이라며, &quot;<b>넷플릭스</b>의 '오징어게임'이 흥행한 이후 국내 콘텐츠 산업에 대한 선순환 효과가 이어졌듯, 아이온2는 내년 출시 예정인 다른 <b>신작</b>의 성공에도 긍정적인 영향을 끼칠 것으로 전망한다&quot;라고 설명했다.... \n",
            "---\n",
            "제목: 넥슨게임즈, 도사 전우치 소재 <b>신작</b> '우치 더 웨이페어러' 티저 공개\n",
            "URL: https://www.newspim.com/news/view/20250812000993\n",
            "내용: 영화 '기생충'과 <b>넷플릭스</b> 시리즈 '오징어 게임' 음악감독 정재일이 맡아 서사와 감정선을 깊이 있게 표현했다. '우치 더 웨이페어러'는 박용현 넥슨게임즈 대표의 '빅게임' 전략이 반영된 <b>신작</b>으로, 글로벌 시장의... \n",
            "---\n",
            "제목: 카카오엔터, 제2의 '폭싹 속았수다' '악연'은? 이영애·고현정·김고은 ...\n",
            "URL: https://n.news.naver.com/mnews/article/014/0005390902?sid=103\n",
            "내용: 13일 카카오엔터에 따르면 올 상반기 시청 수 기준 <b>넷플릭스</b> 톱100 시리즈에 오른 11개의 한국 작품 중... 하반기, 고현정 이영애 김고은 <b>신작</b> 내봐 카카오엔터는 하반기에도 특색 있는 <b>신작</b>들로 국내외 시청자들을... \n",
            "---\n",
            "제목: 전우치 기반 넥슨 AAA급 <b>신작</b> '우치 더 웨이페어러' 공개\n",
            "URL: https://m.sports.naver.com/esports/article/356/0000075998\n",
            "내용: 과 <b>넷플릭스</b> 시리즈 '오징어 게임'으로 잘 알려진 정재일 음악감독이 맡았다. ▲ 우치 더 웨이페어러 티저 영상 (영상제공: 넥슨게임즈) 우치 더 웨이페어러는 넥슨게임즈 박용현 대표의 '빅게임’ 전략이 녹아 있는 <b>신작</b>... \n",
            "---\n",
            "제목: 이창동 8년만 <b>신작</b> <b>넷플릭스</b>行…전도연·설경구·조인성·조여정 출연\n",
            "URL: https://m.entertain.naver.com/article/009/0005536282\n",
            "내용: 이창동 감독의 <b>신작</b>을 통해서다. <b>넷플릭스</b>는 5일 새 영화 ‘가능한 사랑’(감독 이창동)의 제작을 확정했다고 알렸다. 더불어 전도연 설경구 조인성 조연정의 캐스팅 소식도 전했다. 이 감독이 ‘버닝’ 후 8년 만에... \n",
            "---\n",
            "제목: &quot;팀 버튼 귀환부터 트롯돌까지&quot; <b>넷플릭스</b> 이번 주 <b>신작</b> 라인업\n",
            "URL: https://sports.hankooki.com/news/articleView.html?idxno=6906258\n",
            "내용: 미스터리, 코미디, 다큐멘터리, 음악까지 장르도 감성도 전혀 다른 다섯 편의 <b>신작</b>이 <b>넷플릭스</b>에 출격한다. 고문 같았던 기다림이 끝났다 '웬즈데이 시즌2'(Wednesday Season 2) '웬즈데이' 시즌2는 새 학기를 맞아... \n",
            "---\n",
            "\n",
            "---\n",
            "News_Bot:최근 넷플릭스에서 공개된 신작 중 몇 가지를 추천해드릴게요:\n",
            "\n",
            "1. **나는 생존자다**: 이 작품은 대한민국을 충격에 빠뜨린 네 개의 사건을 다루며, 생존자들의 목소리를 통해 그들의 이야기를 기록한 다큐멘터리입니다. [관련 기사 보기](https://n.news.naver.com/mnews/article/031/0000957584?sid=105)\n",
            "\n",
            "2. **케이팝 데몬 헌터스**: 이 애니메이션 영화는 넷플릭스 영화 역사상 두 번째로 많이 시청된 작품으로 자리잡았습니다. [관련 기사 보기](https://www.gokorea.kr/news/articleView.html?idxno=836011)\n",
            "\n",
            "3. **웬즈데이 시즌2**: '웬즈데이'의 두 번째 시즌으로, 네버모어 아카데미에 돌아온 웬즈데이 아담스의 이야기를 다룹니다. [관련 기사 보기](https://sports.hankooki.com/news/articleView.html?idxno=6906258)\n",
            "\n",
            "이 외에도 다양한 장르의 신작들이 넷플릭스에 공개되고 있으니, 관심 있는 장르를 찾아보시면 좋을 것 같습니다."
          ]
        }
      ],
      "source": [
        "def news_qa(prompt):\n",
        "    print('Prompt:', prompt)\n",
        "\n",
        "    # Tool name과 실제 함수 연결\n",
        "    available_functions = {'web_search': get_news}  # tool 정의의 name과 동일하게 유지\n",
        "\n",
        "    # 1차 LLM 응답 받기\n",
        "    tool_call_result = news_bot_v2([\n",
        "        {\n",
        "            \"role\": \"user\",\n",
        "            \"content\": prompt\n",
        "        }\n",
        "    ])\n",
        "\n",
        "    print('---')\n",
        "    print('News_Bot: Call ', end='')\n",
        "\n",
        "    # tool 호출이 존재할 경우\n",
        "    if tool_call_result.tool_calls:\n",
        "        tool_call = tool_call_result.tool_calls[0]\n",
        "        name = tool_call.function.name\n",
        "        arguments = json.loads(tool_call.function.arguments)  # JSON 문자열 → dict\n",
        "\n",
        "        print(name, arguments)\n",
        "\n",
        "        # 2차 실제 tool 실행\n",
        "        tool_result = available_functions[name](**arguments)\n",
        "\n",
        "        print('---')\n",
        "        print('News_Bot:', end='')\n",
        "\n",
        "        # 3차: Tool 결과를 포함한 최종 답변 요청\n",
        "        response = news_bot_v2(\n",
        "            [\n",
        "                {\n",
        "                    \"role\": \"system\",\n",
        "                    \"content\": \"사용자의 질문과 이를 답변하기 위한 정보가 주어집니다. 이를 바탕으로 답변하세요.\"\n",
        "                },\n",
        "                {\n",
        "                    \"role\": \"user\",\n",
        "                    \"content\": prompt\n",
        "                },\n",
        "                tool_call_result,  # assistant message + tool_calls\n",
        "                {\n",
        "                    \"role\": \"tool\",\n",
        "                    \"tool_call_id\": tool_call.id,\n",
        "                    \"content\": tool_result\n",
        "                }\n",
        "            ],\n",
        "            stream=True\n",
        "        )\n",
        "\n",
        "        for chunk in response:\n",
        "            delta = chunk.choices[0].delta\n",
        "            if delta and delta.content:\n",
        "                print(delta.content, end='')\n",
        "\n",
        "    else:\n",
        "        # 툴 사용 없이 바로 응답된 경우\n",
        "        print('Nothing')\n",
        "        print(tool_call_result.content)\n",
        "\n",
        "\n",
        "# 예시 실행\n",
        "prompt = \"\"\"넷플릭스 신작 추천해줘.\"\"\"\n",
        "news_qa(prompt)\n"
      ]
    },
    {
      "cell_type": "code",
      "execution_count": 27,
      "id": "S3FsjTkylvFQ",
      "metadata": {
        "id": "S3FsjTkylvFQ"
      },
      "outputs": [
        {
          "name": "stdout",
          "output_type": "stream",
          "text": [
            "Prompt: 회사 가기 싫어.\n",
            "---\n",
            "News_Bot: Call Nothing\n",
            "회사에 가기 싫은 날도 있죠. 혹시 특별한 이유가 있나요? 아니면 기분 전환을 위해 도움이 될 만한 정보를 찾아드릴까요?\n"
          ]
        }
      ],
      "source": [
        "news_qa(\"회사 가기 싫어.\")"
      ]
    },
    {
      "cell_type": "markdown",
      "id": "J0SUkT2iD6rk",
      "metadata": {
        "id": "J0SUkT2iD6rk"
      },
      "source": [
        "# [심화] Multiple Tool Call\n",
        "때로는, 하나의 메시지에서 여러 개의 Tool Call을 수행해야 하기도 합니다.   \n"
      ]
    },
    {
      "cell_type": "markdown",
      "id": "o6_W_jFeD8xV",
      "metadata": {
        "id": "o6_W_jFeD8xV"
      },
      "source": [
        "반복문을 통해, Tool Call의 목록을 한꺼번에 전달합니다."
      ]
    },
    {
      "cell_type": "code",
      "execution_count": 33,
      "id": "UiHGG9lhD3z4",
      "metadata": {
        "id": "UiHGG9lhD3z4"
      },
      "outputs": [],
      "source": [
        "import json\n",
        "\n",
        "def news_qa_v2(prompt, model='gpt-4o'):\n",
        "    print('🟡 Prompt:', prompt)\n",
        "\n",
        "    # 1. tool 이름에 맞는 실제 함수 매핑\n",
        "    available_functions = {\n",
        "        'web_search': get_news  # 반드시 tool name과 동일해야 함\n",
        "    }\n",
        "\n",
        "    # 2. LLM에 첫 메시지 전송하여 tool call 여부 확인\n",
        "    tool_call_result = news_bot_v2([\n",
        "        {\n",
        "            \"role\": \"user\",\n",
        "            \"content\": prompt\n",
        "        }\n",
        "    ], model=model)\n",
        "\n",
        "    print('---')\n",
        "    print('🟢 News_Bot: Call ', end='')\n",
        "\n",
        "    # 3. tool 호출이 발생했을 경우\n",
        "    if tool_call_result.tool_calls:\n",
        "        tool_messages = []\n",
        "\n",
        "        for tool_call in tool_call_result.tool_calls:\n",
        "            name = tool_call.function.name\n",
        "            arguments = json.loads(tool_call.function.arguments)\n",
        "\n",
        "            print(f\"{name} {arguments}\")\n",
        "\n",
        "            if name not in available_functions:\n",
        "                raise ValueError(f\"알 수 없는 함수: {name}\")\n",
        "\n",
        "            # 툴 실행\n",
        "            result = available_functions[name](**arguments)\n",
        "\n",
        "            print('---')\n",
        "            print('🟢 News_Bot:', end='')\n",
        "\n",
        "            # Tool 응답 메시지 생성\n",
        "            tool_messages.append({\n",
        "                \"role\": \"tool\",\n",
        "                \"tool_call_id\": tool_call.id,\n",
        "                \"content\": result\n",
        "            })\n",
        "\n",
        "        # 4. tool 결과와 함께 최종 응답 생성\n",
        "        final_response = news_bot_v2(\n",
        "            [\n",
        "                {\n",
        "                    \"role\": \"system\",\n",
        "                    \"content\": \"사용자의 질문과 이를 답변하기 위한 정보가 tool 실행 결과를 통해 주어집니다. 전체 내용을 최대한 자세히 읽고, 상세하게 답변하세요.\"\n",
        "                },\n",
        "                {\n",
        "                    \"role\": \"user\",\n",
        "                    \"content\": prompt\n",
        "                },\n",
        "                tool_call_result,\n",
        "                *tool_messages\n",
        "            ],\n",
        "            stream=True,\n",
        "            model=model\n",
        "        )\n",
        "\n",
        "        for chunk in final_response:\n",
        "            delta = chunk.choices[0].delta\n",
        "            if delta and delta.content:\n",
        "                print(delta.content, end='')\n",
        "\n",
        "    else:\n",
        "        # tool 호출이 없으면 일반 대화로 응답\n",
        "        print('🔵 Nothing')\n",
        "        print(tool_call_result.content)\n"
      ]
    },
    {
      "cell_type": "code",
      "execution_count": 35,
      "id": "8V-Do7_dD_PE",
      "metadata": {
        "id": "8V-Do7_dD_PE"
      },
      "outputs": [
        {
          "name": "stdout",
          "output_type": "stream",
          "text": [
            "🟡 Prompt: 넷플릭스 신작 추천해줘.\n",
            "---\n",
            "🟢 News_Bot: Call web_search {'query': '넷플릭스 신작'}\n",
            "제목: 다큐멘터리부터 SF 호러물까지⋯국내외 OTT <b>신작</b> 공개 [콘슐랭]\n",
            "URL: https://n.news.naver.com/mnews/article/031/0000957584?sid=105\n",
            "내용: 그날 그곳에 있었던 그들의 이야기 '나는 생존자다' <b>넷플릭스</b>는 15일 <b>신작</b>으로 '나는 생존자다'를 공개했다. 대한민국을 충격에 빠뜨린 네 개의 사건, 반복돼서는 안 될 이야기를 살아남은 사람들의 목소리로 기록한... \n",
            "---\n",
            "제목: '나는 신이다' 후속작→'연애 실험', <b>넷플릭스 신작</b> '종합선물세트'\n",
            "URL: https://sports.hankooki.com/news/articleView.html?idxno=6906955\n",
            "내용: 8월 셋째 주, <b>넷플릭스</b>가 전 세계 시청자들의 시선을 사로잡을 <b>신작</b> 라인업을 공개했다. 참혹한 사건의 생존자 증언을 담은 다큐멘터리부터 숨 막히는 하룻밤 추격극, 얼굴 대신 마음으로만 이어지는 연애 실험, 인기... \n",
            "---\n",
            "제목: [이번주 뭐보지] <b>넷플릭스</b> '나는 생존자다' 등 <b>신작</b> 공개\n",
            "URL: https://www.newscj.com/news/articleView.html?idxno=3306067\n",
            "내용: <b>넷플릭스</b>가 금주 <b>신작</b> 라인업을 15일 공개했다. '나는 생존자다'는 대한민국 사회를 뒤흔든 사이비 종교 사건의 진실을 그린 '나는 신이다'의 두 번째 이야기로 대한민국을 충격에 빠뜨린 네 개의 참혹한 사건, 반복돼서는... \n",
            "---\n",
            "제목: <b>넷플릭스</b> 8월 넷째 주 <b>신작</b> 추천\n",
            "URL: https://www.bntnews.co.kr/article/view/bnt202508140174\n",
            "내용: <b>넷플릭스</b>가 8월 넷째 주 신락 라인업을 발표했다. #나는 생존자다 (8월 15일) ‘나는 생존자다’ (제공: <b>넷플릭스</b>) ‘나는 생존자다’는 대한민국 사회를 뒤흔든 사이비 종교 사건의 진실을 그린 ‘나는 신이다’의 두 번째... \n",
            "---\n",
            "제목: <b>넷플릭스</b> ‘나는 생존자다’ 예정대로 본다…JMS 방송금지 가처분 기각\n",
            "URL: https://n.news.naver.com/mnews/article/016/0002514738?sid=102\n",
            "내용: [연합] [헤럴드경제=김현일 기자] 여신도 성폭행 혐의로 재판에 넘겨진 정명석 총재의 기독교복음선교회(JMS)가 <b>넷플릭스</b> 다큐멘터리 <b>신작</b> ‘나는 생존자다’의 방송금지 가처분 신청을 냈지만 법원에서 기각됐다. 법원... \n",
            "---\n",
            "제목: JMS 그 이후...<b>넷플릭스</b>, ‘나는 신이다’ 후속 ‘나는 생존자다’ 공개\n",
            "URL: https://n.news.naver.com/mnews/article/092/0002386382?sid=105\n",
            "내용: 지난 2023년 국내에 큰 파장을 일으킨 <b>넷플릭스</b> 다큐멘터리 시리즈 ‘나는 신이다’ 후속편 ‘나는 생존자가’ 15일 공개됐다. 전편이 충격적인 폭로에 중점을 두고 있다면 <b>신작</b>은 살아남은 자들의 이야기로 재구성한... \n",
            "---\n",
            "제목: [주간 <b>넷플릭스</b>] 후덥지근한 여름 날려 버리는 화제의 <b>신작</b>\n",
            "URL: https://www.nc.press/news/articleView.html?idxno=571431\n",
            "내용: <b>넷플릭스</b>가 금주 화제의 <b>신작</b>을 공개했다. 사진=<b>넷플릭스</b> 그날, 그곳에 있었던 생존자들, 그들의 끝나지 않은 이야기 나는 생존자다 The Echoes of Survivors: Inside Korea's Tragedies &lt;나는 생존자다&gt;는 대한민국 사회를 뒤흔든... \n",
            "---\n",
            "제목: <b>넷플릭스</b> 금주의 <b>신작</b> '나는 생존자다' '아따맘마 리마스터'\n",
            "URL: https://n.news.naver.com/mnews/article/140/0000055797?sid=004\n",
            "내용: 잡고, <b>넷플릭스</b> 영화 &lt;그녀의 조각들&gt;로 베니스 영화제에서 여우주연상을 수상한 바네사 커비가 주연을... 그린 <b>넷플릭스</b> 리얼리티 시리즈다. 오로지 대화로만 교감할 수 있는 공간에서 서로 강렬한 유대를 쌓으며 점차... \n",
            "---\n",
            "제목: 이창동 감독 <b>신작</b>은 왜 <b>넷플릭스</b> 행을 택했나···제작사 대표의 솔직...\n",
            "URL: https://n.news.naver.com/mnews/article/032/0003388649?sid=103\n",
            "내용: &lt;버닝&gt;(2018) 이후 7년 만의 <b>신작</b> 소식이다. <b>넷플릭스</b>는 5일 “영화 &lt;가능한 사랑&gt;의 제작을 확정지었다”며 배우 전도연, 설경구, 조인성, 조여정 등의 출연 소식을 알렸다. 영화는 극과 극의 삶을 살아온 두 부부의... \n",
            "---\n",
            "제목: 넥슨게임즈, 블록버스터급 <b>신작</b> '우치 더 웨이페어러' 공개\n",
            "URL: https://n.news.naver.com/mnews/article/001/0015560594?sid=105\n",
            "내용: (AAA)급 <b>신작</b> '우치 더 웨이페어러(Woochi the Wayfarer)' 티저 영상을 최초 공개했다고 12일 밝혔다. '우치'는 가상의... 영상 전반에 흐르는 국악 기반의 음악은 영화 '기생충'과 <b>넷플릭스</b> 시리즈 '오징어 게임' 제작에 참여한... \n",
            "---\n",
            "제목: 넥슨게임즈, AAA급 <b>신작</b> '우치 더 웨이페어러' 티저 영상 첫 공개\n",
            "URL: https://n.news.naver.com/mnews/article/092/0002385763?sid=105\n",
            "내용: 과 <b>넷플릭스</b> 시리즈 '오징어 게임'으로 잘 알려진 정재일 음악감독이 맡아, 영상의 서사와 감정선을 더욱 깊이 있게 표현했다. ‘우치 더 웨이페어러’는 넥슨게임즈 박용현 대표의 '빅게임’ 전략이 녹아 있는 <b>신작</b>으로... \n",
            "---\n",
            "제목: [금주 OTT <b>신작</b>] '나는 생존자다', '미션임파서블: 파이널 레코닝' 등 공...\n",
            "URL: https://www.newspim.com/news/view/20250814001029\n",
            "내용: [사진=<b>넷플릭스</b>] 2025.08.14 moonddo00@newspim.com 지난 2023년 공개된 '나는 신이다' 이후, 조성현 PD와 제작진이 2년... [사진=<b>넷플릭스</b>] 2025.08.14 moonddo00@newspim.com '밤은 늘 찾아온다'는 가족과 살던 집에서 쫓겨날 위기에 처한... \n",
            "---\n",
            "제목: '애마' 이하늬X방효린 &quot;전설적 에로영화의 탄생&quot; <b>넷플릭스</b> 22일 공개 '영...\n",
            "URL: https://www.topstarnews.net/news/articleView.html?idxno=15770263\n",
            "내용: 그 중에서도 '<b>신작</b>이 좋다' 코너를 통해 '투게더'와 함께 소개한 <b>넷플릭스</b> 시리즈 '애마'가 시청자의 큰 관심을 모았다. '애마'는 '천하장사 마돈나'와 '독전'의 이해영 감독이 연출과 극본을 다 맡은 작품이다.... \n",
            "---\n",
            "제목: 넥슨게임즈, AAA급 <b>신작</b> '우치 더 웨이페어러' 티저 영상 공개\n",
            "URL: https://n.news.naver.com/mnews/article/421/0008423772?sid=105\n",
            "내용: 영상 음악은 영화 '기생충'과 <b>넷플릭스</b> 시리즈 '오징어 게임'의 음악감독으로 알려진 정재일 감독이 맡았다. 넥슨게임즈는 '우치 더 웨이페어러'에 한국 고유의 역사와 문화를 담아내고자 한다. 회사는 한국 문학과 국악... \n",
            "---\n",
            "제목: 넥슨게임즈, 트리플A <b>신작</b> ‘우치 더 웨이페어러’ 티저 영상 공개\n",
            "URL: https://m.sports.naver.com/esports/article/144/0001059888\n",
            "내용: <b>넷플릭스</b> 시리즈 ‘오징어 게임’으로 잘 알려진 정재일 음악감독이 맡아, 영상의 서사와 감정선을 더욱 깊이 있게 표현했다. ‘우치 더 웨이페어러’는 넥슨게임즈 박용현 대표의 ‘빅게임’ 전략이 녹아 있는 <b>신작</b>으... \n",
            "---\n",
            "제목: 넥슨게임즈, 트리플A <b>신작</b> ‘우치 더 웨이페어러’ 티저 영상 최초 공개\n",
            "URL: https://n.news.naver.com/mnews/article/243/0000082919?sid=105\n",
            "내용: 과 <b>넷플릭스</b> 시리즈 '오징어 게임'으로 잘 알려진 정재일 음악감독이 맡아, 영상의 서사와 감정선을 더욱 깊이 있게 표현했다. ‘우치 더 웨이페어러’는 넥슨게임즈 박용현 대표의 '빅게임’ 전략이 녹아 있는 <b>신작</b>으로... \n",
            "---\n",
            "제목: <b>넷플릭스 신작</b> '케이팝 데몬 헌터스', 시청 기록 돌파하며 '레드 노티스...\n",
            "URL: https://www.gokorea.kr/news/articleView.html?idxno=836011\n",
            "내용: <b>넷플릭스</b>의 흥행 목록에서 주목할 만한 변화가 감지되고 있다. 애니메이션 영화 '케이팝 데몬 헌터스'(이하 '케데헌')가 <b>넷플릭스</b> 영화 역사상 두 번째로 많이 시청된 작품으로 자리잡았다. 13일 <b>넷플릭스</b>의 공식... \n",
            "---\n",
            "제목: <b>넷플릭스</b> 8월 둘째 주 <b>신작</b> 추천\n",
            "URL: https://www.bntnews.co.kr/article/view/bnt202508070114\n",
            "내용: <b>넷플릭스</b>가 8월 둘째 주 <b>신작</b> 라인업을 발표했다. #웬즈데이 시즌2 ‘웬즈데이2’ (제공: <b>넷플릭스</b>) ‘웬즈데이’ 시즌2는 새 학기를 맞아 네버모어 아카데미에 돌아온 ‘웬즈데이 아담스’가 자신을 둘러싼 더... \n",
            "---\n",
            "제목: 넥슨게임즈, 전우치 소재 <b>신작</b> '우치 더 웨이페어러' 공개\n",
            "URL: https://news.mtn.co.kr/news-detail/2025081215084539433\n",
            "내용: 영화 '기생충'과 <b>넷플릭스</b> 시리즈 '오징어 게임'으로 잘 알려진 정재일 음악감독이 맡아, 영상의 서사와 감정선을 더욱 깊이 있게 표현했다.‘우치 더 웨이페어러’는 박용현 대표의 '빅게임’ 전략이 녹아 있는 <b>신작</b>이다.... \n",
            "---\n",
            "제목: 넥슨게임즈, BIG 게임 <b>신작</b> ‘우치 더 웨이페어러’ 티저 영상 공개\n",
            "URL: https://game.donga.com/118692/\n",
            "내용: 과 <b>넷플릭스</b> 시리즈 '오징어 게임'으로 잘 알려진 정재일 음악감독이 맡아, 영상의 서사와 감정선을 더욱 깊이 있게 표현했다. ‘우치 더 웨이페어러’는 넥슨게임즈 박용현 대표의 '빅게임’ 전략이 녹아 있는 <b>신작</b>으로... \n",
            "---\n",
            "제목: 컴투스, 4세대 MMORPG '더스타라이트' 흥행 기대…&quot;<b>신작</b> 확대&quot;\n",
            "URL: https://n.news.naver.com/mnews/article/421/0008423717?sid=105\n",
            "내용: 컴투스(078340)는 하반기 <b>신작</b> '더 스타라이트'와 기존작의 마케팅 효과로 성장세를 이어갈 계획이다.... 남 대표는 &quot;원작 애니메이션은 지난 7월부터 일본 전국 30개 채널에서 방영하고, 글로벌 <b>넷플릭스</b>와... \n",
            "---\n",
            "제목: 넥슨게임즈, 트리플A <b>신작</b> '우치 더 웨이페어러' 티저 영상 첫 공개\n",
            "URL: https://n.news.naver.com/mnews/article/030/0003340037?sid=105\n",
            "내용: 영화 '기생충'과 <b>넷플릭스</b> 시리즈 '오징어 게임'으로 잘 알려진 정재일 음악감독이 맡아 영상의 서사와 감정선을 더욱 깊이 있게 표현했다. 우치 더 웨이페어러는 박용현 넥슨게임즈 대표의 '빅게임' 전략이 녹아 있는 <b>신작</b>... \n",
            "---\n",
            "제목: 올해도 못 놓는다…부국제, 넷플·티빙·디플 <b>신작</b> 6편 초청\n",
            "URL: https://m.entertain.naver.com/article/241/0003459112\n",
            "내용: <b>넷플릭스</b> 초청작은 ‘당신이 죽였다’, ‘로맨틱 어나니머스’, ‘이쿠사가미: 전쟁의 신’, ‘회혼계’ 등 4편이다. ‘당신이 죽였다’는 드라마 ‘악귀’ 이정림 감독의 <b>신작</b>으로, 두 여성의 깊은 우정과 연대 그린다.... \n",
            "---\n",
            "제목: 넥슨게임즈, 트리플A <b>신작</b> '우치 더 웨이페어러' 티저 영상 첫선\n",
            "URL: https://n.news.naver.com/mnews/article/031/0000956339?sid=105\n",
            "내용: 과 <b>넷플릭스</b> 시리즈 '오징어 게임'으로 잘 알려진 정재일 음악감독이 맡아, 영상의 서사와 감정선을 더욱 깊이 있게 표현했다. 우치 더 웨이페어러는 넥슨게임즈 박용현 대표의 '빅게임’ 전략이 녹아 있는 <b>신작</b>으로... \n",
            "---\n",
            "제목: [컨콜 종합] 엔씨소프트, '아이온2' 시작으로 내년 <b>신작</b> 7종 선보인다\n",
            "URL: https://n.news.naver.com/mnews/article/138/0002202571?sid=105\n",
            "내용: 게임&quot;이라며, &quot;<b>넷플릭스</b>의 '오징어게임'이 흥행한 이후 국내 콘텐츠 산업에 대한 선순환 효과가 이어졌듯, 아이온2는 내년 출시 예정인 다른 <b>신작</b>의 성공에도 긍정적인 영향을 끼칠 것으로 전망한다&quot;라고 설명했다.... \n",
            "---\n",
            "제목: 넥슨게임즈, 도사 전우치 소재 <b>신작</b> '우치 더 웨이페어러' 티저 공개\n",
            "URL: https://www.newspim.com/news/view/20250812000993\n",
            "내용: 영화 '기생충'과 <b>넷플릭스</b> 시리즈 '오징어 게임' 음악감독 정재일이 맡아 서사와 감정선을 깊이 있게 표현했다. '우치 더 웨이페어러'는 박용현 넥슨게임즈 대표의 '빅게임' 전략이 반영된 <b>신작</b>으로, 글로벌 시장의... \n",
            "---\n",
            "제목: 카카오엔터, 제2의 '폭싹 속았수다' '악연'은? 이영애·고현정·김고은 ...\n",
            "URL: https://n.news.naver.com/mnews/article/014/0005390902?sid=103\n",
            "내용: 13일 카카오엔터에 따르면 올 상반기 시청 수 기준 <b>넷플릭스</b> 톱100 시리즈에 오른 11개의 한국 작품 중... 하반기, 고현정 이영애 김고은 <b>신작</b> 내봐 카카오엔터는 하반기에도 특색 있는 <b>신작</b>들로 국내외 시청자들을... \n",
            "---\n",
            "제목: 전우치 기반 넥슨 AAA급 <b>신작</b> '우치 더 웨이페어러' 공개\n",
            "URL: https://m.sports.naver.com/esports/article/356/0000075998\n",
            "내용: 과 <b>넷플릭스</b> 시리즈 '오징어 게임'으로 잘 알려진 정재일 음악감독이 맡았다. ▲ 우치 더 웨이페어러 티저 영상 (영상제공: 넥슨게임즈) 우치 더 웨이페어러는 넥슨게임즈 박용현 대표의 '빅게임’ 전략이 녹아 있는 <b>신작</b>... \n",
            "---\n",
            "제목: 이창동 8년만 <b>신작</b> <b>넷플릭스</b>行…전도연·설경구·조인성·조여정 출연\n",
            "URL: https://m.entertain.naver.com/article/009/0005536282\n",
            "내용: 이창동 감독의 <b>신작</b>을 통해서다. <b>넷플릭스</b>는 5일 새 영화 ‘가능한 사랑’(감독 이창동)의 제작을 확정했다고 알렸다. 더불어 전도연 설경구 조인성 조연정의 캐스팅 소식도 전했다. 이 감독이 ‘버닝’ 후 8년 만에... \n",
            "---\n",
            "제목: &quot;팀 버튼 귀환부터 트롯돌까지&quot; <b>넷플릭스</b> 이번 주 <b>신작</b> 라인업\n",
            "URL: https://sports.hankooki.com/news/articleView.html?idxno=6906258\n",
            "내용: 미스터리, 코미디, 다큐멘터리, 음악까지 장르도 감성도 전혀 다른 다섯 편의 <b>신작</b>이 <b>넷플릭스</b>에 출격한다. 고문 같았던 기다림이 끝났다 '웬즈데이 시즌2'(Wednesday Season 2) '웬즈데이' 시즌2는 새 학기를 맞아... \n",
            "---\n",
            "\n",
            "---\n",
            "🟢 News_Bot:최근 넷플릭스에서 공개된 신작 중 몇 가지를 소개해드리겠습니다.\n",
            "\n",
            "1. **나는 생존자다**: 이 작품은 대한민국 사회를 뒤흔든 사이비 종교 사건의 진실을 다룬 다큐멘터리 시리즈입니다. '나는 신이다'의 후속작으로, 충격적인 사건의 생존자들의 이야기를 중심으로 구성되어 있습니다. [관련 기사 보기](https://n.news.naver.com/mnews/article/031/0000957584?sid=105)\n",
            "\n",
            "2. **케이팝 데몬 헌터스**: 이 애니메이션 영화는 넷플릭스에서 두 번째로 많이 시청된 작품으로 자리잡았습니다. 케이팝과 판타지 요소가 결합된 흥미로운 스토리를 제공합니다. [관련 기사 보기](https://www.gokorea.kr/news/articleView.html?idxno=836011)\n",
            "\n",
            "3. **웬즈데이 시즌2**: 인기 시리즈 '웬즈데이'의 두 번째 시즌이 공개되었습니다. 네버모어 아카데미에 돌아온 웬즈데이 아담스의 새로운 학기 이야기를 다룹니다. [관련 기사 보기](https://sports.hankooki.com/news/articleView.html?idxno=6906258)\n",
            "\n",
            "이 외에도 다양한 장르의 신작들이 넷플릭스에 추가되고 있으니, 관심 있는 장르를 찾아보시면 좋을 것 같습니다."
          ]
        }
      ],
      "source": [
        "news_qa_v2(prompt, model='gpt-4o')"
      ]
    }
  ],
  "metadata": {
    "colab": {
      "provenance": []
    },
    "kernelspec": {
      "display_name": "llm",
      "language": "python",
      "name": "python3"
    },
    "language_info": {
      "codemirror_mode": {
        "name": "ipython",
        "version": 3
      },
      "file_extension": ".py",
      "mimetype": "text/x-python",
      "name": "python",
      "nbconvert_exporter": "python",
      "pygments_lexer": "ipython3",
      "version": "3.10.11"
    }
  },
  "nbformat": 4,
  "nbformat_minor": 5
}
