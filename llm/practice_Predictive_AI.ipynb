{
 "cells": [
  {
   "cell_type": "markdown",
   "metadata": {},
   "source": [
    "#### 다음 실습 코드는 학습 목적으로만 사용 바랍니다. 문의 : audit@korea.ac.kr 임성열 Ph.D."
   ]
  },
  {
   "cell_type": "code",
   "execution_count": 1,
   "metadata": {},
   "outputs": [
    {
     "name": "stdout",
     "output_type": "stream",
     "text": [
      "Collecting pandas\n",
      "  Downloading pandas-2.3.1-cp310-cp310-win_amd64.whl (11.3 MB)\n",
      "     ---------------------------------------- 0.0/11.3 MB ? eta -:--:--\n",
      "     ------------ --------------------------- 3.5/11.3 MB 74.3 MB/s eta 0:00:01\n",
      "     --------------------------- ------------ 7.9/11.3 MB 84.8 MB/s eta 0:00:01\n",
      "     -------------------------------------  11.3/11.3 MB 108.8 MB/s eta 0:00:01\n",
      "     --------------------------------------- 11.3/11.3 MB 93.8 MB/s eta 0:00:00\n",
      "Collecting scikit-learn\n",
      "  Downloading scikit_learn-1.7.1-cp310-cp310-win_amd64.whl (8.9 MB)\n",
      "     ---------------------------------------- 0.0/8.9 MB ? eta -:--:--\n",
      "     ---------------------- ----------------- 5.0/8.9 MB 106.8 MB/s eta 0:00:01\n",
      "     ------------------------------------- -- 8.4/8.9 MB 107.4 MB/s eta 0:00:01\n",
      "     ---------------------------------------- 8.9/8.9 MB 71.1 MB/s eta 0:00:00\n",
      "Requirement already satisfied: numpy>=1.22.4 in .\\lib\\site-packages (from pandas) (1.26.4)\n",
      "Collecting pytz>=2020.1\n",
      "  Downloading pytz-2025.2-py2.py3-none-any.whl (509 kB)\n",
      "     ---------------------------------------- 0.0/509.2 kB ? eta -:--:--\n",
      "     ---------------------------------------- 509.2/509.2 kB ? eta 0:00:00\n",
      "Collecting tzdata>=2022.7\n",
      "  Downloading tzdata-2025.2-py2.py3-none-any.whl (347 kB)\n",
      "     ---------------------------------------- 0.0/347.8 kB ? eta -:--:--\n",
      "     ---------------------------------------- 347.8/347.8 kB ? eta 0:00:00\n",
      "Requirement already satisfied: python-dateutil>=2.8.2 in .\\lib\\site-packages (from pandas) (2.9.0.post0)\n",
      "Collecting threadpoolctl>=3.1.0\n",
      "  Downloading threadpoolctl-3.6.0-py3-none-any.whl (18 kB)\n",
      "Collecting scipy>=1.8.0\n",
      "  Downloading scipy-1.15.3-cp310-cp310-win_amd64.whl (41.3 MB)\n",
      "     ---------------------------------------- 0.0/41.3 MB ? eta -:--:--\n",
      "     - -------------------------------------- 1.4/41.3 MB 45.6 MB/s eta 0:00:01\n",
      "     -- ------------------------------------- 3.1/41.3 MB 32.7 MB/s eta 0:00:02\n",
      "     ---- ----------------------------------- 4.8/41.3 MB 33.9 MB/s eta 0:00:02\n",
      "     ----- ---------------------------------- 5.4/41.3 MB 38.2 MB/s eta 0:00:01\n",
      "     ----- ---------------------------------- 5.4/41.3 MB 28.9 MB/s eta 0:00:02\n",
      "     ----- ---------------------------------- 5.5/41.3 MB 20.9 MB/s eta 0:00:02\n",
      "     ----- ---------------------------------- 5.7/41.3 MB 18.3 MB/s eta 0:00:02\n",
      "     ----- ---------------------------------- 6.1/41.3 MB 17.0 MB/s eta 0:00:03\n",
      "     -------- ------------------------------- 8.8/41.3 MB 20.9 MB/s eta 0:00:02\n",
      "     ------------- ------------------------- 14.2/41.3 MB 28.4 MB/s eta 0:00:01\n",
      "     ----------------- -------------------- 19.5/41.3 MB 110.0 MB/s eta 0:00:01\n",
      "     ------------------- ------------------- 21.1/41.3 MB 93.0 MB/s eta 0:00:01\n",
      "     ------------------- ------------------- 21.2/41.3 MB 65.2 MB/s eta 0:00:01\n",
      "     -------------------- ------------------ 21.2/41.3 MB 50.4 MB/s eta 0:00:01\n",
      "     -------------------- ------------------ 21.3/41.3 MB 40.9 MB/s eta 0:00:01\n",
      "     -------------------- ------------------ 21.5/41.3 MB 34.4 MB/s eta 0:00:01\n",
      "     -------------------- ------------------ 21.7/41.3 MB 29.7 MB/s eta 0:00:01\n",
      "     --------------------- ----------------- 23.1/41.3 MB 27.3 MB/s eta 0:00:01\n",
      "     -------------------------- ------------ 28.5/41.3 MB 27.3 MB/s eta 0:00:01\n",
      "     ------------------------------- ------ 33.7/41.3 MB 108.8 MB/s eta 0:00:01\n",
      "     -------------------------------- ------ 34.5/41.3 MB 81.8 MB/s eta 0:00:01\n",
      "     ------------------------------------- - 39.2/41.3 MB 81.8 MB/s eta 0:00:01\n",
      "     ------------------------------------- - 40.1/41.3 MB 59.5 MB/s eta 0:00:01\n",
      "     --------------------------------------  40.5/41.3 MB 46.7 MB/s eta 0:00:01\n",
      "     --------------------------------------  41.3/41.3 MB 43.7 MB/s eta 0:00:01\n",
      "     --------------------------------------  41.3/41.3 MB 43.7 MB/s eta 0:00:01\n",
      "     --------------------------------------- 41.3/41.3 MB 31.2 MB/s eta 0:00:00\n",
      "Collecting joblib>=1.2.0\n",
      "  Downloading joblib-1.5.1-py3-none-any.whl (307 kB)\n",
      "     ---------------------------------------- 0.0/307.7 kB ? eta -:--:--\n",
      "     ---------------------------------------- 307.7/307.7 kB ? eta 0:00:00\n",
      "Requirement already satisfied: six>=1.5 in .\\lib\\site-packages (from python-dateutil>=2.8.2->pandas) (1.17.0)\n",
      "Installing collected packages: pytz, tzdata, threadpoolctl, scipy, joblib, scikit-learn, pandas\n",
      "Successfully installed joblib-1.5.1 pandas-2.3.1 pytz-2025.2 scikit-learn-1.7.1 scipy-1.15.3 threadpoolctl-3.6.0 tzdata-2025.2\n",
      "Note: you may need to restart the kernel to use updated packages.\n"
     ]
    },
    {
     "name": "stderr",
     "output_type": "stream",
     "text": [
      "\n",
      "[notice] A new release of pip is available: 23.0.1 -> 25.2\n",
      "[notice] To update, run: python.exe -m pip install --upgrade pip\n"
     ]
    }
   ],
   "source": [
    "%pip install pandas scikit-learn"
   ]
  },
  {
   "cell_type": "code",
   "execution_count": 2,
   "metadata": {},
   "outputs": [
    {
     "name": "stdout",
     "output_type": "stream",
     "text": [
      "수학 낙제 예측: 0\n"
     ]
    }
   ],
   "source": [
    "import pandas as pd\n",
    "from sklearn.ensemble import RandomForestClassifier\n",
    "from sklearn.model_selection import train_test_split\n",
    "\n",
    "# 예시 데이터: 학생 점수\n",
    "data = pd.DataFrame({\n",
    "    \"math\": [40, 65, 80, 30, 90],\n",
    "    \"science\": [35, 60, 75, 25, 85],\n",
    "    \"english\": [70, 80, 85, 60, 95],\n",
    "# 목표 변수, 수학 낙제 여부 (1 = 낙제, 0 = 통과)\n",
    "    \"fail_math\": [1, 0, 0, 1, 0]\n",
    "})\n",
    "\n",
    "# 입력 변수(X): 과학, 영어 점수, 출력 변수(y): 수학 낙제 여부\n",
    "X = data[[\"science\", \"english\"]]\n",
    "y = data[\"fail_math\"]\n",
    "\n",
    "X_train, X_test, y_train, y_test = train_test_split(X, y)\n",
    "\n",
    "# 여러 개의 결정 트리를 앙상블해 예측을 수행하는 모델\n",
    "model = RandomForestClassifier()\n",
    "model.fit(X_train, y_train)\n",
    "\n",
    "# 새로운 학생 예측\n",
    "# 과학 50점, 영어 60점인 학생의 데이터를 모델에 입력\n",
    "new_student = pd.DataFrame({\"science\": [70], \"english\": [60]})\n",
    "prediction = model.predict(new_student)\n",
    "# 예측 결과: 1이면 낙제, 0이면 통과\n",
    "print(\"수학 낙제 예측:\", prediction[0])"
   ]
  }
 ],
 "metadata": {
  "kernelspec": {
   "display_name": "llm",
   "language": "python",
   "name": "python3"
  },
  "language_info": {
   "codemirror_mode": {
    "name": "ipython",
    "version": 3
   },
   "file_extension": ".py",
   "mimetype": "text/x-python",
   "name": "python",
   "nbconvert_exporter": "python",
   "pygments_lexer": "ipython3",
   "version": "3.10.11"
  }
 },
 "nbformat": 4,
 "nbformat_minor": 2
}
