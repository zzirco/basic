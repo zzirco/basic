{
 "cells": [
  {
   "cell_type": "markdown",
   "metadata": {},
   "source": [
    "#### 다음 실습 코드는 학습 목적으로만 사용 바랍니다. 문의 : audit@korea.ac.kr 임성열 Ph.D."
   ]
  },
  {
   "cell_type": "code",
   "execution_count": null,
   "metadata": {},
   "outputs": [],
   "source": [
    "%pip install pandas scikit-learn"
   ]
  },
  {
   "cell_type": "code",
   "execution_count": 4,
   "metadata": {},
   "outputs": [
    {
     "name": "stdout",
     "output_type": "stream",
     "text": [
      "수학 낙제 예측: 0\n"
     ]
    }
   ],
   "source": [
    "import pandas as pd\n",
    "from sklearn.ensemble import RandomForestClassifier\n",
    "from sklearn.model_selection import train_test_split\n",
    "\n",
    "# 예시 데이터: 학생 점수\n",
    "data = pd.DataFrame({\n",
    "    \"math\": [40, 65, 80, 30, 90],\n",
    "    \"science\": [35, 60, 75, 25, 85],\n",
    "    \"english\": [70, 80, 85, 60, 95],\n",
    "# 목표 변수, 수학 낙제 여부 (1 = 낙제, 0 = 통과)\n",
    "    \"fail_math\": [1, 0, 0, 1, 0]\n",
    "})\n",
    "\n",
    "# 입력 변수(X): 과학, 영어 점수, 출력 변수(y): 수학 낙제 여부\n",
    "X = data[[\"science\", \"english\"]]\n",
    "y = data[\"fail_math\"]\n",
    "\n",
    "X_train, X_test, y_train, y_test = train_test_split(X, y)\n",
    "\n",
    "# 여러 개의 결정 트리를 앙상블해 예측을 수행하는 모델\n",
    "model = RandomForestClassifier()\n",
    "model.fit(X_train, y_train)\n",
    "\n",
    "# 새로운 학생 예측\n",
    "# 과학 50점, 영어 60점인 학생의 데이터를 모델에 입력\n",
    "new_student = pd.DataFrame({\"science\": [70], \"english\": [60]})\n",
    "prediction = model.predict(new_student)\n",
    "# 예측 결과: 1이면 낙제, 0이면 통과\n",
    "print(\"수학 낙제 예측:\", prediction[0])"
   ]
  }
 ],
 "metadata": {
  "kernelspec": {
   "display_name": "rag",
   "language": "python",
   "name": "python3"
  },
  "language_info": {
   "codemirror_mode": {
    "name": "ipython",
    "version": 3
   },
   "file_extension": ".py",
   "mimetype": "text/x-python",
   "name": "python",
   "nbconvert_exporter": "python",
   "pygments_lexer": "ipython3",
   "version": "3.11.13"
  }
 },
 "nbformat": 4,
 "nbformat_minor": 2
}
