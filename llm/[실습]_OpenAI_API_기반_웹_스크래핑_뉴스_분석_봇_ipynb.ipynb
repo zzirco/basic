{
  "cells": [
    {
      "cell_type": "markdown",
      "id": "e993b222",
      "metadata": {
        "id": "e993b222"
      },
      "source": [
        "# [실습] OpenAI API를 이용하여 뉴스 기사 정리 봇 만들기"
      ]
    },
    {
      "cell_type": "markdown",
      "id": "f4b410df",
      "metadata": {
        "id": "f4b410df"
      },
      "source": [
        "OpenAI Chat API를 이용해 뉴스 검색 결과를 정리하는 프로그램을 만들어 보겠습니다.\n"
      ]
    },
    {
      "cell_type": "markdown",
      "id": "35b32f4c",
      "metadata": {
        "id": "35b32f4c"
      },
      "source": [
        "네이버의 뉴스 검색 API를 사용하겠습니다.   \n",
        "(https://developers.naver.com/apps/#/register?defaultScope=search)"
      ]
    },
    {
      "cell_type": "code",
      "execution_count": 4,
      "id": "f6eb4187",
      "metadata": {
        "id": "f6eb4187"
      },
      "outputs": [
        {
          "name": "stdout",
          "output_type": "stream",
          "text": [
            "Requirement already satisfied: openai in .\\lib\\site-packages (1.25.1)\n",
            "Collecting openai\n",
            "  Using cached openai-1.99.9-py3-none-any.whl (786 kB)\n",
            "Requirement already satisfied: tiktoken in .\\lib\\site-packages (0.11.0)\n",
            "Collecting python-dotenv\n",
            "  Using cached python_dotenv-1.1.1-py3-none-any.whl (20 kB)\n",
            "Requirement already satisfied: sniffio in .\\lib\\site-packages (from openai) (1.3.1)\n",
            "Requirement already satisfied: distro<2,>=1.7.0 in .\\lib\\site-packages (from openai) (1.9.0)\n",
            "Requirement already satisfied: pydantic<3,>=1.9.0 in .\\lib\\site-packages (from openai) (2.11.7)\n",
            "Requirement already satisfied: jiter<1,>=0.4.0 in .\\lib\\site-packages (from openai) (0.10.0)\n",
            "Requirement already satisfied: anyio<5,>=3.5.0 in .\\lib\\site-packages (from openai) (4.10.0)\n",
            "Requirement already satisfied: typing-extensions<5,>=4.11 in .\\lib\\site-packages (from openai) (4.14.1)\n",
            "Requirement already satisfied: tqdm>4 in .\\lib\\site-packages (from openai) (4.67.1)\n",
            "Requirement already satisfied: httpx<1,>=0.23.0 in .\\lib\\site-packages (from openai) (0.28.1)\n",
            "Requirement already satisfied: requests>=2.26.0 in .\\lib\\site-packages (from tiktoken) (2.32.4)\n",
            "Requirement already satisfied: regex>=2022.1.18 in .\\lib\\site-packages (from tiktoken) (2025.7.34)\n",
            "Requirement already satisfied: idna>=2.8 in .\\lib\\site-packages (from anyio<5,>=3.5.0->openai) (3.10)\n",
            "Requirement already satisfied: exceptiongroup>=1.0.2 in .\\lib\\site-packages (from anyio<5,>=3.5.0->openai) (1.3.0)\n",
            "Requirement already satisfied: certifi in .\\lib\\site-packages (from httpx<1,>=0.23.0->openai) (2025.8.3)\n",
            "Requirement already satisfied: httpcore==1.* in .\\lib\\site-packages (from httpx<1,>=0.23.0->openai) (1.0.9)\n",
            "Requirement already satisfied: h11>=0.16 in .\\lib\\site-packages (from httpcore==1.*->httpx<1,>=0.23.0->openai) (0.16.0)\n",
            "Requirement already satisfied: typing-inspection>=0.4.0 in .\\lib\\site-packages (from pydantic<3,>=1.9.0->openai) (0.4.1)\n",
            "Requirement already satisfied: pydantic-core==2.33.2 in .\\lib\\site-packages (from pydantic<3,>=1.9.0->openai) (2.33.2)\n",
            "Requirement already satisfied: annotated-types>=0.6.0 in .\\lib\\site-packages (from pydantic<3,>=1.9.0->openai) (0.7.0)\n",
            "Requirement already satisfied: charset_normalizer<4,>=2 in .\\lib\\site-packages (from requests>=2.26.0->tiktoken) (3.4.3)\n",
            "Requirement already satisfied: urllib3<3,>=1.21.1 in .\\lib\\site-packages (from requests>=2.26.0->tiktoken) (2.5.0)\n",
            "Requirement already satisfied: colorama in .\\lib\\site-packages (from tqdm>4->openai) (0.4.6)\n",
            "Installing collected packages: python-dotenv, openai\n",
            "  Attempting uninstall: openai\n",
            "    Found existing installation: openai 1.25.1\n",
            "    Uninstalling openai-1.25.1:\n",
            "      Successfully uninstalled openai-1.25.1\n",
            "Successfully installed openai-1.99.9 python-dotenv-1.1.1\n"
          ]
        },
        {
          "name": "stderr",
          "output_type": "stream",
          "text": [
            "\n",
            "[notice] A new release of pip is available: 23.0.1 -> 25.2\n",
            "[notice] To update, run: python.exe -m pip install --upgrade pip\n"
          ]
        }
      ],
      "source": [
        "!pip install openai tiktoken python-dotenv --upgrade"
      ]
    },
    {
      "cell_type": "code",
      "execution_count": 6,
      "id": "ccd94373",
      "metadata": {
        "id": "ccd94373"
      },
      "outputs": [
        {
          "ename": "TypeError",
          "evalue": "Client.__init__() got an unexpected keyword argument 'proxies'",
          "output_type": "error",
          "traceback": [
            "\u001b[1;31m---------------------------------------------------------------------------\u001b[0m",
            "\u001b[1;31mTypeError\u001b[0m                                 Traceback (most recent call last)",
            "Cell \u001b[1;32mIn[6], line 13\u001b[0m\n\u001b[0;32m     10\u001b[0m \u001b[38;5;28;01mimport\u001b[39;00m\u001b[38;5;250m \u001b[39m\u001b[38;5;21;01mos\u001b[39;00m\n\u001b[0;32m     11\u001b[0m api_key \u001b[38;5;241m=\u001b[39m os\u001b[38;5;241m.\u001b[39mgetenv(\u001b[38;5;124m\"\u001b[39m\u001b[38;5;124mOPENAI_API_KEY\u001b[39m\u001b[38;5;124m\"\u001b[39m)\n\u001b[1;32m---> 13\u001b[0m client \u001b[38;5;241m=\u001b[39m \u001b[43mopenai\u001b[49m\u001b[38;5;241;43m.\u001b[39;49m\u001b[43mOpenAI\u001b[49m\u001b[43m(\u001b[49m\u001b[43m)\u001b[49m\n\u001b[0;32m     16\u001b[0m \u001b[38;5;28;01massert\u001b[39;00m \u001b[38;5;28mlen\u001b[39m(os\u001b[38;5;241m.\u001b[39menviron[\u001b[38;5;124m'\u001b[39m\u001b[38;5;124mOPENAI_API_KEY\u001b[39m\u001b[38;5;124m'\u001b[39m]) \u001b[38;5;241m>\u001b[39m \u001b[38;5;241m0\u001b[39m, \u001b[38;5;124m\"\u001b[39m\u001b[38;5;124mOPENAI_API_KEY가 환경 변수에 설정되어 있지 않습니다. API 키를 설정해주세요.\u001b[39m\u001b[38;5;124m\"\u001b[39m\n\u001b[0;32m     18\u001b[0m \u001b[38;5;66;03m# API 키가 설정되어 있다면, 이 지점 이후의 코드가 실행됩니다.\u001b[39;00m\n",
            "File \u001b[1;32md:\\skala_workspace\\llm\\lib\\site-packages\\openai\\_client.py:122\u001b[0m, in \u001b[0;36m__init__\u001b[1;34m(self, api_key, organization, project, base_url, timeout, max_retries, default_headers, default_query, http_client, _strict_response_validation)\u001b[0m\n\u001b[0;32m     92\u001b[0m \u001b[38;5;28;01mdef\u001b[39;00m\u001b[38;5;250m \u001b[39m\u001b[38;5;21m__init__\u001b[39m(\n\u001b[0;32m     93\u001b[0m     \u001b[38;5;28mself\u001b[39m,\n\u001b[0;32m     94\u001b[0m     \u001b[38;5;241m*\u001b[39m,\n\u001b[1;32m   (...)\u001b[0m\n\u001b[0;32m    117\u001b[0m     _strict_response_validation: \u001b[38;5;28mbool\u001b[39m \u001b[38;5;241m=\u001b[39m \u001b[38;5;28;01mFalse\u001b[39;00m,\n\u001b[0;32m    118\u001b[0m ) \u001b[38;5;241m-\u001b[39m\u001b[38;5;241m>\u001b[39m \u001b[38;5;28;01mNone\u001b[39;00m:\n\u001b[0;32m    119\u001b[0m \u001b[38;5;250m    \u001b[39m\u001b[38;5;124;03m\"\"\"Construct a new synchronous OpenAI client instance.\u001b[39;00m\n\u001b[0;32m    120\u001b[0m \n\u001b[0;32m    121\u001b[0m \u001b[38;5;124;03m    This automatically infers the following arguments from their corresponding environment variables if they are not provided:\u001b[39;00m\n\u001b[1;32m--> 122\u001b[0m \u001b[38;5;124;03m    - `api_key` from `OPENAI_API_KEY`\u001b[39;00m\n\u001b[0;32m    123\u001b[0m \u001b[38;5;124;03m    - `organization` from `OPENAI_ORG_ID`\u001b[39;00m\n\u001b[0;32m    124\u001b[0m \u001b[38;5;124;03m    - `project` from `OPENAI_PROJECT_ID`\u001b[39;00m\n\u001b[0;32m    125\u001b[0m \u001b[38;5;124;03m    - `webhook_secret` from `OPENAI_WEBHOOK_SECRET`\u001b[39;00m\n\u001b[0;32m    126\u001b[0m \u001b[38;5;124;03m    \"\"\"\u001b[39;00m\n\u001b[0;32m    127\u001b[0m     \u001b[38;5;28;01mif\u001b[39;00m api_key \u001b[38;5;129;01mis\u001b[39;00m \u001b[38;5;28;01mNone\u001b[39;00m:\n\u001b[0;32m    128\u001b[0m         api_key \u001b[38;5;241m=\u001b[39m os\u001b[38;5;241m.\u001b[39menviron\u001b[38;5;241m.\u001b[39mget(\u001b[38;5;124m\"\u001b[39m\u001b[38;5;124mOPENAI_API_KEY\u001b[39m\u001b[38;5;124m\"\u001b[39m)\n",
            "File \u001b[1;32md:\\skala_workspace\\llm\\lib\\site-packages\\openai\\_base_client.py:825\u001b[0m, in \u001b[0;36m__init__\u001b[1;34m(self, version, base_url, max_retries, timeout, transport, proxies, limits, http_client, custom_headers, custom_query, _strict_response_validation)\u001b[0m\n\u001b[0;32m    821\u001b[0m _client: httpx\u001b[38;5;241m.\u001b[39mClient\n\u001b[0;32m    822\u001b[0m _default_stream_cls: \u001b[38;5;28mtype\u001b[39m[Stream[Any]] \u001b[38;5;241m|\u001b[39m \u001b[38;5;28;01mNone\u001b[39;00m \u001b[38;5;241m=\u001b[39m \u001b[38;5;28;01mNone\u001b[39;00m\n\u001b[0;32m    824\u001b[0m \u001b[38;5;28;01mdef\u001b[39;00m\u001b[38;5;250m \u001b[39m\u001b[38;5;21m__init__\u001b[39m(\n\u001b[1;32m--> 825\u001b[0m     \u001b[38;5;28mself\u001b[39m,\n\u001b[0;32m    826\u001b[0m     \u001b[38;5;241m*\u001b[39m,\n\u001b[0;32m    827\u001b[0m     version: \u001b[38;5;28mstr\u001b[39m,\n\u001b[0;32m    828\u001b[0m     base_url: \u001b[38;5;28mstr\u001b[39m \u001b[38;5;241m|\u001b[39m URL,\n\u001b[0;32m    829\u001b[0m     max_retries: \u001b[38;5;28mint\u001b[39m \u001b[38;5;241m=\u001b[39m DEFAULT_MAX_RETRIES,\n\u001b[0;32m    830\u001b[0m     timeout: \u001b[38;5;28mfloat\u001b[39m \u001b[38;5;241m|\u001b[39m Timeout \u001b[38;5;241m|\u001b[39m \u001b[38;5;28;01mNone\u001b[39;00m \u001b[38;5;241m|\u001b[39m NotGiven \u001b[38;5;241m=\u001b[39m NOT_GIVEN,\n\u001b[0;32m    831\u001b[0m     http_client: httpx\u001b[38;5;241m.\u001b[39mClient \u001b[38;5;241m|\u001b[39m \u001b[38;5;28;01mNone\u001b[39;00m \u001b[38;5;241m=\u001b[39m \u001b[38;5;28;01mNone\u001b[39;00m,\n\u001b[0;32m    832\u001b[0m     custom_headers: Mapping[\u001b[38;5;28mstr\u001b[39m, \u001b[38;5;28mstr\u001b[39m] \u001b[38;5;241m|\u001b[39m \u001b[38;5;28;01mNone\u001b[39;00m \u001b[38;5;241m=\u001b[39m \u001b[38;5;28;01mNone\u001b[39;00m,\n\u001b[0;32m    833\u001b[0m     custom_query: Mapping[\u001b[38;5;28mstr\u001b[39m, \u001b[38;5;28mobject\u001b[39m] \u001b[38;5;241m|\u001b[39m \u001b[38;5;28;01mNone\u001b[39;00m \u001b[38;5;241m=\u001b[39m \u001b[38;5;28;01mNone\u001b[39;00m,\n\u001b[0;32m    834\u001b[0m     _strict_response_validation: \u001b[38;5;28mbool\u001b[39m,\n\u001b[0;32m    835\u001b[0m ) \u001b[38;5;241m-\u001b[39m\u001b[38;5;241m>\u001b[39m \u001b[38;5;28;01mNone\u001b[39;00m:\n\u001b[0;32m    836\u001b[0m     \u001b[38;5;28;01mif\u001b[39;00m \u001b[38;5;129;01mnot\u001b[39;00m is_given(timeout):\n\u001b[0;32m    837\u001b[0m         \u001b[38;5;66;03m# if the user passed in a custom http client with a non-default\u001b[39;00m\n\u001b[0;32m    838\u001b[0m         \u001b[38;5;66;03m# timeout set then we use that timeout.\u001b[39;00m\n\u001b[1;32m   (...)\u001b[0m\n\u001b[0;32m    842\u001b[0m         \u001b[38;5;66;03m# as this check is structural, meaning that we'll think they didn't\u001b[39;00m\n\u001b[0;32m    843\u001b[0m         \u001b[38;5;66;03m# pass in a timeout and will ignore it\u001b[39;00m\n\u001b[0;32m    844\u001b[0m         \u001b[38;5;28;01mif\u001b[39;00m http_client \u001b[38;5;129;01mand\u001b[39;00m http_client\u001b[38;5;241m.\u001b[39mtimeout \u001b[38;5;241m!=\u001b[39m HTTPX_DEFAULT_TIMEOUT:\n",
            "File \u001b[1;32md:\\skala_workspace\\llm\\lib\\site-packages\\openai\\_base_client.py:723\u001b[0m, in \u001b[0;36m__init__\u001b[1;34m(self, **kwargs)\u001b[0m\n\u001b[0;32m    720\u001b[0m \u001b[38;5;28;01mif\u001b[39;00m retry_date_tuple \u001b[38;5;129;01mis\u001b[39;00m \u001b[38;5;28;01mNone\u001b[39;00m:\n\u001b[0;32m    721\u001b[0m     \u001b[38;5;28;01mreturn\u001b[39;00m \u001b[38;5;28;01mNone\u001b[39;00m\n\u001b[1;32m--> 723\u001b[0m retry_date \u001b[38;5;241m=\u001b[39m email\u001b[38;5;241m.\u001b[39mutils\u001b[38;5;241m.\u001b[39mmktime_tz(retry_date_tuple)\n\u001b[0;32m    724\u001b[0m \u001b[38;5;28;01mreturn\u001b[39;00m \u001b[38;5;28mfloat\u001b[39m(retry_date \u001b[38;5;241m-\u001b[39m time\u001b[38;5;241m.\u001b[39mtime())\n",
            "\u001b[1;31mTypeError\u001b[0m: Client.__init__() got an unexpected keyword argument 'proxies'"
          ]
        }
      ],
      "source": [
        "# os의 환경 변수에 API 키 복사 붙여넣기\n",
        "import openai\n",
        "import os\n",
        "\n",
        "# .env 파일 불러오기\n",
        "from dotenv import load_dotenv\n",
        "load_dotenv()\n",
        "\n",
        "# OPENAI API KEY 설정\n",
        "import os\n",
        "api_key = os.getenv(\"OPENAI_API_KEY\")\n",
        "\n",
        "client = openai.OpenAI()\n",
        "\n",
        "\n",
        "assert len(os.environ['OPENAI_API_KEY']) > 0, \"OPENAI_API_KEY가 환경 변수에 설정되어 있지 않습니다. API 키를 설정해주세요.\"\n",
        "\n",
        "# API 키가 설정되어 있다면, 이 지점 이후의 코드가 실행됩니다.\n",
        "print(\"OPENAI_API_KEY가 정상적으로 설정되어 있습니다.\")"
      ]
    },
    {
      "cell_type": "markdown",
      "id": "6184c71a",
      "metadata": {
        "id": "6184c71a"
      },
      "source": [
        "## 1. LLM으로 웹 크롤링 코드 구현 프롬프트 만들기"
      ]
    },
    {
      "cell_type": "markdown",
      "id": "e56eb3c0",
      "metadata": {
        "id": "e56eb3c0"
      },
      "source": [
        "네이버 뉴스 API를 이용해 크롤링을 수행하는 파이썬 코드를 작성하겠습니다.   \n",
        "검색어가 `query` 인수로 주어지면, 관련도순으로 검색된 뉴스 기사 30개의 정보를 전달하는 함수를 요청합니다.\n",
        "\n",
        "**네이버 뉴스 API를 사용한다는 내용을 명시하면 정확도가 올라갑니다.**"
      ]
    },
    {
      "cell_type": "code",
      "execution_count": 3,
      "id": "c7df62cb",
      "metadata": {
        "id": "c7df62cb"
      },
      "outputs": [],
      "source": [
        "prompt = '''\n",
        "네이버 뉴스 API를 이용해 크롤링을 수행하는 파이썬 코드를 작성해 주세요.\n",
        "검색어가 `query` 인수로 주어지면, 관련도순으로 검색된 뉴스 기사 30개의 정보를 아래 포맷의 문자열로 변환하는 함수 get_news(query) 를 만들어 주세요.\n",
        "---\n",
        "제목: (뉴스 제목)\n",
        "URL: (뉴스 링크- 있으면)\n",
        "내용: (뉴스 내용)\n",
        "---\n",
        "\n",
        "결과는 result에 저장하고, 출력하세요.\n",
        "---\n",
        "\n",
        "\n",
        "\n",
        "\n",
        "# 검색어\n",
        "query = '생성형 AI'\n",
        "\n",
        "\n",
        "# 검색 결과를 return하는 함수\n",
        "def get_news(query):\n",
        "\n",
        "\n",
        "'''\n",
        "\n"
      ]
    },
    {
      "cell_type": "code",
      "execution_count": 4,
      "id": "518da06c",
      "metadata": {
        "id": "518da06c",
        "scrolled": true
      },
      "outputs": [
        {
          "name": "stdout",
          "output_type": "stream",
          "text": [
            "```python\n",
            "import requests\n",
            "\n",
            "def get_news(query):\n",
            "    url = f\"https://openapi.naver.com/v1/search/news.json?query={query}&display=30&sort=sim\"\n",
            "    headers = {\n",
            "        'X-Naver-Client-Id': 'YOUR_CLIENT_ID',\n",
            "        'X-Naver-Client-Secret': 'YOUR_CLIENT_SECRET'\n",
            "    }\n",
            "    \n",
            "    response = requests.get(url, headers=headers)\n",
            "    news_items = response.json().get('items', [])\n",
            "    \n",
            "    result = \"\"\n",
            "    for item in news_items:\n",
            "        title = item['title']\n",
            "        link = item['link']\n",
            "        description = item['description']\n",
            "        \n",
            "        result += f\"제목: {title}\\n\"\n",
            "        result += f\"URL: {link}\\n\"\n",
            "        result += f\"내용: {description}\\n\"\n",
            "        result += \"---\\n\"\n",
            "    \n",
            "    return result\n",
            "\n",
            "# 검색어\n",
            "query = '생성형 AI'\n",
            "result = get_news(query)\n",
            "print(result)\n",
            "```\n"
          ]
        }
      ],
      "source": [
        "response = client.chat.completions.create(\n",
        "    model = \"gpt-4o-mini\",\n",
        "    messages = [{'role':'system', 'content':'당신은 파이썬 코딩의 전문가입니다. 설명 없이 코드만 출력하세요.'},\n",
        "          {'role':'user', 'content': prompt}],\n",
        "\n",
        "    temperature =  0,\n",
        "    max_tokens = 2000\n",
        "\n",
        ")\n",
        "print(response.choices[0].message.content)"
      ]
    },
    {
      "cell_type": "code",
      "execution_count": null,
      "id": "ff32acf9",
      "metadata": {
        "id": "ff32acf9"
      },
      "outputs": [],
      "source": [
        "# VS CODE에서 위 결과가 truncated 되는 경우 scrollable element를 클릭하여 풀 코드 확인"
      ]
    },
    {
      "cell_type": "markdown",
      "id": "F7nsGi9tdCyI",
      "metadata": {
        "id": "F7nsGi9tdCyI"
      },
      "source": [
        "아래의 API 키를 사용합니다.\n",
        "(생성된 코드에 값을 추가하세요)"
      ]
    },
    {
      "cell_type": "code",
      "execution_count": null,
      "id": "_ao65LxLdBnM",
      "metadata": {
        "id": "_ao65LxLdBnM"
      },
      "outputs": [],
      "source": [
        "# 네이버 API 키: 개발자 센터에서 발급 가능\n",
        "\n",
        "headers = {\n",
        "    'X-Naver-Client-Id': 'Ko6yIqbV2TOHq9rPH8tu',\n",
        "    'X-Naver-Client-Secret': 'BvqX8mNtHu'\n",
        "}"
      ]
    },
    {
      "cell_type": "markdown",
      "id": "026ed5ff",
      "metadata": {
        "id": "026ed5ff"
      },
      "source": [
        "아래에 전체 코드를 넣고 실행합니다."
      ]
    },
    {
      "cell_type": "code",
      "execution_count": 10,
      "id": "09b139b1",
      "metadata": {
        "id": "09b139b1"
      },
      "outputs": [
        {
          "name": "stdout",
          "output_type": "stream",
          "text": [
            "제목: 반도체·<b>생성형AI</b> 등 AI 밸류체인, &quot;해외 진출 원동력&quot;\n",
            "URL: https://n.news.naver.com/mnews/article/003/0012909883?sid=101\n",
            "내용: AI 시대에 한국이 가진 강점으로는 반도체, <b>생성형 AI</b>, 데이터센터, 컴퓨팅 인프라 등 전체 밸류체인을 갖춘 점이 꼽혔다. 윤상두 네이버클라우드 AI랩 소장은 &quot;소버린 AI 경험을 바탕으로 새로운 사업 기회를 창출하고... \n",
            "---\n",
            "제목: &quot;<b>AI</b>은행원과 상담해요&quot;…신한은행, <b>AI</b>브랜치 열어\n",
            "URL: https://n.news.naver.com/mnews/article/011/0004416396?sid=101\n",
            "내용: AI 브랜치에서 만날 수 있는 AI 은행원에는 LLM이 반영된 <b>생성형 AI</b>가 적용돼 있다. 고객들은 기존 디지털데스크와는 달리 AI 은행원과 대화를 통해 자연스럽게 상담하고 업무를 처리할 수 있으며 시니어 고객 등... \n",
            "---\n",
            "제목: KT, <b>AI</b>로 제작한 V컬러링 영상 도입\n",
            "URL: https://n.news.naver.com/mnews/article/009/0005398425?sid=105\n",
            "내용: KT는 AI로 영상을 분석하고 콘텐츠를 생성할 수 있는 KT 자체 솔루션인 매직플랫폼으로 <b>생성형 AI</b> 기반의 미디어 콘텐츠 서비스를 제공해 왔다. 이번에는 이를 V컬러링 서비스로 확대 적용한다. 특히 중국 최대... \n",
            "---\n",
            "제목: <b>AI</b>검색 시대 열리자 언론사들은 바싹 긴장 중\n",
            "URL: https://n.news.naver.com/mnews/article/053/0000046854?sid=104\n",
            "내용: 퍼플렉시티는 자사의 웹페이지에 남긴 장문의 글에서 &quot;<b>생성형 AI</b>기업에 대한 미디어 기업의 소송이 약 30건에 달한다&quot;며 &quot;이번 소송은 근시안적이고 패배적인 미디어와 기술 기업 사이의 적대적 입장을 반영하고 있다... \n",
            "---\n",
            "제목: KT, <b>AI</b>로 제작한 V컬러링 영상 도입\n",
            "URL: https://n.news.naver.com/mnews/article/366/0001032935?sid=105\n",
            "내용: KT는 AI로 영상을 분석하고 콘텐츠를 생성할 수 있는 KT 자체 솔루션인 매직플랫폼으로 <b>생성형 AI</b> 기반의 미디어 콘텐츠 서비스를 제공해 왔다. 이번에는 이를 V컬러링 서비스로 확대 적용한다. 특히, 중국 최대... \n",
            "---\n",
            "제목: KT, <b>AI</b>로 제작한 V컬러링 영상 도입\n",
            "URL: https://n.news.naver.com/mnews/article/018/0005887999?sid=105\n",
            "내용: 모델이 KT가 <b>생성형 AI</b>로 제작한 V컬러링 영상을 소개하는 모습(사진=KT) V컬러링은 전화를 건 상대방이 통화 연결을 기다리는 동안 사용자가 설정한 영상을 보여주는 ‘보이는 통화 연결음 서비스’로 국내 통신... \n",
            "---\n",
            "제목: &quot;통화 연결 화면도 <b>AI</b>가 제작&quot;…KT, <b>AI</b> V컬러링 무료 공개\n",
            "URL: https://n.news.naver.com/mnews/article/448/0000489758?sid=101\n",
            "내용: KT는 AI로 영상을 분석하고 콘텐츠를 생성할 수 있는 KT 자체 솔루션인 매직플랫폼으로 <b>생성형 AI</b> 기반의 미디어 콘텐츠 서비스를 제공해 왔다. 이번에는 이를 V컬러링 서비스로 확대 적용한다. 특히 중국 최대... \n",
            "---\n",
            "제목: KT, 통화 대기 중 <b>AI</b> 제작 영상 볼 수 있게 만든다\n",
            "URL: https://n.news.naver.com/mnews/article/421/0007913146?sid=105\n",
            "내용: 매직플랫폼은 <b>생성형 AI</b>를 활용해 미디어 콘텐츠를 만든다. 매직플랫폼이 제작한 AI V 컬러링 영상은 중국 최대 통신사 '차이나모바일'에도 제공된다. KT는 AI가 제작한 겨울과 크리스마스 테마의 이미지와... \n",
            "---\n",
            "제목: KT &quot;<b>AI</b> 제작 영상, V컬러링 서비스에 도입&quot;\n",
            "URL: https://n.news.naver.com/mnews/article/108/0003283249?sid=004\n",
            "내용: KT는 AI로 영상을 분석하고 콘텐츠를 생성할 수 있는 KT 자체 솔루션인 매직플랫폼으로 <b>생성형 AI</b> 기반의 미디어 콘텐츠 서비스를 제공해왔다. 이번에는 이를 V컬러링 서비스로 확대 적용한다. 특히 중국 최대... \n",
            "---\n",
            "제목: KT, <b>AI</b>가 만든 V컬러링 영상 도입\n",
            "URL: https://n.news.naver.com/mnews/article/016/0002389429?sid=105\n",
            "내용: 통화 대기 중 재생 영상, AI가 제작 V컬러링 고객 대상 상품권 등 추첨 KT 모델이 KT가 <b>생성형 AI</b>로 제작한 V컬러링 영상을 소개하고 있다. [KT 제공] [헤럴드경제=이영기 기자] KT는 종합 인공지능(AI) 미디어 솔루션... \n",
            "---\n",
            "제목: IBK證, <b>생성형 AI</b> 탑재 차세대 MTS 공개\n",
            "URL: https://n.news.naver.com/mnews/article/003/0012908909?sid=101\n",
            "내용: IBK투자증권이 <b>생성형 AI</b>(인공지능) 기반 서비스를 비롯해 다양한 편의 기능을 탑재한 차세대 MTS(모바일 트레이딩 시스템) 'IBKS Wings(윙스)'를 공개했다. 18일 IBK투자증권에 따르면 IBKS Wings는 '투자에 날개를 달다'라는... \n",
            "---\n",
            "제목: IBK투자증권, <b>생성형 AI</b> 탑재한 차세대 MTS 공개\n",
            "URL: https://n.news.naver.com/mnews/article/009/0005398251?sid=101\n",
            "내용: AI 기반 ‘IBK WINGS’ 출시 미성년자 비대면 계좌개설도 가능 IBK투자증권이 <b>생성형 AI</b> 기반 서비스를 비롯해 다양한 편의 기능을 탑재한 차세대 MTS ‘IBKS Wings(윙스)’를 공개했다. IBK투자증권은 지난 14일 신규... \n",
            "---\n",
            "제목: 복잡한 매뉴얼 외울 필요 없어요…SKT 고객센터, <b>생성형AI</b> 도입\n",
            "URL: https://n.news.naver.com/mnews/article/018/0005887849?sid=105\n",
            "내용: SK텔레콤이 자체 개발한 Telco LLM(Large Language Model)/LMM(Large Multimodal Model)을 활용한 고객센터 <b>AI</b> 상담업무 지원... 사진=SK텔레콤 SK텔레콤(017670)은 국내 주요 고객센터 중 최초로 업계 특화 거대언어모델(LLM)을 적용한 <b>AI</b>... \n",
            "---\n",
            "제목: &quot;통화 연결 안 심심하게&quot;…KT, 'V컬러링'에 <b>AI</b> 제작 영상 도입\n",
            "URL: https://n.news.naver.com/mnews/article/003/0012908964?sid=105\n",
            "내용: KT는 AI로 영상을 분석하고 콘텐츠를 생성할 수 있는 KT 자체 솔루션인 매직플랫폼으로 <b>생성형 AI</b> 기반의 미디어 콘텐츠 서비스를 제공해왔다. 이번에는 이를 V컬러링 서비스로 확대 적용한다. 특히 중국 최대... \n",
            "---\n",
            "제목: IBK證, <b>생성형 AI</b> 탑재 차세대 MTS ‘IBKS Wings’ 공개\n",
            "URL: https://n.news.naver.com/mnews/article/018/0005887964?sid=101\n",
            "내용: 알고리즘 AI 기반의 시그널엔진(매매 신호 분석)·공시 AI 인사이트(공시 기반 기업 분석), <b>생성형 AI</b> 기반의 AI 챗봇·음성검색 등 다양한 AI 활용 투자 서비스를 제공하는 것이 특징이다. 또, MTS에서 비대면... \n",
            "---\n",
            "제목: IBK證, <b>생성형AI</b> 서비스 탑재 MTS 'IBKS윙스' 출시\n",
            "URL: https://n.news.naver.com/mnews/article/030/0003258331?sid=101\n",
            "내용: 알고리즘 AI 기반 시그널엔진(매매 신호 분석)·공시 AI 인사이트(공시 기반 기업 분석), <b>생성형 AI</b> 기반의 AI 챗봇·음성검색 등 다양한 AI 활용 투자 서비스를 제공한다. 또 MTS에서 비대면 계좌개설을 바로 할 수... \n",
            "---\n",
            "제목: KT &quot;컬러링 영상, <b>AI</b>로 만든다&quot;\n",
            "URL: https://n.news.naver.com/mnews/article/092/0002352829?sid=105\n",
            "내용: KT는 AI로 영상을 분석하고 콘텐츠를 생성할 수 있는 KT 자체 솔루션인 매직플랫폼으로 <b>생성형 AI</b> 기반의 미디어 콘텐츠 서비스를 제공해 왔다. 이번에는 이를 V컬러링 서비스로 확대 적용한다. 특히 중국 최대... \n",
            "---\n",
            "제목: KT &quot;<b>AI</b>가 V컬러링 영상 만든다…中에도 공급&quot;\n",
            "URL: https://n.news.naver.com/mnews/article/014/0005269198?sid=105\n",
            "내용: KT는 AI로 영상을 분석하고 콘텐츠를 생성할 수 있는 KT 자체 솔루션인 매직플랫폼으로 <b>생성형 AI</b> 기반의 미디어 콘텐츠 서비스를 제공해 왔다. 이번에는 이를 V컬러링 서비스로 확대 적용한다. 중국 최대 통신사인... \n",
            "---\n",
            "제목: &quot;전화하면 <b>AI</b>가 만든 영상이&quot;…KT, <b>AI</b> 제작 V컬러링 영상 도입\n",
            "URL: https://n.news.naver.com/mnews/article/015/0005058274?sid=105\n",
            "내용: KT는 AI로 영상을 분석하고 콘텐츠를 생성할 수 있는 KT 자체 솔루션인 매직플랫폼으로 <b>생성형 AI</b> 기반의 미디어 콘텐츠 서비스를 제공해 왔다. 이번에는 이를 V컬러링 서비스로 확대 적용한다. 특히, 중국 최대... \n",
            "---\n",
            "제목: KT &quot;<b>AI</b> 제작 영상, V컬러링 서비스에 도입&quot;\n",
            "URL: https://n.news.naver.com/mnews/article/011/0004416483?sid=105\n",
            "내용: KT는 AI로 영상을 분석하고 콘텐츠를 생성할 수 있는 KT 자체 솔루션인 매직플랫폼으로 <b>생성형 AI</b> 기반의 미디어 콘텐츠 서비스를 제공해 왔다. KT는 이를 V컬러링 서비스로 확대 적용하고, 중국 최대 통신사인... \n",
            "---\n",
            "제목: 베스핀글로벌, KOSA와 ‘<b>생성형 AI</b> 성공사례’ 공공 로드쇼 개최\n",
            "URL: https://n.news.naver.com/mnews/article/366/0001032940?sid=105\n",
            "내용: 베스핀글로벌은 한국소프트웨어산업협회(KOSA)와 오는 26일부터 4일간 대전, 대구, 부산, 광주에서 ‘<b>생성형 AI</b> 성공사례’ 공공 로드쇼를 개최한다고 18일 밝혔다. 한국소프트웨어산업협회(KOSA)가 주최하고... \n",
            "---\n",
            "제목: KT, <b>AI</b>로 제작한 V컬러링 영상 도입\n",
            "URL: https://n.news.naver.com/mnews/article/030/0003258386?sid=105\n",
            "내용: KT는 AI로 영상을 분석하고 콘텐츠를 생성할 수 있는 KT 자체 솔루션인 매직플랫폼으로 <b>생성형 AI</b> 기반의 미디어 콘텐츠 서비스를 제공해 왔다. 이번에는 이를 V컬러링 서비스로 확대 적용한다. 특히 중국 최대... \n",
            "---\n",
            "제목: IBK투자증권, <b>생성형 AI</b> 탑재한 차세대 MTS 'IBKS Wings' 공개\n",
            "URL: https://n.news.naver.com/mnews/article/277/0005501851?sid=101\n",
            "내용: 알고리즘 AI 기반의 시그널엔진(매매 신호 분석)·공시 AI 인사이트(공시 기반 기업 분석), <b>생성형 AI</b> 기반의 AI 챗봇·음성검색 등 다양한 AI 활용 투자 서비스를 제공하는 것이 특징이다. 또 MTS에서 비대면... \n",
            "---\n",
            "제목: KT, <b>AI</b>로 제작한 V컬러링 영상 도입\n",
            "URL: https://n.news.naver.com/mnews/article/001/0015051954?sid=101\n",
            "내용: 미디어 설루션 '매직플랫폼'을 활용해 제작된 영상을 V컬러링 서비스에 도입한다고 18일 밝혔다. 모델이 KT가 <b>생성형</b> 인공지능(<b>AI</b>)으로 제작한 V컬러링 영상을 소개하고 있다. 2024.11.18 [KT 제공. 재판매 및 DB 금지]\n",
            "---\n",
            "제목: KT, <b>AI</b>로 제작한 V컬러링 영상 도입\n",
            "URL: https://n.news.naver.com/mnews/article/001/0015051955?sid=101\n",
            "내용: 미디어 설루션 '매직플랫폼'을 활용해 제작된 영상을 V컬러링 서비스에 도입한다고 18일 밝혔다. 모델이 KT가 <b>생성형</b> 인공지능(<b>AI</b>)으로 제작한 V컬러링 영상을 소개하고 있다. 2024.11.18 [KT 제공. 재판매 및 DB 금지]\n",
            "---\n",
            "제목: KT, <b>AI</b>로 제작한 V컬러링 영상 도입\n",
            "URL: https://n.news.naver.com/mnews/article/001/0015051956?sid=101\n",
            "내용: 미디어 설루션 '매직플랫폼'을 활용해 제작된 영상을 V컬러링 서비스에 도입한다고 18일 밝혔다. 모델이 KT가 <b>생성형</b> 인공지능(<b>AI</b>)으로 제작한 V컬러링 영상을 소개하고 있다. 2024.11.18 [KT 제공. 재판매 및 DB 금지]\n",
            "---\n",
            "제목: 이번 주 실적 발표 앞두고…엔비디아 <b>AI</b>칩 ‘블랙웰’ 또 생산 차질설 ...\n",
            "URL: https://n.news.naver.com/mnews/article/009/0005398512?sid=101\n",
            "내용: <b>생성형 AI</b> 챗봇 등이 응답하는데 걸리는 시간이 기존 제품보다 30배 더 빠른 속도인 것으로 알려져 기대를 모았다. 엔비디아는 올해 2분기 출시를 예고했지만 자체 생산 과정에서 결함이 발견돼 본격 출시 시점이 최소... \n",
            "---\n",
            "제목: 빅테크 <b>AI</b>검색 부상…네이버 국내검색 점유율 9년새 20%p 하락\n",
            "URL: https://n.news.naver.com/mnews/article/001/0015052624?sid=105\n",
            "내용: 시장조사업체 가트너는 <b>생성형 AI</b> 기술 등장으로 기존 검색 엔진 사용 횟수가 현재 수준 대비 25% 감소할 수 있다고 전망했다. 이 밖에 오픈AI는 사용자 질문에 응답하는 챗GPT 기술에 더해 답변을 요약·비교하고... \n",
            "---\n",
            "제목: KT, 통화 대기 중 <b>AI</b> 제작 영상 보여준다\n",
            "URL: https://n.news.naver.com/mnews/article/015/0005058411?sid=105\n",
            "내용: KT는 이날부터 <b>생성형 AI</b>를 활용해 미디어 콘텐츠를 만드는 AI 솔루션인 ‘매직플랫폼’을 해당 서비스에 적용했다. 매직플랫폼에서 제작한 AI 영상을 V 컬러링으로 설정할 수 있도록 하는 식이다. 해당 영상은 중국... \n",
            "---\n",
            "제목: KT, <b>AI</b>로 제작한 V컬러링 영상 도입\n",
            "URL: https://n.news.naver.com/mnews/article/031/0000885696?sid=105\n",
            "내용: KT는 AI로 영상을 분석하고 콘텐츠를 생성할 수 있는 KT 자체 솔루션인 매직플랫폼으로 <b>생성형 AI</b> 기반의 미디어 콘텐츠 서비스를 제공해 왔다. 이번에는 이를 V컬러링 서비스로 확대 적용한다. 특히 중국 최대... \n",
            "---\n",
            "\n"
          ]
        },
        {
          "data": {
            "text/plain": [
              "\"제목: 반도체·<b>생성형AI</b> 등 AI 밸류체인, &quot;해외 진출 원동력&quot;\\nURL: https://n.news.naver.com/mnews/article/003/0012909883?sid=101\\n내용: AI 시대에 한국이 가진 강점으로는 반도체, <b>생성형 AI</b>, 데이터센터, 컴퓨팅 인프라 등 전체 밸류체인을 갖춘 점이 꼽혔다. 윤상두 네이버클라우드 AI랩 소장은 &quot;소버린 AI 경험을 바탕으로 새로운 사업 기회를 창출하고... \\n---\\n제목: &quot;<b>AI</b>은행원과 상담해요&quot;…신한은행, <b>AI</b>브랜치 열어\\nURL: https://n.news.naver.com/mnews/article/011/0004416396?sid=101\\n내용: AI 브랜치에서 만날 수 있는 AI 은행원에는 LLM이 반영된 <b>생성형 AI</b>가 적용돼 있다. 고객들은 기존 디지털데스크와는 달리 AI 은행원과 대화를 통해 자연스럽게 상담하고 업무를 처리할 수 있으며 시니어 고객 등... \\n---\\n제목: KT, <b>AI</b>로 제작한 V컬러링 영상 도입\\nURL: https://n.news.naver.com/mnews/article/009/0005398425?sid=105\\n내용: KT는 AI로 영상을 분석하고 콘텐츠를 생성할 수 있는 KT 자체 솔루션인 매직플랫폼으로 <b>생성형 AI</b> 기반의 미디어 콘텐츠 서비스를 제공해 왔다. 이번에는 이를 V컬러링 서비스로 확대 적용한다. 특히 중국 최대... \\n---\\n제목: <b>AI</b>검색 시대 열리자 언론사들은 바싹 긴장 중\\nURL: https://n.news.naver.com/mnews/article/053/0000046854?sid=104\\n내용: 퍼플렉시티는 자사의 웹페이지에 남긴 장문의 글에서 &quot;<b>생성형 AI</b>기업에 대한 미디어 기업의 소송이 약 30건에 달한다&quot;며 &quot;이번 소송은 근시안적이고 패배적인 미디어와 기술 기업 사이의 적대적 입장을 반영하고 있다... \\n---\\n제목: KT, <b>AI</b>로 제작한 V컬러링 영상 도입\\nURL: https://n.news.naver.com/mnews/article/366/0001032935?sid=105\\n내용: KT는 AI로 영상을 분석하고 콘텐츠를 생성할 수 있는 KT 자체 솔루션인 매직플랫폼으로 <b>생성형 AI</b> 기반의 미디어 콘텐츠 서비스를 제공해 왔다. 이번에는 이를 V컬러링 서비스로 확대 적용한다. 특히, 중국 최대... \\n---\\n제목: KT, <b>AI</b>로 제작한 V컬러링 영상 도입\\nURL: https://n.news.naver.com/mnews/article/018/0005887999?sid=105\\n내용: 모델이 KT가 <b>생성형 AI</b>로 제작한 V컬러링 영상을 소개하는 모습(사진=KT) V컬러링은 전화를 건 상대방이 통화 연결을 기다리는 동안 사용자가 설정한 영상을 보여주는 ‘보이는 통화 연결음 서비스’로 국내 통신... \\n---\\n제목: &quot;통화 연결 화면도 <b>AI</b>가 제작&quot;…KT, <b>AI</b> V컬러링 무료 공개\\nURL: https://n.news.naver.com/mnews/article/448/0000489758?sid=101\\n내용: KT는 AI로 영상을 분석하고 콘텐츠를 생성할 수 있는 KT 자체 솔루션인 매직플랫폼으로 <b>생성형 AI</b> 기반의 미디어 콘텐츠 서비스를 제공해 왔다. 이번에는 이를 V컬러링 서비스로 확대 적용한다. 특히 중국 최대... \\n---\\n제목: KT, 통화 대기 중 <b>AI</b> 제작 영상 볼 수 있게 만든다\\nURL: https://n.news.naver.com/mnews/article/421/0007913146?sid=105\\n내용: 매직플랫폼은 <b>생성형 AI</b>를 활용해 미디어 콘텐츠를 만든다. 매직플랫폼이 제작한 AI V 컬러링 영상은 중국 최대 통신사 '차이나모바일'에도 제공된다. KT는 AI가 제작한 겨울과 크리스마스 테마의 이미지와... \\n---\\n제목: KT &quot;<b>AI</b> 제작 영상, V컬러링 서비스에 도입&quot;\\nURL: https://n.news.naver.com/mnews/article/108/0003283249?sid=004\\n내용: KT는 AI로 영상을 분석하고 콘텐츠를 생성할 수 있는 KT 자체 솔루션인 매직플랫폼으로 <b>생성형 AI</b> 기반의 미디어 콘텐츠 서비스를 제공해왔다. 이번에는 이를 V컬러링 서비스로 확대 적용한다. 특히 중국 최대... \\n---\\n제목: KT, <b>AI</b>가 만든 V컬러링 영상 도입\\nURL: https://n.news.naver.com/mnews/article/016/0002389429?sid=105\\n내용: 통화 대기 중 재생 영상, AI가 제작 V컬러링 고객 대상 상품권 등 추첨 KT 모델이 KT가 <b>생성형 AI</b>로 제작한 V컬러링 영상을 소개하고 있다. [KT 제공] [헤럴드경제=이영기 기자] KT는 종합 인공지능(AI) 미디어 솔루션... \\n---\\n제목: IBK證, <b>생성형 AI</b> 탑재 차세대 MTS 공개\\nURL: https://n.news.naver.com/mnews/article/003/0012908909?sid=101\\n내용: IBK투자증권이 <b>생성형 AI</b>(인공지능) 기반 서비스를 비롯해 다양한 편의 기능을 탑재한 차세대 MTS(모바일 트레이딩 시스템) 'IBKS Wings(윙스)'를 공개했다. 18일 IBK투자증권에 따르면 IBKS Wings는 '투자에 날개를 달다'라는... \\n---\\n제목: IBK투자증권, <b>생성형 AI</b> 탑재한 차세대 MTS 공개\\nURL: https://n.news.naver.com/mnews/article/009/0005398251?sid=101\\n내용: AI 기반 ‘IBK WINGS’ 출시 미성년자 비대면 계좌개설도 가능 IBK투자증권이 <b>생성형 AI</b> 기반 서비스를 비롯해 다양한 편의 기능을 탑재한 차세대 MTS ‘IBKS Wings(윙스)’를 공개했다. IBK투자증권은 지난 14일 신규... \\n---\\n제목: 복잡한 매뉴얼 외울 필요 없어요…SKT 고객센터, <b>생성형AI</b> 도입\\nURL: https://n.news.naver.com/mnews/article/018/0005887849?sid=105\\n내용: SK텔레콤이 자체 개발한 Telco LLM(Large Language Model)/LMM(Large Multimodal Model)을 활용한 고객센터 <b>AI</b> 상담업무 지원... 사진=SK텔레콤 SK텔레콤(017670)은 국내 주요 고객센터 중 최초로 업계 특화 거대언어모델(LLM)을 적용한 <b>AI</b>... \\n---\\n제목: &quot;통화 연결 안 심심하게&quot;…KT, 'V컬러링'에 <b>AI</b> 제작 영상 도입\\nURL: https://n.news.naver.com/mnews/article/003/0012908964?sid=105\\n내용: KT는 AI로 영상을 분석하고 콘텐츠를 생성할 수 있는 KT 자체 솔루션인 매직플랫폼으로 <b>생성형 AI</b> 기반의 미디어 콘텐츠 서비스를 제공해왔다. 이번에는 이를 V컬러링 서비스로 확대 적용한다. 특히 중국 최대... \\n---\\n제목: IBK證, <b>생성형 AI</b> 탑재 차세대 MTS ‘IBKS Wings’ 공개\\nURL: https://n.news.naver.com/mnews/article/018/0005887964?sid=101\\n내용: 알고리즘 AI 기반의 시그널엔진(매매 신호 분석)·공시 AI 인사이트(공시 기반 기업 분석), <b>생성형 AI</b> 기반의 AI 챗봇·음성검색 등 다양한 AI 활용 투자 서비스를 제공하는 것이 특징이다. 또, MTS에서 비대면... \\n---\\n제목: IBK證, <b>생성형AI</b> 서비스 탑재 MTS 'IBKS윙스' 출시\\nURL: https://n.news.naver.com/mnews/article/030/0003258331?sid=101\\n내용: 알고리즘 AI 기반 시그널엔진(매매 신호 분석)·공시 AI 인사이트(공시 기반 기업 분석), <b>생성형 AI</b> 기반의 AI 챗봇·음성검색 등 다양한 AI 활용 투자 서비스를 제공한다. 또 MTS에서 비대면 계좌개설을 바로 할 수... \\n---\\n제목: KT &quot;컬러링 영상, <b>AI</b>로 만든다&quot;\\nURL: https://n.news.naver.com/mnews/article/092/0002352829?sid=105\\n내용: KT는 AI로 영상을 분석하고 콘텐츠를 생성할 수 있는 KT 자체 솔루션인 매직플랫폼으로 <b>생성형 AI</b> 기반의 미디어 콘텐츠 서비스를 제공해 왔다. 이번에는 이를 V컬러링 서비스로 확대 적용한다. 특히 중국 최대... \\n---\\n제목: KT &quot;<b>AI</b>가 V컬러링 영상 만든다…中에도 공급&quot;\\nURL: https://n.news.naver.com/mnews/article/014/0005269198?sid=105\\n내용: KT는 AI로 영상을 분석하고 콘텐츠를 생성할 수 있는 KT 자체 솔루션인 매직플랫폼으로 <b>생성형 AI</b> 기반의 미디어 콘텐츠 서비스를 제공해 왔다. 이번에는 이를 V컬러링 서비스로 확대 적용한다. 중국 최대 통신사인... \\n---\\n제목: &quot;전화하면 <b>AI</b>가 만든 영상이&quot;…KT, <b>AI</b> 제작 V컬러링 영상 도입\\nURL: https://n.news.naver.com/mnews/article/015/0005058274?sid=105\\n내용: KT는 AI로 영상을 분석하고 콘텐츠를 생성할 수 있는 KT 자체 솔루션인 매직플랫폼으로 <b>생성형 AI</b> 기반의 미디어 콘텐츠 서비스를 제공해 왔다. 이번에는 이를 V컬러링 서비스로 확대 적용한다. 특히, 중국 최대... \\n---\\n제목: KT &quot;<b>AI</b> 제작 영상, V컬러링 서비스에 도입&quot;\\nURL: https://n.news.naver.com/mnews/article/011/0004416483?sid=105\\n내용: KT는 AI로 영상을 분석하고 콘텐츠를 생성할 수 있는 KT 자체 솔루션인 매직플랫폼으로 <b>생성형 AI</b> 기반의 미디어 콘텐츠 서비스를 제공해 왔다. KT는 이를 V컬러링 서비스로 확대 적용하고, 중국 최대 통신사인... \\n---\\n제목: 베스핀글로벌, KOSA와 ‘<b>생성형 AI</b> 성공사례’ 공공 로드쇼 개최\\nURL: https://n.news.naver.com/mnews/article/366/0001032940?sid=105\\n내용: 베스핀글로벌은 한국소프트웨어산업협회(KOSA)와 오는 26일부터 4일간 대전, 대구, 부산, 광주에서 ‘<b>생성형 AI</b> 성공사례’ 공공 로드쇼를 개최한다고 18일 밝혔다. 한국소프트웨어산업협회(KOSA)가 주최하고... \\n---\\n제목: KT, <b>AI</b>로 제작한 V컬러링 영상 도입\\nURL: https://n.news.naver.com/mnews/article/030/0003258386?sid=105\\n내용: KT는 AI로 영상을 분석하고 콘텐츠를 생성할 수 있는 KT 자체 솔루션인 매직플랫폼으로 <b>생성형 AI</b> 기반의 미디어 콘텐츠 서비스를 제공해 왔다. 이번에는 이를 V컬러링 서비스로 확대 적용한다. 특히 중국 최대... \\n---\\n제목: IBK투자증권, <b>생성형 AI</b> 탑재한 차세대 MTS 'IBKS Wings' 공개\\nURL: https://n.news.naver.com/mnews/article/277/0005501851?sid=101\\n내용: 알고리즘 AI 기반의 시그널엔진(매매 신호 분석)·공시 AI 인사이트(공시 기반 기업 분석), <b>생성형 AI</b> 기반의 AI 챗봇·음성검색 등 다양한 AI 활용 투자 서비스를 제공하는 것이 특징이다. 또 MTS에서 비대면... \\n---\\n제목: KT, <b>AI</b>로 제작한 V컬러링 영상 도입\\nURL: https://n.news.naver.com/mnews/article/001/0015051954?sid=101\\n내용: 미디어 설루션 '매직플랫폼'을 활용해 제작된 영상을 V컬러링 서비스에 도입한다고 18일 밝혔다. 모델이 KT가 <b>생성형</b> 인공지능(<b>AI</b>)으로 제작한 V컬러링 영상을 소개하고 있다. 2024.11.18 [KT 제공. 재판매 및 DB 금지]\\n---\\n제목: KT, <b>AI</b>로 제작한 V컬러링 영상 도입\\nURL: https://n.news.naver.com/mnews/article/001/0015051955?sid=101\\n내용: 미디어 설루션 '매직플랫폼'을 활용해 제작된 영상을 V컬러링 서비스에 도입한다고 18일 밝혔다. 모델이 KT가 <b>생성형</b> 인공지능(<b>AI</b>)으로 제작한 V컬러링 영상을 소개하고 있다. 2024.11.18 [KT 제공. 재판매 및 DB 금지]\\n---\\n제목: KT, <b>AI</b>로 제작한 V컬러링 영상 도입\\nURL: https://n.news.naver.com/mnews/article/001/0015051956?sid=101\\n내용: 미디어 설루션 '매직플랫폼'을 활용해 제작된 영상을 V컬러링 서비스에 도입한다고 18일 밝혔다. 모델이 KT가 <b>생성형</b> 인공지능(<b>AI</b>)으로 제작한 V컬러링 영상을 소개하고 있다. 2024.11.18 [KT 제공. 재판매 및 DB 금지]\\n---\\n제목: 이번 주 실적 발표 앞두고…엔비디아 <b>AI</b>칩 ‘블랙웰’ 또 생산 차질설 ...\\nURL: https://n.news.naver.com/mnews/article/009/0005398512?sid=101\\n내용: <b>생성형 AI</b> 챗봇 등이 응답하는데 걸리는 시간이 기존 제품보다 30배 더 빠른 속도인 것으로 알려져 기대를 모았다. 엔비디아는 올해 2분기 출시를 예고했지만 자체 생산 과정에서 결함이 발견돼 본격 출시 시점이 최소... \\n---\\n제목: 빅테크 <b>AI</b>검색 부상…네이버 국내검색 점유율 9년새 20%p 하락\\nURL: https://n.news.naver.com/mnews/article/001/0015052624?sid=105\\n내용: 시장조사업체 가트너는 <b>생성형 AI</b> 기술 등장으로 기존 검색 엔진 사용 횟수가 현재 수준 대비 25% 감소할 수 있다고 전망했다. 이 밖에 오픈AI는 사용자 질문에 응답하는 챗GPT 기술에 더해 답변을 요약·비교하고... \\n---\\n제목: KT, 통화 대기 중 <b>AI</b> 제작 영상 보여준다\\nURL: https://n.news.naver.com/mnews/article/015/0005058411?sid=105\\n내용: KT는 이날부터 <b>생성형 AI</b>를 활용해 미디어 콘텐츠를 만드는 AI 솔루션인 ‘매직플랫폼’을 해당 서비스에 적용했다. 매직플랫폼에서 제작한 AI 영상을 V 컬러링으로 설정할 수 있도록 하는 식이다. 해당 영상은 중국... \\n---\\n제목: KT, <b>AI</b>로 제작한 V컬러링 영상 도입\\nURL: https://n.news.naver.com/mnews/article/031/0000885696?sid=105\\n내용: KT는 AI로 영상을 분석하고 콘텐츠를 생성할 수 있는 KT 자체 솔루션인 매직플랫폼으로 <b>생성형 AI</b> 기반의 미디어 콘텐츠 서비스를 제공해 왔다. 이번에는 이를 V컬러링 서비스로 확대 적용한다. 특히 중국 최대... \\n---\\n\""
            ]
          },
          "execution_count": 10,
          "metadata": {},
          "output_type": "execute_result"
        }
      ],
      "source": [
        "import requests\n",
        "\n",
        "def get_news(query):\n",
        "    url = f\"https://openapi.naver.com/v1/search/news.json?query={query}&display=30&sort=sim\"\n",
        "    headers = {\n",
        "        'X-Naver-Client-Id': 'Ko6yIqbV2TOHq9rPH8tu',\n",
        "        'X-Naver-Client-Secret': 'BvqX8mNtHu'\n",
        "    }\n",
        "    \n",
        "    response = requests.get(url, headers=headers)\n",
        "    news_items = response.json().get('items', [])\n",
        "    \n",
        "    result = \"\"\n",
        "    for item in news_items:\n",
        "        title = item['title']\n",
        "        link = item['link']\n",
        "        description = item['description']\n",
        "        \n",
        "        result += f\"제목: {title}\\n\"\n",
        "        result += f\"URL: {link}\\n\"\n",
        "        result += f\"내용: {description}\\n\"\n",
        "        result += \"---\\n\"\n",
        "    \n",
        "    print(result)\n",
        "    return result\n",
        "\n",
        "# 검색어\n",
        "query = '생성형 AI'\n",
        "get_news(query)\n"
      ]
    },
    {
      "cell_type": "markdown",
      "id": "875dc181",
      "metadata": {
        "id": "875dc181"
      },
      "source": [
        "아래는 예시 코드입니다."
      ]
    },
    {
      "cell_type": "code",
      "execution_count": 11,
      "id": "7b98cc94",
      "metadata": {
        "id": "7b98cc94",
        "scrolled": true
      },
      "outputs": [
        {
          "name": "stdout",
          "output_type": "stream",
          "text": [
            "제목: 반도체·<b>생성형AI</b> 등 AI 밸류체인, &quot;해외 진출 원동력&quot;\n",
            "URL: https://n.news.naver.com/mnews/article/003/0012909883?sid=101\n",
            "내용: AI 시대에 한국이 가진 강점으로는 반도체, <b>생성형 AI</b>, 데이터센터, 컴퓨팅 인프라 등 전체 밸류체인을 갖춘 점이 꼽혔다. 윤상두 네이버클라우드 AI랩 소장은 &quot;소버린 AI 경험을 바탕으로 새로운 사업 기회를 창출하고... \n",
            "---\n",
            "제목: &quot;<b>AI</b>은행원과 상담해요&quot;…신한은행, <b>AI</b>브랜치 열어\n",
            "URL: https://n.news.naver.com/mnews/article/011/0004416396?sid=101\n",
            "내용: AI 브랜치에서 만날 수 있는 AI 은행원에는 LLM이 반영된 <b>생성형 AI</b>가 적용돼 있다. 고객들은 기존 디지털데스크와는 달리 AI 은행원과 대화를 통해 자연스럽게 상담하고 업무를 처리할 수 있으며 시니어 고객 등... \n",
            "---\n",
            "제목: KT, <b>AI</b>로 제작한 V컬러링 영상 도입\n",
            "URL: https://n.news.naver.com/mnews/article/009/0005398425?sid=105\n",
            "내용: KT는 AI로 영상을 분석하고 콘텐츠를 생성할 수 있는 KT 자체 솔루션인 매직플랫폼으로 <b>생성형 AI</b> 기반의 미디어 콘텐츠 서비스를 제공해 왔다. 이번에는 이를 V컬러링 서비스로 확대 적용한다. 특히 중국 최대... \n",
            "---\n",
            "제목: <b>AI</b>검색 시대 열리자 언론사들은 바싹 긴장 중\n",
            "URL: https://n.news.naver.com/mnews/article/053/0000046854?sid=104\n",
            "내용: 퍼플렉시티는 자사의 웹페이지에 남긴 장문의 글에서 &quot;<b>생성형 AI</b>기업에 대한 미디어 기업의 소송이 약 30건에 달한다&quot;며 &quot;이번 소송은 근시안적이고 패배적인 미디어와 기술 기업 사이의 적대적 입장을 반영하고 있다... \n",
            "---\n",
            "제목: KT, <b>AI</b>로 제작한 V컬러링 영상 도입\n",
            "URL: https://n.news.naver.com/mnews/article/366/0001032935?sid=105\n",
            "내용: KT는 AI로 영상을 분석하고 콘텐츠를 생성할 수 있는 KT 자체 솔루션인 매직플랫폼으로 <b>생성형 AI</b> 기반의 미디어 콘텐츠 서비스를 제공해 왔다. 이번에는 이를 V컬러링 서비스로 확대 적용한다. 특히, 중국 최대... \n",
            "---\n",
            "제목: KT, <b>AI</b>로 제작한 V컬러링 영상 도입\n",
            "URL: https://n.news.naver.com/mnews/article/018/0005887999?sid=105\n",
            "내용: 모델이 KT가 <b>생성형 AI</b>로 제작한 V컬러링 영상을 소개하는 모습(사진=KT) V컬러링은 전화를 건 상대방이 통화 연결을 기다리는 동안 사용자가 설정한 영상을 보여주는 ‘보이는 통화 연결음 서비스’로 국내 통신... \n",
            "---\n",
            "제목: &quot;통화 연결 화면도 <b>AI</b>가 제작&quot;…KT, <b>AI</b> V컬러링 무료 공개\n",
            "URL: https://n.news.naver.com/mnews/article/448/0000489758?sid=101\n",
            "내용: KT는 AI로 영상을 분석하고 콘텐츠를 생성할 수 있는 KT 자체 솔루션인 매직플랫폼으로 <b>생성형 AI</b> 기반의 미디어 콘텐츠 서비스를 제공해 왔다. 이번에는 이를 V컬러링 서비스로 확대 적용한다. 특히 중국 최대... \n",
            "---\n",
            "제목: KT, 통화 대기 중 <b>AI</b> 제작 영상 볼 수 있게 만든다\n",
            "URL: https://n.news.naver.com/mnews/article/421/0007913146?sid=105\n",
            "내용: 매직플랫폼은 <b>생성형 AI</b>를 활용해 미디어 콘텐츠를 만든다. 매직플랫폼이 제작한 AI V 컬러링 영상은 중국 최대 통신사 '차이나모바일'에도 제공된다. KT는 AI가 제작한 겨울과 크리스마스 테마의 이미지와... \n",
            "---\n",
            "제목: KT &quot;<b>AI</b> 제작 영상, V컬러링 서비스에 도입&quot;\n",
            "URL: https://n.news.naver.com/mnews/article/108/0003283249?sid=004\n",
            "내용: KT는 AI로 영상을 분석하고 콘텐츠를 생성할 수 있는 KT 자체 솔루션인 매직플랫폼으로 <b>생성형 AI</b> 기반의 미디어 콘텐츠 서비스를 제공해왔다. 이번에는 이를 V컬러링 서비스로 확대 적용한다. 특히 중국 최대... \n",
            "---\n",
            "제목: KT, <b>AI</b>가 만든 V컬러링 영상 도입\n",
            "URL: https://n.news.naver.com/mnews/article/016/0002389429?sid=105\n",
            "내용: 통화 대기 중 재생 영상, AI가 제작 V컬러링 고객 대상 상품권 등 추첨 KT 모델이 KT가 <b>생성형 AI</b>로 제작한 V컬러링 영상을 소개하고 있다. [KT 제공] [헤럴드경제=이영기 기자] KT는 종합 인공지능(AI) 미디어 솔루션... \n",
            "---\n",
            "제목: IBK證, <b>생성형 AI</b> 탑재 차세대 MTS 공개\n",
            "URL: https://n.news.naver.com/mnews/article/003/0012908909?sid=101\n",
            "내용: IBK투자증권이 <b>생성형 AI</b>(인공지능) 기반 서비스를 비롯해 다양한 편의 기능을 탑재한 차세대 MTS(모바일 트레이딩 시스템) 'IBKS Wings(윙스)'를 공개했다. 18일 IBK투자증권에 따르면 IBKS Wings는 '투자에 날개를 달다'라는... \n",
            "---\n",
            "제목: IBK투자증권, <b>생성형 AI</b> 탑재한 차세대 MTS 공개\n",
            "URL: https://n.news.naver.com/mnews/article/009/0005398251?sid=101\n",
            "내용: AI 기반 ‘IBK WINGS’ 출시 미성년자 비대면 계좌개설도 가능 IBK투자증권이 <b>생성형 AI</b> 기반 서비스를 비롯해 다양한 편의 기능을 탑재한 차세대 MTS ‘IBKS Wings(윙스)’를 공개했다. IBK투자증권은 지난 14일 신규... \n",
            "---\n",
            "제목: 복잡한 매뉴얼 외울 필요 없어요…SKT 고객센터, <b>생성형AI</b> 도입\n",
            "URL: https://n.news.naver.com/mnews/article/018/0005887849?sid=105\n",
            "내용: SK텔레콤이 자체 개발한 Telco LLM(Large Language Model)/LMM(Large Multimodal Model)을 활용한 고객센터 <b>AI</b> 상담업무 지원... 사진=SK텔레콤 SK텔레콤(017670)은 국내 주요 고객센터 중 최초로 업계 특화 거대언어모델(LLM)을 적용한 <b>AI</b>... \n",
            "---\n",
            "제목: &quot;통화 연결 안 심심하게&quot;…KT, 'V컬러링'에 <b>AI</b> 제작 영상 도입\n",
            "URL: https://n.news.naver.com/mnews/article/003/0012908964?sid=105\n",
            "내용: KT는 AI로 영상을 분석하고 콘텐츠를 생성할 수 있는 KT 자체 솔루션인 매직플랫폼으로 <b>생성형 AI</b> 기반의 미디어 콘텐츠 서비스를 제공해왔다. 이번에는 이를 V컬러링 서비스로 확대 적용한다. 특히 중국 최대... \n",
            "---\n",
            "제목: IBK證, <b>생성형 AI</b> 탑재 차세대 MTS ‘IBKS Wings’ 공개\n",
            "URL: https://n.news.naver.com/mnews/article/018/0005887964?sid=101\n",
            "내용: 알고리즘 AI 기반의 시그널엔진(매매 신호 분석)·공시 AI 인사이트(공시 기반 기업 분석), <b>생성형 AI</b> 기반의 AI 챗봇·음성검색 등 다양한 AI 활용 투자 서비스를 제공하는 것이 특징이다. 또, MTS에서 비대면... \n",
            "---\n",
            "제목: IBK證, <b>생성형AI</b> 서비스 탑재 MTS 'IBKS윙스' 출시\n",
            "URL: https://n.news.naver.com/mnews/article/030/0003258331?sid=101\n",
            "내용: 알고리즘 AI 기반 시그널엔진(매매 신호 분석)·공시 AI 인사이트(공시 기반 기업 분석), <b>생성형 AI</b> 기반의 AI 챗봇·음성검색 등 다양한 AI 활용 투자 서비스를 제공한다. 또 MTS에서 비대면 계좌개설을 바로 할 수... \n",
            "---\n",
            "제목: KT &quot;컬러링 영상, <b>AI</b>로 만든다&quot;\n",
            "URL: https://n.news.naver.com/mnews/article/092/0002352829?sid=105\n",
            "내용: KT는 AI로 영상을 분석하고 콘텐츠를 생성할 수 있는 KT 자체 솔루션인 매직플랫폼으로 <b>생성형 AI</b> 기반의 미디어 콘텐츠 서비스를 제공해 왔다. 이번에는 이를 V컬러링 서비스로 확대 적용한다. 특히 중국 최대... \n",
            "---\n",
            "제목: KT &quot;<b>AI</b>가 V컬러링 영상 만든다…中에도 공급&quot;\n",
            "URL: https://n.news.naver.com/mnews/article/014/0005269198?sid=105\n",
            "내용: KT는 AI로 영상을 분석하고 콘텐츠를 생성할 수 있는 KT 자체 솔루션인 매직플랫폼으로 <b>생성형 AI</b> 기반의 미디어 콘텐츠 서비스를 제공해 왔다. 이번에는 이를 V컬러링 서비스로 확대 적용한다. 중국 최대 통신사인... \n",
            "---\n",
            "제목: &quot;전화하면 <b>AI</b>가 만든 영상이&quot;…KT, <b>AI</b> 제작 V컬러링 영상 도입\n",
            "URL: https://n.news.naver.com/mnews/article/015/0005058274?sid=105\n",
            "내용: KT는 AI로 영상을 분석하고 콘텐츠를 생성할 수 있는 KT 자체 솔루션인 매직플랫폼으로 <b>생성형 AI</b> 기반의 미디어 콘텐츠 서비스를 제공해 왔다. 이번에는 이를 V컬러링 서비스로 확대 적용한다. 특히, 중국 최대... \n",
            "---\n",
            "제목: KT &quot;<b>AI</b> 제작 영상, V컬러링 서비스에 도입&quot;\n",
            "URL: https://n.news.naver.com/mnews/article/011/0004416483?sid=105\n",
            "내용: KT는 AI로 영상을 분석하고 콘텐츠를 생성할 수 있는 KT 자체 솔루션인 매직플랫폼으로 <b>생성형 AI</b> 기반의 미디어 콘텐츠 서비스를 제공해 왔다. KT는 이를 V컬러링 서비스로 확대 적용하고, 중국 최대 통신사인... \n",
            "---\n",
            "제목: 베스핀글로벌, KOSA와 ‘<b>생성형 AI</b> 성공사례’ 공공 로드쇼 개최\n",
            "URL: https://n.news.naver.com/mnews/article/366/0001032940?sid=105\n",
            "내용: 베스핀글로벌은 한국소프트웨어산업협회(KOSA)와 오는 26일부터 4일간 대전, 대구, 부산, 광주에서 ‘<b>생성형 AI</b> 성공사례’ 공공 로드쇼를 개최한다고 18일 밝혔다. 한국소프트웨어산업협회(KOSA)가 주최하고... \n",
            "---\n",
            "제목: KT, <b>AI</b>로 제작한 V컬러링 영상 도입\n",
            "URL: https://n.news.naver.com/mnews/article/030/0003258386?sid=105\n",
            "내용: KT는 AI로 영상을 분석하고 콘텐츠를 생성할 수 있는 KT 자체 솔루션인 매직플랫폼으로 <b>생성형 AI</b> 기반의 미디어 콘텐츠 서비스를 제공해 왔다. 이번에는 이를 V컬러링 서비스로 확대 적용한다. 특히 중국 최대... \n",
            "---\n",
            "제목: IBK투자증권, <b>생성형 AI</b> 탑재한 차세대 MTS 'IBKS Wings' 공개\n",
            "URL: https://n.news.naver.com/mnews/article/277/0005501851?sid=101\n",
            "내용: 알고리즘 AI 기반의 시그널엔진(매매 신호 분석)·공시 AI 인사이트(공시 기반 기업 분석), <b>생성형 AI</b> 기반의 AI 챗봇·음성검색 등 다양한 AI 활용 투자 서비스를 제공하는 것이 특징이다. 또 MTS에서 비대면... \n",
            "---\n",
            "제목: KT, <b>AI</b>로 제작한 V컬러링 영상 도입\n",
            "URL: https://n.news.naver.com/mnews/article/001/0015051954?sid=101\n",
            "내용: 미디어 설루션 '매직플랫폼'을 활용해 제작된 영상을 V컬러링 서비스에 도입한다고 18일 밝혔다. 모델이 KT가 <b>생성형</b> 인공지능(<b>AI</b>)으로 제작한 V컬러링 영상을 소개하고 있다. 2024.11.18 [KT 제공. 재판매 및 DB 금지]\n",
            "---\n",
            "제목: KT, <b>AI</b>로 제작한 V컬러링 영상 도입\n",
            "URL: https://n.news.naver.com/mnews/article/001/0015051955?sid=101\n",
            "내용: 미디어 설루션 '매직플랫폼'을 활용해 제작된 영상을 V컬러링 서비스에 도입한다고 18일 밝혔다. 모델이 KT가 <b>생성형</b> 인공지능(<b>AI</b>)으로 제작한 V컬러링 영상을 소개하고 있다. 2024.11.18 [KT 제공. 재판매 및 DB 금지]\n",
            "---\n",
            "제목: KT, <b>AI</b>로 제작한 V컬러링 영상 도입\n",
            "URL: https://n.news.naver.com/mnews/article/001/0015051956?sid=101\n",
            "내용: 미디어 설루션 '매직플랫폼'을 활용해 제작된 영상을 V컬러링 서비스에 도입한다고 18일 밝혔다. 모델이 KT가 <b>생성형</b> 인공지능(<b>AI</b>)으로 제작한 V컬러링 영상을 소개하고 있다. 2024.11.18 [KT 제공. 재판매 및 DB 금지]\n",
            "---\n",
            "제목: 이번 주 실적 발표 앞두고…엔비디아 <b>AI</b>칩 ‘블랙웰’ 또 생산 차질설 ...\n",
            "URL: https://n.news.naver.com/mnews/article/009/0005398512?sid=101\n",
            "내용: <b>생성형 AI</b> 챗봇 등이 응답하는데 걸리는 시간이 기존 제품보다 30배 더 빠른 속도인 것으로 알려져 기대를 모았다. 엔비디아는 올해 2분기 출시를 예고했지만 자체 생산 과정에서 결함이 발견돼 본격 출시 시점이 최소... \n",
            "---\n",
            "제목: 빅테크 <b>AI</b>검색 부상…네이버 국내검색 점유율 9년새 20%p 하락\n",
            "URL: https://n.news.naver.com/mnews/article/001/0015052624?sid=105\n",
            "내용: 시장조사업체 가트너는 <b>생성형 AI</b> 기술 등장으로 기존 검색 엔진 사용 횟수가 현재 수준 대비 25% 감소할 수 있다고 전망했다. 이 밖에 오픈AI는 사용자 질문에 응답하는 챗GPT 기술에 더해 답변을 요약·비교하고... \n",
            "---\n",
            "제목: KT, 통화 대기 중 <b>AI</b> 제작 영상 보여준다\n",
            "URL: https://n.news.naver.com/mnews/article/015/0005058411?sid=105\n",
            "내용: KT는 이날부터 <b>생성형 AI</b>를 활용해 미디어 콘텐츠를 만드는 AI 솔루션인 ‘매직플랫폼’을 해당 서비스에 적용했다. 매직플랫폼에서 제작한 AI 영상을 V 컬러링으로 설정할 수 있도록 하는 식이다. 해당 영상은 중국... \n",
            "---\n",
            "제목: KT, <b>AI</b>로 제작한 V컬러링 영상 도입\n",
            "URL: https://n.news.naver.com/mnews/article/031/0000885696?sid=105\n",
            "내용: KT는 AI로 영상을 분석하고 콘텐츠를 생성할 수 있는 KT 자체 솔루션인 매직플랫폼으로 <b>생성형 AI</b> 기반의 미디어 콘텐츠 서비스를 제공해 왔다. 이번에는 이를 V컬러링 서비스로 확대 적용한다. 특히 중국 최대... \n",
            "---\n"
          ]
        }
      ],
      "source": [
        "import requests\n",
        "\n",
        "def get_news(query):\n",
        "    url = f\"https://openapi.naver.com/v1/search/news.json?query={query}&display=30&sort=sim\"\n",
        "    headers = {\n",
        "    'X-Naver-Client-Id': 'Ko6yIqbV2TOHq9rPH8tu',\n",
        "    'X-Naver-Client-Secret': 'BvqX8mNtHu'\n",
        "\n",
        "    }\n",
        "\n",
        "    response = requests.get(url, headers=headers)\n",
        "    news_json = response.json()\n",
        "\n",
        "    result = []\n",
        "    for item in news_json['items']:\n",
        "        title = item['title']\n",
        "        link = item['link']\n",
        "        description = item['description']\n",
        "\n",
        "        result.append(f\"제목: {title}\\nURL: {link}\\n내용: {description}\\n---\")\n",
        "\n",
        "    return \"\\n\".join(result)\n",
        "\n",
        "# 검색어\n",
        "query = '생성형 AI'\n",
        "result = get_news(query)\n",
        "print(result)"
      ]
    },
    {
      "cell_type": "markdown",
      "id": "e399facd",
      "metadata": {
        "id": "e399facd"
      },
      "source": [
        "## 2. OpenAI chat을 이용하여 요약하기"
      ]
    },
    {
      "cell_type": "markdown",
      "id": "a995dc0b",
      "metadata": {
        "id": "a995dc0b"
      },
      "source": [
        "키워드에 대한 뉴스 검색 결과를 요약합니다.   \n",
        "위 결과인 `result` 데이터를 입력으로 넣은 뒤, 해당 결과에 대한 요약을 요청합니다."
      ]
    },
    {
      "cell_type": "code",
      "execution_count": 12,
      "id": "97ead65c",
      "metadata": {
        "id": "97ead65c"
      },
      "outputs": [],
      "source": [
        "def news_bot(messages):\n",
        "\n",
        "    response = client.chat.completions.create(\n",
        "        model=\"gpt-4o\",\n",
        "        messages = messages,\n",
        "        temperature = 0.1,\n",
        "        max_tokens= 2048,\n",
        "    )\n",
        "\n",
        "    return response.choices[0].message.content\n",
        "    # 간편한 출력을 위해 content만 추출"
      ]
    },
    {
      "cell_type": "code",
      "execution_count": null,
      "id": "ElqH6FhH-Af4",
      "metadata": {
        "id": "ElqH6FhH-Af4"
      },
      "outputs": [],
      "source": []
    },
    {
      "cell_type": "markdown",
      "id": "f0ff486c",
      "metadata": {
        "id": "f0ff486c"
      },
      "source": [
        "챗봇에 전달할 메시지는 두 개로 나눠집니다.   \n",
        "위에서 얻은 get_html(query)와, 사용자가 제시할 명령입니다.   "
      ]
    },
    {
      "cell_type": "code",
      "execution_count": null,
      "id": "4862d552",
      "metadata": {
        "id": "4862d552"
      },
      "outputs": [],
      "source": []
    },
    {
      "cell_type": "code",
      "execution_count": 15,
      "id": "ba01b31a",
      "metadata": {
        "id": "ba01b31a",
        "scrolled": true
      },
      "outputs": [
        {
          "name": "stdout",
          "output_type": "stream",
          "text": [
            "삼성 라이온즈에 대한 최근 뉴스는 다음과 같습니다:\n",
            "\n",
            "1. **FA 시장과 스토브리그**: 삼성 라이온즈는 FA 시장에서 핵심 선수들을 놓치며 불펜 보강에 어려움을 겪고 있습니다. 팀은 유망주들의 성장을 대안으로 삼고 있으며, 불펜 보강을 위한 선택지가 줄어들고 있는 상황입니다. (관련 링크: [스포츠뉴스](https://m.sports.naver.com/kbaseball/article/657/0000031936))\n",
            "\n",
            "2. **마무리 캠프**: 삼성 라이온즈는 일본 오키나와에서 마무리 훈련을 진행하고 있으며, 선수들은 22일까지 훈련을 이어갈 예정입니다. (관련 링크: [스포츠뉴스](https://m.sports.naver.com/kbaseball/article/088/0000915348))\n",
            "\n",
            "3. **신인 선수 입단식**: 삼성은 2025년 신인 선수 15명의 입단식을 진행했습니다. 이들은 경산과 대구 삼성 라이온즈 파크를 방문한 후 입단식을 가졌습니다. (관련 링크: [대구일보](https://www.idaegu.com/news/articleView.html?idxno=619558))\n",
            "\n",
            "4. **호주 리그 파견**: 삼성 라이온즈는 유망주들을 호주야구리그에 파견하여 경험을 쌓게 하고 있습니다. (관련 링크: [스포츠뉴스](https://m.sports.naver.com/kbaseball/article/003/0012883548))\n",
            "\n",
            "5. **팬 사인회**: 삼성 라이온즈의 구자욱 선수가 팬 사인회에 참석하여 팬들과 소통하는 시간을 가졌습니다. (관련 링크: [메트로서울](http://www.metroseoul.co.kr/article/20241113500505))\n",
            "\n",
            "이 외에도 삼성 라이온즈는 스토브리그에서의 조용한 행보와 불펜 보강의 필요성에 대한 논의가 이어지고 있습니다.\n"
          ]
        }
      ],
      "source": [
        "query = '삼성 라이온즈'\n",
        "\n",
        "result = get_news(query)\n",
        "\n",
        "response = news_bot([\n",
        "    {\n",
        "        # f-string: f\"\"\"{변수명}\"\"\"\n",
        "        \"role\": \"system\",\n",
        "        \"content\": f\"\"\"{query}에 대한 뉴스 검색 결과가 주어집니다.\n",
        "{query}에 대한 뉴스를 요약하세요.\n",
        "관련 링크를 추가하세요.\n",
        "---\n",
        "\"\"\"\n",
        "    },\n",
        "    {\n",
        "        \"role\": \"user\",\n",
        "        \"content\": result\n",
        "    }\n",
        "])\n",
        "\n",
        "print(response)"
      ]
    },
    {
      "cell_type": "code",
      "execution_count": 17,
      "id": "eb8753f4",
      "metadata": {
        "id": "eb8753f4"
      },
      "outputs": [
        {
          "name": "stdout",
          "output_type": "stream",
          "text": [
            "문자 수: 7557\n",
            "토큰 수: 4352\n",
            "제목: tvN 유퀴즈는 왜 '기아' '<b>삼성</b>' 야구팀 이름도 말 못할까\n",
            "URL: https://n.news.naver.com/mnews/article/006/0000127023?sid=102\n",
            "내용: 마찬가지로 결승 상대였던 <b>삼성라이온즈</b>를 명시할 때 '삼'만 쓰고 '성'은 별모양으로 처리했다. 온라인 커뮤니티에는 '기별 타이거즈', '기타이거즈' 등으로 꼬집으며 &quot;팀 이름까지 가리네&quot;라는 글들이 올라왔다.... \n",
            "---\n",
            "제목: [삼성, 여기는 오키나와] ① '늦가을에 흘리는 구슬땀' <b>삼성 라이온즈</b>의...\n",
            "URL: https://m.sports.naver.com/kbaseball/article/088/0000915348\n",
            "내용: 이번 시즌 준우승을 차지한 <b>삼성 라이온즈</b>는 5일 일본 오키나와 온나손에 둥지를 틀었다. 삼성은 22일까지 마무리 훈련을 진행할 예정이다. 온나손의 아카마 구장을 찾아 구슬땀을 흘리는 선수들의 이야기를 담는다. ①... \n",
            "---\n",
            "제목: 스토브리그 잠잠한 <b>삼성</b>…무소식이 희소식일까\n",
            "URL: https://www.idaegu.co.kr/news/articleView.html?idxno=481706\n",
            "내용: 프로야구 <b>삼성 라이온즈</b>가 이대로 스토브리그를 조용히 마감할까. 지난 6일 FA시장이 본격적으로 시작되며 전력 보강을 위해 10개 구단의 머리 싸움이 펼쳐지는 스토브리그가 막을 올렸다. 당초 삼성은 집토끼 단속은... \n",
            "---\n",
            "제목: 호주에서 열린 '<b>삼성</b>-NC' 24시즌 신인 선발 맞대결, 김대호·원종해 승자...\n",
            "URL: https://m.sports.naver.com/kbaseball/article/241/0003395159\n",
            "내용: <b>삼성 라이온즈</b>의 김대호와 NC 다이노스의 원종해가 각각 브리즈번 밴디트와 퍼스 히트 유니폼을 입고 선발 마운드에 올랐다. 두 선수 모두 2024시즌 신인 선수들이다. 김대호는 15일(한국시간) 호주 퍼스에 위치한... \n",
            "---\n",
            "제목: FA 시장 핵심 자원 놓친 <b>삼성라이온즈</b>···마운드 유망주 성장이 대안\n",
            "URL: https://m.sports.naver.com/kbaseball/article/657/0000031936\n",
            "내용: 2위로 시즌을 마친 <b>삼성라이온즈</b>가 불펜진 보강을 포함한 마운드의 전력 강화를 원했지만, FA시장에서 핵심 선수들을 놓친 가운데 유망주들의 성장이 가장 큰 대안으로 떠올랐습니다. 이번 스토브리그 최대어로 꼽힌 KIA... \n",
            "---\n",
            "제목: '불펜 보강' 희망 <b>삼성 라이온즈</b> 선택지 줄어드는 중\n",
            "URL: https://www.yeongnam.com/web/view.php?key=20241112010001461\n",
            "내용: '불펜' 보강을 원했던 <b>삼성 라이온즈</b>의 선택지가 줄어들고 있다.최근 이적시장에서 불펜 매물이 쏟아졌다. 그러나 삼성 유니폼을 입게 된 선수들은 한 명도 없다. 통산 132세이브를 올린 마무리 투수 김원중은 롯데... \n",
            "---\n",
            "제목: 프로야구 <b>삼성</b> 신인선수 15명 입단식\n",
            "URL: https://m.sports.naver.com/kbaseball/article/001/0015026744\n",
            "내용: 선수들은 지난 4일 경북 경산 2군구장과 대구<b>삼성라이온즈</b>파크를 방문한 뒤 대구 인터불고 호텔에서 열린 입단식에 참석했다. 사진은 입단식에 참석한 <b>삼성 라이온즈</b> 신인 선수들. 2024.11.5 [<b>삼성 라이온즈</b> 제공.... \n",
            "---\n",
            "제목: 타팀 연이은 불펜 보강 소식…조용한 <b>삼성 라이온즈</b>, FA 영입 언제쯤?\n",
            "URL: https://www.idaegu.com/news/articleView.html?idxno=620227\n",
            "내용: 타자 친화적인 대구 <b>삼성라이온즈</b>파크를 홈으로 쓰는 삼성으로서는 강력한 필승조가 더 필요했다. 최지광, 김윤수 등 어린 선수들의 성장세도 돋보였지만, 불펜 보완을 과제로 스토브리그를 맞았다. 이번 이적시장에는... \n",
            "---\n",
            "제목: [<b>삼성</b>, 여기는 오키나와] ② 1라운드 지명 신인 투수 배찬승, &quot;야구 훈련...\n",
            "URL: https://m.sports.naver.com/kbaseball/article/088/0000915501\n",
            "내용: <b>삼성 라이온즈</b>가 이번 신인 드래프트에서 1라운드에 뽑은 좌완 투수 배찬승 얘기다. 배찬승은 이번이 첫 해외 훈련. 청소년 대표로 뽑혀 학창 시절 때도 해외에서 땀을 흘린 경험이 없다. 낯선 환경일텐데도 안방에 있는... \n",
            "---\n",
            "제목: 옵션-서울 메리트서 갈렸다…FA 불펜 최대어 장현식 쟁탈전 뛰어든 <b>삼성</b>...\n",
            "URL: https://m.sports.naver.com/kbaseball/article/144/0001000348\n",
            "내용: 타자 친화적인 대구 <b>삼성라이온즈</b>파크를 홈으로 쓰는 삼성으로서는 강력한 필승조가 더 필요했다. 최지광, 김윤수 등 젊은 선수들의 성장이 돋보였지만 경험 많은 투수의 필요성도 커졌다. FA 시장에 나온 매물 중... \n",
            "---\n",
            "제목: '장현식이 아니면 누구?' <b>삼성 라이온즈</b>, FA 시장에서 남은 선택은\n",
            "URL: https://m.sports.naver.com/kbaseball/article/088/0000914517\n",
            "내용: 타자친화적인 대구<b>삼성라이온즈</b>파크보다는 서울 잠실구장을 안방으로 쓰는 것도 고려 대상이었던 것으로 보인다. 이젠 차선책을 찾아야 할 때다. 불펜 자원으로선 두산 베어스의 김강률, NC 다이노스의 임정호, 키움... \n",
            "---\n",
            "제목: 선발야구 선보였던 <b>삼성라이온즈</b>…미지수 커진 2025시즌, 준비가 절실\n",
            "URL: https://m.sports.naver.com/kbaseball/article/657/0000031877\n",
            "내용: 10승대 선발투수만 3명이나 함께 했던 <b>삼성라이온즈</b>가 다음 시즌 선발진 구상에 있어서 미지수가 커져 이번 겨울 대책 마련이 절실해 보입니다. 2024시즌 2위를 기록했던 삼성은 15승을 기록한 다승왕 원태인을 시작으로... \n",
            "---\n",
            "제목: 내야 사령관·헌신의 아이콘, <b>삼성</b>의 '정신적 지주' 집토끼들 계약은 언...\n",
            "URL: https://m.sports.naver.com/kbaseball/article/241/0003394398\n",
            "내용: <b>삼성 라이온즈</b>의 '집토끼들' 계약 소식은 언제 들려올까. 삼성 선수들 중에서 현재 자유계약선수(FA) 시장에 나와있는 선수는 내야수 류지혁(30·B등급)과 외야수 김헌곤(36·C등급) 두 선수다. 류지혁은 FA 1군 등록일수... \n",
            "---\n",
            "제목: NC '대형 유망주' 신영우, 호주 데뷔전서 4이닝 8K 무실점…<b>삼성</b> 육선엽...\n",
            "URL: https://m.sports.naver.com/kbaseball/article/241/0003394729\n",
            "내용: NC 다이노스와 <b>삼성 라이온즈</b>의 1라운더 출신 유망주들이 호주에서 맞붙었다. NC 신영우가 선발 마운드에서, 삼성 육선엽과 NC 서의태는 불펜 마운드에서 무실점 호투를 펼쳤다. 신영우는 15일(한국시간) 호주 퍼스에... \n",
            "---\n",
            "제목: 프로야구 <b>삼성</b> 신인선수 15명 입단식…훈련도 시작\n",
            "URL: https://m.sports.naver.com/kbaseball/article/001/0015026689\n",
            "내용: 선수들은 4일 경북 경산 2군구장과 대구<b>삼성라이온즈</b>파크를 방문한 뒤 대구 인터불고 호텔에서 열린 입단식에 참석했다. 입단 행사엔 신인 선수들과 가족, 구단 임직원 등 약 80명이 함께 했다. 주장 구자욱은 영상... \n",
            "---\n",
            "제목: 프로야구 <b>삼성</b> 신인 15명 입단식…경산서 훈련 시작\n",
            "URL: https://m.sports.naver.com/kbaseball/article/003/0012885629\n",
            "내용: 신인 선수 15명은 4일 2군 구장인 경산볼파크, 1군 경기장인 대구 <b>삼성라이온즈</b>파크를 방문한 후 대구 인터불고 호텔에서 열린 입단식에 참석했다. 입단 행사에는 신인 선수와 가족, 구단 임직원 등 80여명이 자리했다. 신인... \n",
            "---\n",
            "제목: 폭스바겐, <b>삼성 라이온즈</b> 구자욱 선수 팬 사인회 개최\n",
            "URL: http://www.metroseoul.co.kr/article/20241113500505\n",
            "내용: 폭스바겐 대구 전시장에서 진행된 팬 사인회에 참석한 <b>삼성 라이온즈</b> 구자옥 선수. 폭스바겐 공식딜러 지엔비오토모빌은 지난 10일 국내 프로야구 스타 구자욱 선수와 함께하는 고객 팬 사인회를 진행했다고 13일... \n",
            "---\n",
            "제목: 장현식 놓친 <b>삼성</b>의 계투진 강화책, 내부 육성? 아니면 트레이드?\n",
            "URL: https://m.sports.naver.com/kbaseball/article/109/0005194736\n",
            "내용: 계투진 보강이 필요한 <b>삼성 라이온즈</b>는 장현식 영입 경쟁에 뛰어들었으나 성과를 거두지 못했다. 옵션 없이 전액 보장 조건을 제시한 LG의 파격 대우를 당해낼 재간이 없었다. 김강률, 임정호, 문성현 등 불펜 투수들이 FA... \n",
            "---\n",
            "제목: <b>삼성 라이온즈</b>, 최채흥·이호성·김대호·육선엽 호주리그 파견\n",
            "URL: https://m.sports.naver.com/kbaseball/article/055/0001203186\n",
            "내용: 개별적으로 호주야구리그 구단들과 협력 관계를 구축해 유망주를 파견했습니다. 삼성은 지난해 좌완 이승현, 우완 박권후, 포수 이병헌을 애들레이드 자이언츠에 파견한 바 있습니다. (사진=<b>삼성 라이온즈</b> 제공, 연합뉴스)\n",
            "---\n",
            "제목: '84년생' 송은범까지 데려왔던 <b>삼성</b>, FA 뒷문 보강 실패하고 방출 선수로...\n",
            "URL: https://m.sports.naver.com/kbaseball/article/139/0002213765\n",
            "내용: 이번 FA 시장에서 '대어급' 불펜을 다 놓치고 유의미한 불펜 강화을 하지 못한 <b>삼성 라이온즈</b>가 방출 선수 시장으로 눈을 돌릴까. 지난해 역전패만 38차례 당하며 불펜에서 큰 약점을 드러낸 삼성은 이번 시즌을 앞두고... \n",
            "---\n",
            "제목: <b>삼성</b>, 이종욱 코치 영입…1년·9000만원 조건에 계약\n",
            "URL: https://m.sports.naver.com/kbaseball/article/421/0007888951\n",
            "내용: <b>삼성 라이온즈</b>가 NC 다이노스에서 이종욱 코치를 영입했다. 삼성 구단은 5일 &quot;이종욱 코치와 연봉 9000만 원, 계약기간 1년으로 계약했다. 1군 작전·외야 코치를 맡는다'고 밝혔다. 이 코치는 현역 시절 두산 베어스와 NC... \n",
            "---\n",
            "제목: 계약 이어지는 FA 시장···'숙제' 있지만, 조용한 <b>삼성라이온즈</b>\n",
            "URL: https://m.sports.naver.com/kbaseball/article/657/0000031785\n",
            "내용: 어느 해보다 뜨겁다는 평가를 받은 2025 FA시장에서 상대적으로 <b>삼성라이온즈</b>의 조용한 행보가 어떤 결말을 보일지 주목됩니다. FA 시장 초반 무려 128억 원을 투입해 외부 FA 2명을 KT 출신 심우준과 엄상백으로 영입한... \n",
            "---\n",
            "제목: <b>삼성 라이온즈</b>, 일본 오키나와서 마무리 캠프\n",
            "URL: https://m.sports.naver.com/kbaseball/article/088/0000913426\n",
            "내용: 프로야구 2024시즌이 끝나면서 각 구단이 마무리 캠프를 진행하는 가운데 <b>삼성 라이온즈</b>도 마무리 훈련을 위해 일본으로 떠난다. 삼성은 5일 일본 오키나와 마무리 캠프를 진행하기 위해 인천공항을 통해 출국했다.... \n",
            "---\n",
            "제목: ‘불펜 보강’ 뼈저리게 느꼈지만…조용한 <b>삼성</b>\n",
            "URL: https://m.sports.naver.com/kbaseball/article/396/0000693800\n",
            "내용: 사진=<b>삼성라이온즈</b> 제공 조용하다. 프로야구 삼성에게 2024시즌은 반전의 해였다. 개막 전 하위권으로 평가받았으나 저력을 발휘했다. 한국시리즈(KS) 무대에까지 올랐다. 아쉬운 부분이 있다면 불펜이다. 표면적인... \n",
            "---\n",
            "제목: <b>삼성</b>, 日 오키나와서 마무리 캠프 실시…신인 5명 포함\n",
            "URL: https://m.sports.naver.com/kbaseball/article/003/0012885867\n",
            "내용: 프로야구 <b>삼성 라이온즈</b>는 5일부터 일본 오키나와 마무리 캠프 일정을 시작했다고 밝혔다. 마무리 캠프에 참가하는 삼성 선수단은 5일 인천공항을 통해 오키나와로 떠났으며 22일까지 오키나와 온나손 아카마 구장에서... \n",
            "---\n",
            "제목: <b>삼성 라이온즈</b> 신인선수 15명 입단식\n",
            "URL: https://www.idaegu.com/news/articleView.html?idxno=619558\n",
            "내용: <b>삼성 라이온즈</b>의 미래를 책임질 2025년 신인선수 15명이 입단식을 마쳤다. <b>삼성 라이온즈</b>는 &quot;신인선수와 가족, 구단 임직원이 참가한 가운데 신인선수 입단 행사를 열었다&quot;고 5일 밝혔다. 지난 4일 경산볼파크에 집결해... \n",
            "---\n",
            "제목: 프로야구 <b>삼성</b>, 이종욱 전 NC 코치 영입…1군 작전·외야 전담 예정\n",
            "URL: https://www.etoday.co.kr/news/view/2416499\n",
            "내용: 이투데이=나병주 기자 | 한국프로야구(KBO) <b>삼성 라이온즈</b>가 이종욱 전 NC 다이노스 코치를 영입했다. 삼성은 5일 구단 홈페이지를 통해 &quot;1군 작전·외야 코치로 이 코치와 계약했다&quot;며 &quot;계약 기간은 1년, 연봉은 9000만... \n",
            "---\n",
            "제목: '불펜 보강' 선택지 줄어든 <b>삼성</b>, FA 영입 언제쯤?\n",
            "URL: https://www.dkilbo.com/news/articleView.html?idxno=469670\n",
            "내용: ▲ 2024시즌 예상 밖의 준우승 성적을 거둔 <b>삼성라이온즈</b>가 내년 시즌 전력 보강을 위해 이번 스토브리그에서 FA 선수 영입에 나서고 있지만 선택지가 계속해서 줄고 있는 가운데 삼성이 불펜 보강과 함께 내부 FA... \n",
            "---\n",
            "제목: <b>삼성</b> 육선엽·김대호·최채흥·이호성, 호주야구리그 파견\n",
            "URL: https://m.sports.naver.com/kbaseball/article/003/0012883548\n",
            "내용: 프로야구 <b>삼성 라이온즈</b>는 호주야구리그(ABL)에 소속 선수 4명을 파견한다고 4일 밝혔다. 전반기에는 투수 김대호와 육선엽이, 후반기에는 투수 최채흥과 이호성이 참가한다. 이들은 모두 브리즈번 밴디츠 소속으로 뛴다.... \n",
            "---\n",
            "제목: '장현식? 김강률?' 불펜 보강 필요한 <b>삼성 라이온즈</b>, FA 20명 중 누구 고...\n",
            "URL: https://m.sports.naver.com/kbaseball/article/088/0000913280\n",
            "내용: 20명이 FA 시장에 나서기로 한 가운데 <b>삼성 라이온즈</b> 등 각 구단이 어떤 선택을 할지 관심이 모아진다. KBO 사무국은 5일 2025년 FA 승인 선수 20명 명단을 공시했다. KBO리그 통산 홈런 1위(495개)를 달리고 있는 최정(SSG... \n",
            "---\n"
          ]
        }
      ],
      "source": [
        "# 토큰 수 체크\n",
        "import tiktoken\n",
        "\n",
        "tokenizer  = tiktoken.encoding_for_model('gpt-4o')\n",
        "\n",
        "print(\"문자 수:\", len(result))\n",
        "print(\"토큰 수:\", len(tokenizer.encode(result)))\n",
        "print(result) #result\n"
      ]
    },
    {
      "cell_type": "markdown",
      "id": "f22469ad",
      "metadata": {
        "id": "f22469ad"
      },
      "source": [
        "다양한 명령을 넣어서 형식과 스타일을 바꿀 수 있습니다."
      ]
    },
    {
      "cell_type": "code",
      "execution_count": 18,
      "id": "b83450fb",
      "metadata": {
        "id": "b83450fb"
      },
      "outputs": [
        {
          "name": "stdout",
          "output_type": "stream",
          "text": [
            "A: 최근 삼성 라이온즈의 스토브리그에서의 조용한 행보는 다소 우려스럽습니다. FA 시장에서 핵심 자원들을 놓친 상황에서 불펜 보강이 시급한데, 선택지가 줄어드는 모습이 보입니다. 특히, 장현식 영입에 실패한 것은 큰 타격으로 작용할 수 있습니다.\n",
            "\n",
            "B: 아, 맞아요! 삼성 라이온즈가 요즘 좀 조용한 것 같아요. 불펜 보강이 필요하다고 하는데, 왜 그렇게 안 되는 걸까요? 선수들이 FA 시장에서 다 떠나버리면 어떻게 해요?\n",
            "\n",
            "A: 그렇습니다. 삼성은 이번 시즌 준우승을 차지했지만, 불펜에서의 약점이 드러났습니다. 특히 역전패가 많았던 점을 고려하면, 마운드의 안정성이 절실합니다. 내부 유망주들의 성장이 대안으로 떠오르고 있지만, 경험이 부족한 선수들로는 한계가 있을 것입니다.\n",
            "\n",
            "B: 아하, 그래서 신인 선수들이 많이 들어온다고 하더라고요. 그 친구들이 잘할 수 있을까요? 너무 기대가 되기도 하고, 걱정도 되네요.\n",
            "\n",
            "A: 신인 선수들은 잠재력이 있지만, 프로에서의 경험이 부족하기 때문에 즉각적인 전력 보강에는 한계가 있습니다. 삼성은 이종욱 코치를 영입했지만, 코치진의 변화만으로는 부족할 수 있습니다. 따라서 외부 FA 영입이 필수적입니다.\n",
            "\n",
            "B: 음, 그러면 삼성 라이온즈가 앞으로 어떻게 될까요? 또 다른 좋은 선수를 영입할 수 있을까요?\n",
            "\n",
            "A: 현재로서는 불확실성이 큽니다. 삼성의 선택지가 줄어드는 가운데, 내부 육성에 의존할 수밖에 없는 상황입니다. 하지만 만약 적절한 FA 선수를 영입한다면, 다음 시즌에도 경쟁력을 유지할 수 있을 것입니다. 결국, 구단의 전략과 결정이 중요한 시점입니다.\n",
            "\n",
            "B: 아, 그러니까 삼성 라이온즈가 잘 되려면 좋은 결정을 해야 한다는 거군요! 응원해야겠어요!\n"
          ]
        }
      ],
      "source": [
        "query = '삼성 라이온즈'\n",
        "\n",
        "result  = get_news(query)\n",
        "\n",
        "result = news_bot([\n",
        "    {\n",
        "        \"role\": \"user\",\n",
        "        \"content\": result\n",
        "    },\n",
        "    {\n",
        "        \"role\": \"user\",\n",
        "        \"content\": f\"\"\"\n",
        "---\n",
        "위 전체 내용을 종합하여 {query}의 동향과 미래에 대해 논쟁하는 두 사람의 대화 내용을 만들어줘.\n",
        "한 명은 전문적인 말투, 한 명은 어리숙한 말투를 사용하고, 형식은 아래와 같아.\n",
        "---\n",
        "A:(A의 대화)\n",
        "B:(B의 대화)\n",
        "        \"\"\"\n",
        "    }\n",
        "])\n",
        "\n",
        "print(result)"
      ]
    },
    {
      "cell_type": "markdown",
      "id": "4aa4182c",
      "metadata": {
        "id": "4aa4182c"
      },
      "source": [
        "## 참고) 스트리밍\n",
        "ChatGPT처럼 글자가 한 글자씩 순서대로 쭉 출력되도록 하면 어떨까요?   \n",
        "이와 같은 작업을 스트리밍(Streaming)이라고 하며, 옵션을 추가하여 구현할 수 있습니다."
      ]
    },
    {
      "cell_type": "code",
      "execution_count": 19,
      "id": "c9c2254e",
      "metadata": {
        "id": "c9c2254e"
      },
      "outputs": [],
      "source": [
        "def news_bot_stream(messages):\n",
        "\n",
        "    response = client.chat.completions.create(\n",
        "        model = \"gpt-4o-mini\",\n",
        "        messages = messages,\n",
        "        temperature = 0.1,\n",
        "        max_tokens = 2048,\n",
        "        stream=True # 스트리밍\n",
        "    )\n",
        "\n",
        "    return response\n",
        "    # content가 아닌 전체를 return함"
      ]
    },
    {
      "cell_type": "code",
      "execution_count": 21,
      "id": "c57c0f75",
      "metadata": {
        "id": "c57c0f75"
      },
      "outputs": [
        {
          "name": "stdout",
          "output_type": "stream",
          "text": [
            "**제목**: SK텔레콤, 자체 개발한 AI 언어모델 탑재 'AI 고객센터' 오픈\n",
            "\n",
            "**본문**: SK텔레콤이 통신에 특화된 자체 개발 언어모델인 텔코 거대언어모델(LLM)과 대규모 멀티모달 모델(LMM)을 활용한 고객센터 인공지능(AI) 상담 업무 지원 시스템의 베타 서비스를 성공적으로 운영했다고 18일 발표했다. 이 시스템은 지난달부터 한 달여간 시범 운영되었으며, SK텔레콤은 앤스로픽 등 해외 주요 LLM 업체들과 협력하여 AI 상담의 효율성을 높이고 있다. 이번 AI 고객센터는 국내 메이저 고객센터 중 최초로 도입된 것으로, 고객의 다양한 요구에 신속하게 대응할 수 있는 기능을 갖추고 있다.\n",
            "\n",
            "이와 함께, SK텔레콤은 AI 기술을 통해 고객 서비스의 품질을 향상시키고, 고객의 편의성을 높이기 위한 다양한 노력을 지속하고 있다. 이러한 혁신적인 접근은 고객 경험을 개선하고, 통신 산업의 디지털 전환을 가속화하는 데 기여할 것으로 기대된다.\n",
            "\n",
            "관련 링크:\n",
            "- [네이버 뉴스 1](https://n.news.naver.com/mnews/article/001/0015051992?sid=105)\n",
            "- [네이버 뉴스 2](https://n.news.naver.com/mnews/article/032/0003333070?sid=101)\n",
            "- [한국일보](https://daily.hankooki.com/news/articleView.html?idxno=1148532)\n",
            "- [화이트페이퍼](http://www.whitepaper.co.kr/news/articleView.html?idxno=240088)\n",
            "- [인사이트코리아](https://www.insightkorea.co.kr/news/articleView.html?idxno=213933)None"
          ]
        }
      ],
      "source": [
        "query = '거대 언어 모델'\n",
        "result = get_news(query)\n",
        "\n",
        "result = news_bot_stream([\n",
        "    {\n",
        "        \"role\": \"user\",\n",
        "        \"content\": result\n",
        "    },\n",
        "    {\n",
        "        \"role\": \"user\",\n",
        "        \"content\": \"\"\"\n",
        "위 전체 내용을 종합하여 뉴스 리포팅을 해줘.\n",
        "관련 링크를 추가해줘\n",
        "---\n",
        "'제목':\n",
        "'본문':\n",
        "        \"\"\"\n",
        "    }\n",
        "])\n",
        "\n",
        "for chunk in result:\n",
        "    print(chunk.choices[0].delta.content, end='')"
      ]
    },
    {
      "cell_type": "markdown",
      "id": "72c46e8a",
      "metadata": {
        "id": "72c46e8a"
      },
      "source": [
        "이와 같은 스트리밍은 LLM 어플리케이션의 마지막 출력에서 사용하면    \n",
        "사용자 경험을 향상시킬 수 있습니다."
      ]
    },
    {
      "cell_type": "code",
      "execution_count": null,
      "id": "2G5_lmDnXXF7",
      "metadata": {
        "id": "2G5_lmDnXXF7"
      },
      "outputs": [],
      "source": []
    },
    {
      "cell_type": "markdown",
      "id": "d34bf6c6",
      "metadata": {
        "id": "d34bf6c6"
      },
      "source": [
        "<br><br><br>\n",
        "## Tool(과거 Function Call) : 커스텀 함수 사용하기\n",
        "만약 query를 명시적으로 지정하지 않고, 사용자의 질문에 따라 관련 query를 추출하고,  \n",
        "이를 통해 검색하게 할 수도 있을까요?    \n",
        "\n",
        "`Tool Calling` 를 추가하면 이를 수행할 수 있습니다.    \n",
        "\n",
        "Web_Search라는 이름의 툴을 만들고, 이를 `get_html`과 연결하겠습니다.\n",
        "\n",
        "-------\n"
      ]
    },
    {
      "cell_type": "code",
      "execution_count": 22,
      "id": "MwUHmvcyetyZ",
      "metadata": {
        "id": "MwUHmvcyetyZ"
      },
      "outputs": [
        {
          "data": {
            "text/plain": [
              "[{'type': 'function',\n",
              "  'function': {'name': 'Web_Search',\n",
              "   'strict': True,\n",
              "   'parameters': {'description': 'query를 이용하여 뉴스 검색',\n",
              "    'properties': {'query': {'description': '검색 키워드\\n규칙:\\n1. 최대 2개 단어로 구성\\n2. 불필요한 조사나 형용사 제외\\n3. 핵심 명사만 포함\\n\\n예시:\\n- (좋음) \"개봉영화\", \"영화\"\\n- (나쁨) \"새로 개봉한 영화\", \"요즘 인기있는 영화\"\\n        ',\n",
              "      'title': 'Query',\n",
              "      'type': 'string'}},\n",
              "    'required': ['query'],\n",
              "    'title': 'Web_Search',\n",
              "    'type': 'object',\n",
              "    'additionalProperties': False},\n",
              "   'description': 'query를 이용하여 뉴스 검색'}}]"
            ]
          },
          "execution_count": 22,
          "metadata": {},
          "output_type": "execute_result"
        }
      ],
      "source": [
        "from pydantic import BaseModel, Field\n",
        "\n",
        "class Web_Search(BaseModel):\n",
        "    \"\"\"query를 이용하여 뉴스 검색\"\"\"\n",
        "    query: str= Field(description=\"\"\"검색 키워드\n",
        "규칙:\n",
        "1. 최대 2개 단어로 구성\n",
        "2. 불필요한 조사나 형용사 제외\n",
        "3. 핵심 명사만 포함\n",
        "\n",
        "예시:\n",
        "- (좋음) \"개봉영화\", \"영화\"\n",
        "- (나쁨) \"새로 개봉한 영화\", \"요즘 인기있는 영화\"\n",
        "        \"\"\")\n",
        "\n",
        "tools = [openai.pydantic_function_tool(Web_Search)]\n",
        "tools"
      ]
    },
    {
      "cell_type": "markdown",
      "id": "si2yTeBWe3LV",
      "metadata": {
        "id": "si2yTeBWe3LV"
      },
      "source": [
        "Tool 정보가 포함된 gpt는 함수의 구조와 설명을 이용하여 어떤 함수를 써야 하는지를 판단합니다.\n",
        "\n",
        "직접적으로 실행하는 것은 아니지만, 결과를 활용하면 해당 함수를 바로 사용할 수 있습니다."
      ]
    },
    {
      "cell_type": "code",
      "execution_count": 23,
      "id": "c8465bc2",
      "metadata": {
        "id": "c8465bc2"
      },
      "outputs": [],
      "source": [
        "def news_bot_v2(messages, stream=False, model = 'gpt-4o-mini'):\n",
        "\n",
        "    # 사용할 툴 펑션의 목록과 설명을 리스트로 전달\n",
        "    # LLM이 스스로 description, name, parameter의 값을 통해 판단\n",
        "    class Web_Search(BaseModel):\n",
        "        \"\"\"query를 이용하여 뉴스 검색\"\"\"\n",
        "        query: str= Field(description=\"\"\"\n",
        "검색 키워드\n",
        "규칙:\n",
        "1. 최대 2개 단어로 구성\n",
        "2. 불필요한 조사나 형용사 제외\n",
        "3. 핵심 명사만 포함\n",
        "\n",
        "예시:\n",
        "- (좋음) \"영화\"\n",
        "- (나쁨) \"새로 개봉한 영화\", \"요즘 인기있는 영화\"\n",
        "\"\"\")\n",
        "\n",
        "    tools = [openai.pydantic_function_tool(Web_Search)]\n",
        "\n",
        "    response = client.chat.completions.create(\n",
        "        model = model,\n",
        "        messages = messages,\n",
        "\n",
        "        tools = tools, # 사용할 툴 목록 전달\n",
        "        tool_choice = 'auto',\n",
        "        # 'none'이면 툴 사용하지 않음\n",
        "        # 'required'면 무조건 툴 사용\n",
        "\n",
        "        # parallel_tool_calls = False,\n",
        "        # 툴 1회만 출력하기\n",
        "\n",
        "        temperature= 0.1,\n",
        "        max_tokens= 1024,\n",
        "\n",
        "        stream = stream\n",
        "        # stream = True 면 스트리밍, 아니면 기본 출력\n",
        "    )\n",
        "\n",
        "    # Streaming 여부에 따라 출력 다르게 하기\n",
        "    if stream: return response\n",
        "\n",
        "    return response.choices[0].message"
      ]
    },
    {
      "cell_type": "code",
      "execution_count": 24,
      "id": "_vzJwQWN5QY7",
      "metadata": {
        "id": "_vzJwQWN5QY7"
      },
      "outputs": [
        {
          "data": {
            "text/plain": [
              "ChatCompletionMessage(content='안녕하세요! 날씨가 좋다니 기쁘네요. 오늘 어떤 계획이 있으신가요?', refusal=None, role='assistant', audio=None, function_call=None, tool_calls=None)"
            ]
          },
          "execution_count": 24,
          "metadata": {},
          "output_type": "execute_result"
        }
      ],
      "source": [
        "# tool 사용 필요 없음\n",
        "result = news_bot_v2([\n",
        "    {\n",
        "        \"role\": \"user\",\n",
        "        \"content\": \"\"\"안녕하세요! 오늘 날씨가 좋네요.\"\"\"\n",
        "    }\n",
        "])\n",
        "\n",
        "result"
      ]
    },
    {
      "cell_type": "code",
      "execution_count": 26,
      "id": "34500980",
      "metadata": {
        "id": "34500980"
      },
      "outputs": [
        {
          "name": "stdout",
          "output_type": "stream",
          "text": [
            "ChatCompletionMessage(content=None, refusal=None, role='assistant', audio=None, function_call=None, tool_calls=[ChatCompletionMessageToolCall(id='call_AA5rzStjlWaBwnq4qbr4IlMh', function=Function(arguments='{\"query\":\"영화\"}', name='Web_Search'), type='function')])\n"
          ]
        }
      ],
      "source": [
        "# tool 사용 필요함\n",
        "\n",
        "tool_call_result = news_bot_v2([\n",
        "    {\n",
        "        \"role\": \"user\",\n",
        "        \"content\": \"\"\"\n",
        "요즘 새로 개봉한 영화는 무엇이 있나요?\n",
        "\"\"\"\n",
        "    }\n",
        "])\n",
        "\n",
        "print(tool_call_result)"
      ]
    },
    {
      "cell_type": "markdown",
      "id": "7_TO3a-cbVaO",
      "metadata": {
        "id": "7_TO3a-cbVaO"
      },
      "source": [
        "Tool Call 메시지는 content 대신 tool_calls로 전달됩니다."
      ]
    },
    {
      "cell_type": "code",
      "execution_count": 27,
      "id": "bLOhNEPiZcWB",
      "metadata": {
        "id": "bLOhNEPiZcWB"
      },
      "outputs": [
        {
          "data": {
            "text/plain": [
              "[ChatCompletionMessageToolCall(id='call_AA5rzStjlWaBwnq4qbr4IlMh', function=Function(arguments='{\"query\":\"영화\"}', name='Web_Search'), type='function')]"
            ]
          },
          "execution_count": 27,
          "metadata": {},
          "output_type": "execute_result"
        }
      ],
      "source": [
        "tool_call_result.tool_calls"
      ]
    },
    {
      "cell_type": "code",
      "execution_count": 28,
      "id": "aqN-uIqeV6mC",
      "metadata": {
        "id": "aqN-uIqeV6mC"
      },
      "outputs": [
        {
          "data": {
            "text/plain": [
              "('call_AA5rzStjlWaBwnq4qbr4IlMh', 'Web_Search', '{\"query\":\"영화\"}')"
            ]
          },
          "execution_count": 28,
          "metadata": {},
          "output_type": "execute_result"
        }
      ],
      "source": [
        "(tool_call_result.tool_calls[0].id,\n",
        "tool_call_result.tool_calls[0].function.name,\n",
        "tool_call_result.tool_calls[0].function.arguments)"
      ]
    },
    {
      "cell_type": "markdown",
      "id": "eGFDzYvif2u6",
      "metadata": {
        "id": "eGFDzYvif2u6"
      },
      "source": [
        "LLM이 스스로 판단하여, 실행할 함수의 정보를 `tool_calls`에 돌려줍니다."
      ]
    },
    {
      "cell_type": "markdown",
      "id": "kcw0x1ULbh0I",
      "metadata": {
        "id": "kcw0x1ULbh0I"
      },
      "source": [
        "tool_calls의 구성 요소는 다음과 같습니다.\n",
        "- id: tool call의 id로, 해당 id에 실행 결과를 연결할 수 있습니다.\n",
        "- function : arguments와 name을 통해 실행할 툴의 이름과 매개변수를 전달합니다.\n",
        "<br><br>\n",
        "\n",
        "\n",
        "tool_calls의 결과를 임의로 포함하여 전달해 보겠습니다.   \n",
        "`tool`타입의 메시지로 전달해야 합니다."
      ]
    },
    {
      "cell_type": "code",
      "execution_count": 31,
      "id": "TeFixgQUY7F7",
      "metadata": {
        "id": "TeFixgQUY7F7"
      },
      "outputs": [
        {
          "data": {
            "text/plain": [
              "ChatCompletionMessage(content='요즘 새로 개봉한 영화로는 다음과 같은 작품들이 있습니다:\\n\\n1. 청설\\n2. 보통의 가족\\n3. 아노라\\n4. 아마존 활명수\\n5. 베놈: 라스트 댄스\\n\\n관심 있는 영화가 있으면 더 알아보세요!', refusal=None, role='assistant', audio=None, function_call=None, tool_calls=None)"
            ]
          },
          "execution_count": 31,
          "metadata": {},
          "output_type": "execute_result"
        }
      ],
      "source": [
        "result = news_bot_v2([\n",
        "    {\n",
        "        \"role\": \"user\",\n",
        "        \"content\": \"\"\"\n",
        "요즘 새로 개봉한 영화는 무엇이 있나요?\n",
        "\"\"\"\n",
        "    },\n",
        "    tool_call_result, # tool_calls 메시지\n",
        "    {\n",
        "        \"role\": \"tool\",\n",
        "        \"content\": \"\"\"\n",
        "청설, 보통의 가족, 아노라, 아마존 활명수, 베놈:라스트 댄스\n",
        "\"\"\",\n",
        "        \"tool_call_id\":tool_call_result.tool_calls[0].id\n",
        "    }\n",
        "])\n",
        "\n",
        "result"
      ]
    },
    {
      "cell_type": "markdown",
      "id": "-lBwdy_f5vMA",
      "metadata": {
        "id": "-lBwdy_f5vMA"
      },
      "source": [
        "이번에는 실제 함수를 실행하여 전달해 보겠습니다."
      ]
    },
    {
      "cell_type": "code",
      "execution_count": 32,
      "id": "85f007da",
      "metadata": {
        "id": "85f007da"
      },
      "outputs": [
        {
          "data": {
            "text/plain": [
              "('Web_Search', '{\"query\":\"영화\"}')"
            ]
          },
          "execution_count": 32,
          "metadata": {},
          "output_type": "execute_result"
        }
      ],
      "source": [
        "tool_call_result.tool_calls[0].function.name, tool_call_result.tool_calls[0].function.arguments"
      ]
    },
    {
      "cell_type": "markdown",
      "id": "dTJGyyWs6D4e",
      "metadata": {
        "id": "dTJGyyWs6D4e"
      },
      "source": [
        "함수명과 함수에 전달할 매개변수값이 주어지면, 아래와 같이 함수를 불러올 수 있습니다."
      ]
    },
    {
      "cell_type": "code",
      "execution_count": 33,
      "id": "-dHIEPJe6DpO",
      "metadata": {
        "id": "-dHIEPJe6DpO"
      },
      "outputs": [
        {
          "name": "stdout",
          "output_type": "stream",
          "text": [
            "{'query': 'LLM'}\n",
            "<class 'dict'>\n"
          ]
        }
      ],
      "source": [
        "# 문자열을 Dict로 바꾸기\n",
        "import json\n",
        "\n",
        "example = '{\"query\":\"LLM\"}'\n",
        "example_dict = json.loads(example)\n",
        "# json으로 변환\n",
        "\n",
        "print(example_dict)\n",
        "print(type(example_dict))\n",
        "\n"
      ]
    },
    {
      "cell_type": "code",
      "execution_count": 34,
      "id": "jFXaG0Gy6dHw",
      "metadata": {
        "id": "jFXaG0Gy6dHw"
      },
      "outputs": [
        {
          "data": {
            "text/plain": [
              "<function __main__.get_news(query)>"
            ]
          },
          "execution_count": 34,
          "metadata": {},
          "output_type": "execute_result"
        }
      ],
      "source": [
        "# 함수이름 문자열을 함수로 바꾸기\n",
        "\n",
        "available_functions = {'Web_Search': get_news}\n",
        "\n",
        "available_functions['Web_Search']"
      ]
    },
    {
      "cell_type": "code",
      "execution_count": 35,
      "id": "jHBnRR_v72Yi",
      "metadata": {
        "id": "jHBnRR_v72Yi"
      },
      "outputs": [
        {
          "data": {
            "text/plain": [
              "3"
            ]
          },
          "execution_count": 35,
          "metadata": {},
          "output_type": "execute_result"
        }
      ],
      "source": [
        "# Dictionary를 함수의 매개변수로 전달하기\n",
        "\n",
        "def f(a,b):\n",
        "  return a + b\n",
        "\n",
        "example2 = {'a': 1, 'b': 2}\n",
        "\n",
        "f(**example2)\n"
      ]
    },
    {
      "cell_type": "code",
      "execution_count": 36,
      "id": "w_qW36Y26qS4",
      "metadata": {
        "id": "w_qW36Y26qS4"
      },
      "outputs": [
        {
          "data": {
            "text/plain": [
              "\"제목: SKT AI 고객센터 오픈…&quot;통신 특화 <b>LLM</b> 적용&quot;\\nURL: https://www.etoday.co.kr/news/view/2420398\\n내용: 이투데이=안유리 기자 | 자체 개발한 Telco <b>LLM</b>, LMM 활용해 10월부터 고객센터 상담에 단계적 적용 문장형 AI 지식 검색, AI 서류 자동 처리, 상담 결과 자동 처리 SK텔레콤은 자체 개발한 Telco <b>LLM</b>(Large Language Model)과 LMM... \\n---\\n제목: SKT, AI 고객센터 운영…전용 <b>LLM</b>으로 상담 업무 효율화\\nURL: https://n.news.naver.com/mnews/article/030/0003258363?sid=105\\n내용: SK텔레콤이 자체 개발한 텔코(Telco) 거대언어모델(<b>LLM</b>)과 대형멀티모달모델(LMM)을 활용한 고객센터 인공지능... 연중 테스트와 피드백을 통한 강화 학습을 반복해 통신 서비스 전용 <b>LLM</b>, LMM 모델을 만들었다. 또 <b>LLM</b>이... \\n---\\n제목: SKT AI 고객센터 오픈…&quot;통신 특화 <b>LLM</b> 적용&quot;\\nURL: http://www.metroseoul.co.kr/article/20241118500315\\n내용: Telco <b>LLM</b>(Large Language Model)과 LMM(Large Multimodal Model)을 활용한 고객센터 AI 상담 업무 지원 시스템을 10월 중순부터 단계적으로 열고, 한 달여 간 베타서비스를 운영했다고 18일 밝혔다. SKT는 자체 개발한 Telco <b>LLM</b>/LMM을... \\n---\\n제목: SKT AI 고객센터 오픈...<b>LLM</b> · LMM 활용\\nURL: https://www.digitaltoday.co.kr/news/articleView.html?idxno=541886\\n내용: SK텔레콤 모델이 자체 개발한 Telco <b>LLM</b>(Large Language Model)/LMM(Large Multimodal Model)을 활용한 고객센터 AI 상담업무 지원 시스템을 소개하고 있다 [사진 : SK텔레콤] SK텔레콤이 자체 개발한 텔코 <b>LLM</b>(Large Language Model)과 LMM... \\n---\\n제목: SKT, 전용 <b>LLM</b> 기반 ‘AI 상담업무 지원’ 고객센터 오픈\\nURL: https://biz.newdaily.co.kr/site/data/html/2024/11/18/2024111800074.html\\n내용: SK텔레콤이 텔코 <b>LLM</b> 적용 AI 상담 시스템을 활용한 고객센터 시범서비스를 10월 한달 간 성공적으로 운영했다고 18일 밝혔다. 그동안 SK텔레콤은 앤트로픽 등 해외 주요 <b>LLM</b> 업체들과 협력해 텔코 <b>LLM</b>을 개발해왔다. 지난... \\n---\\n제목: SKT, 텔코 <b>LLM</b> 기반 AI 고객센터 오픈...“상담 속도·품질 개선”\\nURL: https://n.news.naver.com/mnews/article/119/0002893760?sid=105\\n내용: SK텔레콤은 자체 개발한 텔코(Telco) 거대언어모델(<b>LLM</b>)과 거대멀티모달모델(LMM)을 활용한 고객센터 인공지능... 이 시스템 구축을 위해 SK텔레콤은 앤트로픽 등 해외 주요 <b>LLM</b> 업체들과 협력해 다양한 통신 전문 지식을... \\n---\\n제목: 통신 특화 <b>LLM</b> 실무 도입…SKT, AI 고객센터 오픈\\nURL: http://www.m-i.kr/news/articleView.html?idxno=1179690\\n내용: SK텔레콤 고객센터 직원이 텔코 <b>LLM</b>이 적용된 시스템을 활용하고 있다. 사진=SK텔레콤 제공 매일일보 = 김성지 기자  |  SK텔레콤은 자체 개발한 Telco 거대언어모델(<b>LLM</b>)과 멀미모달모델(LMM)을 활용한 고객센터 AI 상담... \\n---\\n제목: 'AI와 상담'…SKT, <b>LLM</b> 적용한 AI 상담센터 연다\\nURL: https://n.news.naver.com/mnews/article/648/0000030784?sid=105\\n내용: SK텔레콤이 자체 개발한 텔코(Telco) <b>LLM</b>(대규모언어모델)을 활용한 인공지능(AI) 상담 업무 지원 시스템을... SK텔레콤은 앤트로픽(Anthropic) 등 외국 주요 <b>LLM</b> 업체들과 협력해 다양한 통신 전문 지식을 학습한 텔코 <b>LLM</b>을... \\n---\\n제목: SKT AI 고객센터 운영개시 업계 특화 <b>LLM</b> 적용\\nURL: https://www.businesskorea.co.kr/news/articleView.html?idxno=229655\\n내용: SK텔레콤이 자체 개발한 Telco <b>LLM</b>(Large Language Model)과 LMM(Large Multimodal Model)을 활용한 고객센터 AI 상담... SKT는 Anthropic社등 해외 주요 <b>LLM</b> 업체들과 협력을 바탕으로 다양한 통신 전문 지식을 학습한 Telco <b>LLM</b>을... \\n---\\n제목: AI로 고객상담 돕고 서류처리까지…SKT, 텔코 <b>LLM</b> 적용한 `AI 고객센터` ...\\nURL: https://n.news.naver.com/mnews/article/029/0002916356?sid=105\\n내용: SK텔레콤이 자체 개발한 텔코 거대언어모델(<b>LLM</b>)과 대형 멀티 모달(LMM)을 활용해 고객센터 인공지능(AI) 상담... 또 고객센터 상담 전문가 수십명이 참여해 텔코 <b>LLM</b> 성능 향상을 위한 학습 데이터를 구축했다. 테스트와... \\n---\\n제목: SKT, 텔코 <b>LLM</b> 활용 'AI 고객센터' 연다\\nURL: https://www.goodkyung.com/news/articleView.html?idxno=251315\\n내용: <b>LLM</b>), 대형멀티모달(LMM)을 실제 상담 업무에 활용할 수 있는 인공지능(AI) 상담 업무 지원 시스템을 구축하고 고품질을 상담을 제공할 계획이라고 18일 밝혔다. SK텔레콤은 자체 개발한 Telco 거대언어모델(<b>LLM</b>)과 <b>LLM</b>을... \\n---\\n제목: SK텔레콤, AI 고객센터 오픈…&quot;통신 특화 <b>LLM</b> 적용&quot;\\nURL: http://www.finomy.com/news/articleView.html?idxno=218744\\n내용: SK텔레콤은 자체 개발한 Telco <b>LLM</b>과 LMM을 활용한 고객센터 AI 상담 업무 지원 시스템의 베타 서비스를 성공적으로 마무리했다고 18일 밝혔다. SKT는 Anthropic 등 해외 주요 <b>LLM</b> 업체들과 협력해 다양한 통신 전문 지식을... \\n---\\n제목: SKT, 업계 특화 <b>LLM</b> 적용한 AI 고객센터 오픈\\nURL: http://www.techholic.co.kr/news/articleView.html?idxno=214743\\n내용: SK텔레콤(대표이사 CEO 유영상)이 국내 메이저 고객센터 중 최초로 자체 개발한 Telco <b>LLM</b>(Large Language Model... SKT는 Anthropic社등 해외 주요 <b>LLM</b> 업체들과 협력을 바탕으로 다양한 통신 전문 지식을 학습한 Telco <b>LLM</b>을... \\n---\\n제목: SKT AI 고객센터 오픈…&quot;통신 특화 <b>LLM</b> 적용&quot;\\nURL: http://www.thebigdata.co.kr/view.php?ud=20241118124926462796085a06ef_23\\n내용: Telco <b>LLM</b>(Large Language Model)과 LMM(Large Multimodal Model)을 활용한 고객센터 AI 상담 업무 지원 시스템을 10월 중순부터 단계적으로 오픈, 한 달여간 베타 서비스를 운영했다고 18일 밝혔다. SKT는 Anthropic社등 해외 주요 <b>LLM</b>... \\n---\\n제목: SKT, AI 고객센터 오픈...<b>LLM</b> 적용 상담 지원\\nURL: https://www.news2day.co.kr/article/20241118500024\\n내용: 자체 개발한 Telco <b>LLM</b>, LMM 활용해 10월부터 고객센터 상담에 단계적 적용 SKT가 자체 개발한 Telco <b>LLM</b>을 활용한 고객센터 AI 상담 업무 지원 시스템을 선보이고 있다. [사진=SKT] SKT가 자체 개발한 Telco <b>LLM</b>(Large Language Model)... \\n---\\n제목: &quot;SKT, 업계 특화 <b>LLM</b> 적용한 AI 상담 업무 지원 시스템 가동&quot;\\nURL: https://www.ebn.co.kr/news/articleView.html?idxno=1643350\\n내용: SK텔레콤은 자체 개발한 Telco <b>LLM</b>(Large Language Model)과 LMM(Large Multimodal Model)을 활용한 고객센터 AI 상담 업무... SKT는 Anthropic社등 해외 주요 <b>LLM</b> 업체들과 협력을 바탕으로 다양한 통신 전문 지식을 학습한 Telco <b>LLM</b>을... \\n---\\n제목: SKT, AI 고객센터 오픈...통신 특화 <b>LLM</b> 적용\\nURL: https://www.aitimes.com/news/articleView.html?idxno=165434\\n내용: 앤트로픽 등 해외 주요 대형언어모델(<b>LLM</b>) 업체들과 협력을 바탕으로 텔코 <b>LLM</b>과 멀티모달모델(LMM)을 개발해 서비스에 적용했다고 설명했다. 10월21일부터 베타 서비스를 통해 실제 상담사들이 상담 현장에서 직접... \\n---\\n제목: SKT, AI 고객센터 오픈... 자사 통신 특화 <b>LLM</b> 활용\\nURL: https://www.ltn.kr/news/articleView.html?idxno=45881\\n내용: Telco <b>LLM</b>(거대언어모델)과 LMM(대형멀티모달모델)을 활용한 고객센터 AI 상담 시스템을 국내 메이저 고객센터 중 최초로 10월 중순부터 단계적으로 오픈했다고 오늘(18일) 밝혔습니다. SKT는 엔트로픽 등 해외 <b>LLM</b>... \\n---\\n제목: SKT, AI 고객센터 오픈…&quot;자체 개발 통신 특화 <b>LLM</b> 적용&quot;\\nURL: http://www.smedaily.co.kr/news/articleView.html?idxno=309897\\n내용: 사진/SK텔레콤 SK텔레콤은 자체 개발한 텔코 <b>LLM</b>(대규모언어모델)과 LMM(대형멀티모달모델)을 활용한... SKT는 엔트로픽 등 해외 주요 <b>LLM</b> 업체들과 협력을 바탕으로 다양한 통신 전문 지식을 학습한 텔코 <b>LLM</b>을 개발해 왔다.... \\n---\\n제목: SKT, 'AI 고객센터' 오픈…텔코 <b>LLM</b>·LMM 더해 효율성 높인다\\nURL: https://n.news.naver.com/mnews/article/138/0002186433?sid=105\\n내용: SK텔레콤(대표 유영상)이 자체 개발한 '텔코 <b>LLM</b>(통신사용 대형언어모델)'과 'LMM(대형 멀티모달 모델)'을... 여기에 자체 개발한 텔코 <b>LLM</b>·LMM을 더해 실제 상담 업무에 활용할 수 있는 AI 상담 업무 지원 시스템을 구축하고... \\n---\\n제목: SKT, <b>LLM</b>·LMM 탑재 AI 고객상담 업무 시스템 운영\\nURL: http://www.enewstoday.co.kr/news/articleView.html?idxno=2201490\\n내용: SK텔레콤이 자체 개발한 텔코 거대언어모델(<b>LLM</b>)과 LMM을 활용한 고객센터 인공지능(AI) 상담 업무 지원 시스템 베타 서비스를 지난달부터 한 달여간 성공적으로 운영했다고 18일 밝혔다. 텔코 <b>LLM</b>은 통신에 특화한... \\n---\\n제목: AI검색 시대 열리자 언론사들은 바싹 긴장 중\\nURL: https://n.news.naver.com/mnews/article/053/0000046854?sid=104\\n내용: 거대언어모델(<b>LLM</b>) 속에서 답을 찾지만 <b>LLM</b> 자체가 업데이트되지 않을 경우 과거의 데이터 속에서 답을 알려주던 방식(챗GPT 3.5)이 아니다. 최근에는 RAG(Retrieval-Augmented Generation) 프로세스를 거치는 게 트렌드다. RAG는... \\n---\\n제목: SKT, 텔코 <b>LLM</b> 적용 AI 고객센터 오픈\\nURL: https://www.newscj.com/news/articleView.html?idxno=3200797\\n내용: SK텔레콤이 자체 개발한 텔코(Telco) 거대언어모델(<b>LLM</b>)과 LMM을 활용한 고객센터 AI 상담 업무 지원 시스템 베타 서비스를 한 달여간 성공적으로 운영했다고 18일 밝혔다. SK텔레콤은 Anthropic 등 해외 주요 <b>LLM</b> 업체들과... \\n---\\n제목: &quot;상담사 대신 AI가 정보 검색&quot;…SKT, AI 고객센터 오픈\\nURL: https://n.news.naver.com/mnews/article/003/0012908896?sid=105\\n내용: <b>LLM</b>(대규모 언어 모델)과 LMM(대규모 멀티모달 모델)을 활용한 고객센터 AI(인공지능) 상담 업무 지원 시스템을 국내 메이저 고객센터 중 최초로 10월 중순부터 오픈했다고 18일 밝혔다. SKT는 앤스로픽 등 해외 주요 <b>LLM</b>... \\n---\\n제목: SKT, 통신사 특화 <b>LLM</b>·LMM 적용 AI 고객센터 오픈\\nURL: http://www.srtimes.kr/news/articleView.html?idxno=166491\\n내용: 거대언어모델(<b>LLM</b>)과 대형멀티모달모델(LMM)을 활용한 고객센터 AI 상담 업무 지원 시스템을 국내 주요... 먼저 고객센터 AI 상담 업무 지원 시스템에서는 통신사 특화 <b>LLM</b> 기반의 AI 지식 검색 도우미 서비스를 통해... \\n---\\n제목: SKT, AI 고객센터 오픈... 국내 최초로 업계 특화 <b>LLM</b> 적용한 AI 상담 업...\\nURL: https://www.ibabynews.com/news/articleView.html?idxno=123152\\n내용: ⓒSK텔레콤 SK텔레콤(대표이사 CEO 유영상)이 자체 개발한 Telco <b>LLM</b>(Large Language Model)과 LMM(Large Multimodal Model)... SKT는 Anthropic社등 해외 주요 <b>LLM</b> 업체들과 협력을 바탕으로 다양한 통신 전문 지식을 학습한 Telco <b>LLM</b>을... \\n---\\n제목: SKT, '텔코<b>LLM</b> 탑재' AI 고객센터 오픈\\nURL: https://n.news.naver.com/mnews/article/008/0005115672?sid=105\\n내용: 고객센터 AI 지원 시스템에는 SK텔레콤이 자체 개발한 텔코 거대언어모델(<b>LLM</b>)과 대형멀티모달모델(LMM)을 활용했다. 텔코 <b>LLM</b>은 통신 전문 지식을 학습한 언어모델로, SK텔레콤이 앤트로픽 등 해외 주요 해외 주요 <b>LLM</b>... \\n---\\n제목: SKT ‘통신 지식 전문으로 배운 AI’ 상담 업무에 투입\\nURL: https://n.news.naver.com/mnews/article/009/0005398460?sid=105\\n내용: 자체 개발 Telco <b>LLM</b>·LMM 베타 테스트 마무리하고 완성 SK텔레콤은 자체 개발한 ‘Telco <b>LLM</b>’과 ‘LMM’ 기술을 활용한 고객센터 AI 상담 업무 지원 시스템에 대한 베타 테스트를 성공적으로 운영했다고 18일 밝혔다.... \\n---\\n제목: SKT, 자체 개발 ‘텔코 <b>LLM</b>’ 탑재한 AI 고객센터 오픈\\nURL: https://www.hellot.net/news/article.html?no=95473\\n내용: SK텔레콤이 자체 개발한 텔코 거대언어모델(<b>LLM</b>)과 LMM을 활용한 고객센터 인공지능(AI) 상담 업무 지원 시스템 베타 서비스를 지난달부터 한 달여간 성공적으로 운영했다고 18일 밝혔다. 텔코 <b>LLM</b>은 통신에 특화한... \\n---\\n제목: SKT, 업계 최초로 <b>LLM</b> 적용 'AI 상담 업무' 지원 시스템 가동\\nURL: https://www.ezyeconomy.com/news/articleView.html?idxno=204487\\n내용: SK텔레콤은 자사가 자체 개발한 '텔코 <b>LLM</b>'과 LMM을 활용한 고객센터 AI 상담 업무 지원 시스템을 국내 메이저... SKT는 앤트로픽 등 해외 주요 <b>LLM</b> 업체들과 협력을 바탕으로 여러 통신 전문 지식을 학습한 텔코 <b>LLM</b>을... \\n---\""
            ]
          },
          "execution_count": 36,
          "metadata": {},
          "output_type": "execute_result"
        }
      ],
      "source": [
        "available_functions['Web_Search'](**example_dict)"
      ]
    },
    {
      "cell_type": "markdown",
      "id": "ae9443e6",
      "metadata": {
        "id": "ae9443e6",
        "vscode": {
          "languageId": "bat"
        }
      },
      "source": [
        "위 과정을 조합하여 실행해 보겠습니다."
      ]
    },
    {
      "cell_type": "code",
      "execution_count": 38,
      "id": "vvzJ5ziM5_U2",
      "metadata": {
        "id": "vvzJ5ziM5_U2"
      },
      "outputs": [
        {
          "data": {
            "text/plain": [
              "\"현재 개봉 예정인 영화 중 하나는 **'하얼빈'**입니다. 이 영화는 12월 25일 크리스마스에 개봉할 예정이며, 배우 현빈과 이동욱이 출연합니다. 영화는 1909년을 배경으로 하며, 독립운동과 관련된 이야기를 다루고 있습니다. \\n\\n더 자세한 내용은 [여기](https://www.viva100.com/article/20241118500216)에서 확인하실 수 있습니다.\""
            ]
          },
          "execution_count": 38,
          "metadata": {},
          "output_type": "execute_result"
        }
      ],
      "source": [
        "available_functions = {'Web_Search':get_news}\n",
        "\n",
        "name, arguments = tool_call_result.tool_calls[0].function.name, tool_call_result.tool_calls[0].function.arguments\n",
        "\n",
        "\n",
        "result = news_bot_v2([\n",
        "    {\n",
        "        \"role\": \"user\",\n",
        "        \"content\": \"\"\"\n",
        "요즘 새로 개봉한 영화는 무엇이 있나요? 오늘 날짜는 24년 11월 18일입니다.\n",
        "\"\"\"\n",
        "    },\n",
        "    tool_call_result, # tool_calls 메시지\n",
        "    {\n",
        "        \"role\": \"tool\",\n",
        "        \"content\": available_functions[name](**json.loads(arguments)),  \n",
        "        # get_news(query = '영화')\n",
        "\n",
        "        \"tool_call_id\":tool_call_result.tool_calls[0].id\n",
        "    }\n",
        "])\n",
        "\n",
        "result.content"
      ]
    },
    {
      "cell_type": "markdown",
      "id": "acv8mydxWKTW",
      "metadata": {
        "id": "acv8mydxWKTW"
      },
      "source": [
        "스트리밍 기능을 추가하고, 전체 과정을 함수로 자동화합니다.:"
      ]
    },
    {
      "cell_type": "code",
      "execution_count": 39,
      "id": "db7579cc",
      "metadata": {
        "id": "db7579cc"
      },
      "outputs": [
        {
          "name": "stdout",
          "output_type": "stream",
          "text": [
            "Prompt: 넷플릭스 신작 추천해줘.\n",
            "---\n",
            "News_Bot: Call Web_Search {\"query\":\"넷플릭스 신작\"}\n",
            "---\n",
            "News_Bot:최근 넷플릭스에서 공개된 신작 중 추천할 만한 작품은 다음과 같습니다:\n",
            "\n",
            "1. **좀비버스: 뉴 블러드 (Zombieverse: New Blood)** - K-좀비 예능의 신기원을 연 이 프로그램은 11월 19일에 공개됩니다. 좀비 코미디와 버라이어티 요소가 결합된 재미있는 콘텐츠입니다.\n",
            "\n",
            "2. **가석방 심사관 이한신** - 11월 18일에 공개되는 이 드라마는 긴장감 넘치는 스토리라인을 가지고 있어 기대를 모으고 있습니다.\n",
            "\n",
            "3. **이별, 그 뒤에도** - 이 드라마는 사랑과 이별을 다룬 이야기로, 11월 18일에 공개됩니다.\n",
            "\n",
            "이 외에도 다양한 장르의 신작들이 있으니, 취향에 맞는 작품을 찾아보세요!None"
          ]
        }
      ],
      "source": [
        "def news_qa(prompt):\n",
        "\n",
        "    print('Prompt:',prompt)\n",
        "    # 출력 결과를 함수와 연결하기 위한 dictionary\n",
        "    available_functions = {'Web_Search':get_news}\n",
        "\n",
        "    tool_call_result = news_bot_v2([\n",
        "        {\n",
        "            \"role\": \"user\",\n",
        "            \"content\": prompt\n",
        "        }\n",
        "    ])\n",
        "    # 프롬프트를 받아 Web_Search를 수행할지 결정합니다.\n",
        "    # 단순 대화라면 tool call을 생성하지 않습니다.\n",
        "\n",
        "    print('---')\n",
        "    print('News_Bot: Call ', end='')\n",
        "\n",
        "    if tool_call_result.tool_calls: # tool_calls가 존재하면:\n",
        "\n",
        "        name, arguments = tool_call_result.tool_calls[0].function.name, tool_call_result.tool_calls[0].function.arguments\n",
        "\n",
        "        print(name,arguments)\n",
        "\n",
        "        # get_news(query)\n",
        "        result = available_functions[name](**json.loads(arguments))\n",
        "        # 함수 선택, 매개변수 전달\n",
        "        print('---')\n",
        "        print('News_Bot:',end='')\n",
        "\n",
        "        response = news_bot_v2(\n",
        "        [\n",
        "        {\n",
        "            'role':\"system\",\n",
        "            'content':'사용자의 질문과 이를 답변하기 위한 정보가 주어집니다. 이를 바탕으로 답변하세요.'\n",
        "        },\n",
        "\n",
        "        {\n",
        "            \"role\": \"user\",\n",
        "            \"content\": prompt\n",
        "        },\n",
        "        tool_call_result, # tool_calls 메시지\n",
        "        {\n",
        "            \"role\": \"tool\",\n",
        "            \"content\": result,\n",
        "            \"tool_call_id\":tool_call_result.tool_calls[0].id\n",
        "        }],\n",
        "        stream=True\n",
        "        )\n",
        "        for chunk in response:\n",
        "            print(chunk.choices[0].delta.content, end='')\n",
        "    else:\n",
        "        print('Nothing')\n",
        "        print(tool_call_result.content)\n",
        "\n",
        "# example\n",
        "# \"오늘 가장 큰 뉴스는 뭐야?\"\n",
        "# \"\"\"오픈AI는 요즘 새로운 소식 있어?\"\"\"\n",
        "prompt = \"\"\"넷플릭스 신작 추천해줘.\"\"\"\n",
        "\n",
        "news_qa(prompt)"
      ]
    },
    {
      "cell_type": "code",
      "execution_count": 40,
      "id": "S3FsjTkylvFQ",
      "metadata": {
        "id": "S3FsjTkylvFQ"
      },
      "outputs": [
        {
          "name": "stdout",
          "output_type": "stream",
          "text": [
            "Prompt: 회사 가기 싫어.\n",
            "---\n",
            "News_Bot: Call Nothing\n",
            "회사가 가기 싫은 기분이 드는 건 자연스러운 일이에요. 어떤 이유로 그런 기분이 드는지 이야기해볼까요? 스트레스, 업무량, 동료와의 관계 등 여러 가지 이유가 있을 수 있어요.\n"
          ]
        }
      ],
      "source": [
        "news_qa(\"회사 가기 싫어.\")"
      ]
    },
    {
      "cell_type": "markdown",
      "id": "J0SUkT2iD6rk",
      "metadata": {
        "id": "J0SUkT2iD6rk"
      },
      "source": [
        "# [심화] Multiple Tool Call\n",
        "때로는, 하나의 메시지에서 여러 개의 Tool Call을 수행해야 하기도 합니다.   \n"
      ]
    },
    {
      "cell_type": "markdown",
      "id": "o6_W_jFeD8xV",
      "metadata": {
        "id": "o6_W_jFeD8xV"
      },
      "source": [
        "반복문을 통해, Tool Call의 목록을 한꺼번에 전달합니다."
      ]
    },
    {
      "cell_type": "code",
      "execution_count": 41,
      "id": "UiHGG9lhD3z4",
      "metadata": {
        "id": "UiHGG9lhD3z4"
      },
      "outputs": [
        {
          "name": "stdout",
          "output_type": "stream",
          "text": [
            "Prompt: 넷플릭스 왓챠 디즈니플러스 웨이브 신작 추천해줘.\n",
            "---\n",
            "News_Bot: Call Web_Search {\"query\": \"넷플릭스 신작\"}\n",
            "---\n",
            "News_Bot:Web_Search {\"query\": \"왓챠 신작\"}\n",
            "---\n",
            "News_Bot:Web_Search {\"query\": \"디즈니플러스 신작\"}\n",
            "---\n",
            "News_Bot:Web_Search {\"query\": \"웨이브 신작\"}\n",
            "---\n",
            "News_Bot:다양한 OTT 플랫폼에서의 신작 추천을 위해 최근 뉴스 기사를 참고했습니다. 아래는 넷플릭스, 왓챠, 디즈니플러스, 웨이브에서 추천할 만한 신작입니다.\n",
            "\n",
            "### 넷플릭스\n",
            "1. **신작: 'Mr. 포트너'**\n",
            "   - **장르**: 드라마\n",
            "   - **내용**: 이 드라마는 주인공이 다양한 사건을 통해 성장하는 이야기를 담고 있습니다. 11월 14일에 공개됩니다.\n",
            "   - **링크**: [기사 링크](https://m.entertain.naver.com/article/311/0001797192)\n",
            "\n",
            "2. **신작: '좀비버스: 뉴 블러드'**\n",
            "   - **장르**: 리얼리티, 좀비\n",
            "   - **내용**: K-좀비를 테마로 한 리얼리티 쇼로, 참가자들이 좀비 상황에서 생존하는 과정을 그립니다. 11월 19일에 공개됩니다.\n",
            "   - **링크**: [기사 링크](https://sports.hankooki.com/news/articleView.html?idxno=6881142)\n",
            "\n",
            "### 왓챠\n",
            "1. **신작: '신작'**\n",
            "   - **장르**: 다양한 장르\n",
            "   - **내용**: 왓챠에서 다양한 신작들이 공개되고 있으며, 특히 한국 드라마와 영화가 주목받고 있습니다. 구체적인 제목은 기사에서 확인할 수 있습니다.\n",
            "   - **링크**: [기사 링크](https://m.entertain.naver.com/article/609/0000922147)\n",
            "\n",
            "### 디즈니플러스\n",
            "1. **신작: '가디언즈 오브 갤럭시 Vol. 3'**\n",
            "   - **장르**: 액션, 어드벤처\n",
            "   - **내용**: 마블의 인기 캐릭터들이 다시 모여 우주를 구하는 이야기를 담고 있습니다. 11월 중 공개 예정입니다.\n",
            "   - **링크**: [기사 링크](https://m.entertain.naver.com/article/311/0001794016)\n",
            "\n",
            "### 웨이브\n",
            "1. **신작: '신작'**\n",
            "   - **장르**: 다양한 장르\n",
            "   - **내용**: 웨이브에서도 여러 신작들이 공개되고 있으며, 특히 한국 드라마와 예능 프로그램이 인기를 끌고 있습니다. 구체적인 제목은 기사에서 확인할 수 있습니다.\n",
            "   - **링크**: [기사 링크](https://m.entertain.naver.com/article/311/0001792349)\n",
            "\n",
            "각 플랫폼에서 제공하는 신작들은 다양한 장르와 흥미로운 스토리를 가지고 있으니, 관심 있는 작품을 선택해 보시기 바랍니다!None"
          ]
        }
      ],
      "source": [
        "def news_qa_v2(prompt, model = 'gpt-4o'):\n",
        "\n",
        "    print('Prompt:',prompt)\n",
        "    # 출력 결과를 함수와 연결하기 위한 dictionary\n",
        "    available_functions = {'Web_Search':get_news}\n",
        "\n",
        "    tool_call_result = news_bot_v2([\n",
        "        {\n",
        "            \"role\": \"user\",\n",
        "            \"content\": prompt\n",
        "        },\n",
        "    ])\n",
        "    # 프롬프트를 받아 Web_Search를 수행할지 결정합니다.\n",
        "    # 단순 대화라면 tool call을 생성하지 않습니다.\n",
        "\n",
        "    print('---')\n",
        "    print('News_Bot: Call ', end='')\n",
        "\n",
        "    if tool_call_result.tool_calls: # tool_calls가 존재하면:\n",
        "\n",
        "\n",
        "\n",
        "        ### Tool Message 복수 입력\n",
        "\n",
        "        tool_messages=[]\n",
        "        for tool_call in tool_call_result.tool_calls:\n",
        "            name, arguments = tool_call.function.name, tool_call.function.arguments\n",
        "            print(name,arguments)\n",
        "\n",
        "            # get_news(query)\n",
        "            result = available_functions[name](**json.loads(arguments))\n",
        "            # 함수 선택, 매개변수 전달\n",
        "            print('---')\n",
        "            print('News_Bot:',end='')\n",
        "            tool_messages.append(\n",
        "                {\"role\": \"tool\",\"content\": result,\"tool_call_id\":tool_call.id}\n",
        "            )\n",
        "        ####\n",
        "\n",
        "\n",
        "\n",
        "        response = news_bot_v2(\n",
        "        [\n",
        "        {\n",
        "            'role':\"system\",\n",
        "            'content':'사용자의 질문과 이를 답변하기 위한 정보가 tool 실행 결과를 통해 주어집니다. 전체 내용을 최대한 자세히 읽고, 상세하게 답변하세요.'\n",
        "        },\n",
        "\n",
        "        {\n",
        "            \"role\": \"user\",\n",
        "            \"content\": prompt\n",
        "        },\n",
        "        tool_call_result] + tool_messages,\n",
        "        stream=True,\n",
        "        model = model\n",
        "        )\n",
        "        for chunk in response:\n",
        "            print(chunk.choices[0].delta.content, end='')\n",
        "    else:\n",
        "        print('Nothing')\n",
        "        print(tool_call_result.content)\n",
        "\n",
        "\n",
        "prompt = \"\"\"넷플릭스 왓챠 디즈니플러스 웨이브 신작 추천해줘.\"\"\"\n",
        "\n",
        "news_qa_v2(prompt)"
      ]
    },
    {
      "cell_type": "code",
      "execution_count": 42,
      "id": "8V-Do7_dD_PE",
      "metadata": {
        "id": "8V-Do7_dD_PE"
      },
      "outputs": [
        {
          "name": "stdout",
          "output_type": "stream",
          "text": [
            "Prompt: 넷플릭스 왓챠 디즈니플러스 웨이브 신작 추천해줘.\n",
            "---\n",
            "News_Bot: Call Web_Search {\"query\": \"넷플릭스 신작\"}\n",
            "---\n",
            "News_Bot:Web_Search {\"query\": \"왓챠 신작\"}\n",
            "---\n",
            "News_Bot:Web_Search {\"query\": \"디즈니플러스 신작\"}\n",
            "---\n",
            "News_Bot:Web_Search {\"query\": \"웨이브 신작\"}\n",
            "---\n",
            "News_Bot:최근 각 스트리밍 플랫폼에서 공개된 신작들을 소개합니다.\n",
            "\n",
            "### 넷플릭스\n",
            "1. **좀비버스: 뉴 블러드** - K-좀비 예능으로, 좀비와의 생존을 다루는 콘텐츠입니다.\n",
            "2. **미키 17** - 북미 극장에서 개봉 예정인 영화로, 넷플릭스 시리즈 '성난 사람들'과 함께 주목받고 있습니다.\n",
            "3. **사흘** - 박신양 주연의 드라마로, 복잡한 인간관계를 다루고 있습니다.\n",
            "\n",
            "### 왓챠\n",
            "1. **유마 카운티의 끝에서: 주유소 살인사건** - 범죄 스릴러 영화로, 긴장감 넘치는 스토리를 제공합니다.\n",
            "2. **러브 라이즈 블리딩** - 로맨스 드라마로, 사랑과 갈등을 그립니다.\n",
            "3. **개소리** - 코미디 드라마로, 일상 속의 유머를 담고 있습니다.\n",
            "\n",
            "### 디즈니플러스\n",
            "1. **강남 비-사이드** - 한국 드라마로, 강남의 화려한 삶을 배경으로 한 이야기를 다룹니다.\n",
            "2. **조명가게** - 미스터리 드라마로, 조명가게에서 벌어지는 사건들을 중심으로 전개됩니다.\n",
            "3. **왕과 사는 남자** - 역사 드라마로, 조선시대를 배경으로 한 이야기입니다.\n",
            "\n",
            "### 웨이브\n",
            "1. **미안하다, 사랑한다 2024** - 클래식 드라마의 리메이크로, 현대적인 감각을 더했습니다.\n",
            "2. **여왕벌 게임** - 서바이벌 게임을 소재로 한 드라마로, 긴장감 넘치는 전개가 특징입니다.\n",
            "3. **내 이름은 김삼순 2024** - 인기 드라마의 리메이크로, 새로운 캐스팅과 함께 돌아왔습니다.\n",
            "\n",
            "각 플랫폼에서 다양한 장르의 신작들이 공개되고 있으니, 관심 있는 작품을 찾아보세요!None"
          ]
        }
      ],
      "source": [
        "news_qa_v2(prompt, model='gpt-4o')"
      ]
    }
  ],
  "metadata": {
    "colab": {
      "provenance": []
    },
    "kernelspec": {
      "display_name": "llm",
      "language": "python",
      "name": "python3"
    },
    "language_info": {
      "codemirror_mode": {
        "name": "ipython",
        "version": 3
      },
      "file_extension": ".py",
      "mimetype": "text/x-python",
      "name": "python",
      "nbconvert_exporter": "python",
      "pygments_lexer": "ipython3",
      "version": "3.10.11"
    }
  },
  "nbformat": 4,
  "nbformat_minor": 5
}
