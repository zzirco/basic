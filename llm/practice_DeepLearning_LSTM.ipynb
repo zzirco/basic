{
 "cells": [
  {
   "cell_type": "markdown",
   "metadata": {},
   "source": [
    "#### 다음 실습 코드는 학습 목적으로만 사용 바랍니다. 문의 : audit@korea.ac.kr 임성열 Ph.D."
   ]
  },
  {
   "cell_type": "code",
   "execution_count": 1,
   "metadata": {},
   "outputs": [
    {
     "name": "stdout",
     "output_type": "stream",
     "text": [
      "Collecting torch\n",
      "  Using cached torch-2.7.1-cp311-none-macosx_11_0_arm64.whl.metadata (29 kB)\n",
      "Requirement already satisfied: numpy in ./llm/lib/python3.11/site-packages (1.26.4)\n",
      "Requirement already satisfied: filelock in ./llm/lib/python3.11/site-packages (from torch) (3.18.0)\n",
      "Requirement already satisfied: typing-extensions>=4.10.0 in ./llm/lib/python3.11/site-packages (from torch) (4.14.1)\n",
      "Requirement already satisfied: sympy>=1.13.3 in ./llm/lib/python3.11/site-packages (from torch) (1.14.0)\n",
      "Collecting networkx (from torch)\n",
      "  Using cached networkx-3.5-py3-none-any.whl.metadata (6.3 kB)\n",
      "Collecting jinja2 (from torch)\n",
      "  Using cached jinja2-3.1.6-py3-none-any.whl.metadata (2.9 kB)\n",
      "Requirement already satisfied: fsspec in ./llm/lib/python3.11/site-packages (from torch) (2024.6.1)\n",
      "Requirement already satisfied: mpmath<1.4,>=1.1.0 in ./llm/lib/python3.11/site-packages (from sympy>=1.13.3->torch) (1.3.0)\n",
      "Requirement already satisfied: MarkupSafe>=2.0 in ./llm/lib/python3.11/site-packages (from jinja2->torch) (3.0.2)\n",
      "Using cached torch-2.7.1-cp311-none-macosx_11_0_arm64.whl (68.6 MB)\n",
      "Using cached jinja2-3.1.6-py3-none-any.whl (134 kB)\n",
      "Using cached networkx-3.5-py3-none-any.whl (2.0 MB)\n",
      "Installing collected packages: networkx, jinja2, torch\n",
      "\u001b[2K   \u001b[90m━━━━━━━━━━━━━━━━━━━━━━━━━━━━━━━━━━━━━━━━\u001b[0m \u001b[32m3/3\u001b[0m [torch]32m2/3\u001b[0m [torch]\n",
      "\u001b[1A\u001b[2KSuccessfully installed jinja2-3.1.6 networkx-3.5 torch-2.7.1\n",
      "Note: you may need to restart the kernel to use updated packages.\n"
     ]
    }
   ],
   "source": [
    "%pip install torch numpy"
   ]
  },
  {
   "cell_type": "code",
   "execution_count": 2,
   "metadata": {},
   "outputs": [
    {
     "name": "stdout",
     "output_type": "stream",
     "text": [
      "Epoch [0/200] Loss: 2.8350\n",
      "Epoch [20/200] Loss: 0.2622\n",
      "Epoch [40/200] Loss: 0.0948\n",
      "Epoch [60/200] Loss: 0.0855\n",
      "Epoch [80/200] Loss: 0.0833\n",
      "Epoch [100/200] Loss: 0.0823\n",
      "Epoch [120/200] Loss: 0.0817\n",
      "Epoch [140/200] Loss: 0.0812\n",
      "Epoch [160/200] Loss: 0.0808\n",
      "Epoch [180/200] Loss: 0.0805\n",
      "\n",
      "Generated Text:\n",
      "hello world machine learning is fun fun fun fun fun fun\n"
     ]
    }
   ],
   "source": [
    "import torch\n",
    "import torch.nn as nn\n",
    "import torch.optim as optim\n",
    "import numpy as np\n",
    "\n",
    "# 데이터 준비\n",
    "text = \"hello world machine learning is fun \"\n",
    "chars = sorted(list(set(text)))  # 등장 문자 목록\n",
    "char_to_idx = {c: i for i, c in enumerate(chars)}\n",
    "idx_to_char = {i: c for i, c in enumerate(chars)}\n",
    "\n",
    "# 파라미터 설정\n",
    "input_size = len(chars)\n",
    "hidden_size = 50\n",
    "num_layers = 1\n",
    "seq_length = 10\n",
    "learning_rate = 0.01\n",
    "\n",
    "# 학습 데이터 만들기\n",
    "input_data = []\n",
    "target_data = []\n",
    "\n",
    "for i in range(0, len(text) - seq_length):\n",
    "    input_seq = text[i:i+seq_length]\n",
    "    target_seq = text[i+1:i+seq_length+1]\n",
    "    \n",
    "    input_data.append([char_to_idx[c] for c in input_seq])\n",
    "    target_data.append([char_to_idx[c] for c in target_seq])\n",
    "\n",
    "input_data = torch.LongTensor(input_data)\n",
    "target_data = torch.LongTensor(target_data)\n",
    "\n",
    "# 모델 정의\n",
    "class CharLSTM(nn.Module):\n",
    "    def __init__(self, input_size, hidden_size, num_layers):\n",
    "        super(CharLSTM, self).__init__()\n",
    "        self.embedding = nn.Embedding(input_size, hidden_size)\n",
    "        self.lstm = nn.LSTM(hidden_size, hidden_size, num_layers, batch_first=True)\n",
    "        self.fc = nn.Linear(hidden_size, input_size)\n",
    "\n",
    "    def forward(self, x, hidden):\n",
    "        x = self.embedding(x)\n",
    "        out, hidden = self.lstm(x, hidden)\n",
    "        out = self.fc(out)\n",
    "        return out, hidden\n",
    "\n",
    "model = CharLSTM(input_size, hidden_size, num_layers)\n",
    "\n",
    "# 손실 함수 및 최적화\n",
    "criterion = nn.CrossEntropyLoss()\n",
    "optimizer = optim.Adam(model.parameters(), lr=learning_rate)\n",
    "\n",
    "# 학습\n",
    "for epoch in range(200):\n",
    "    hidden = None\n",
    "    output, hidden = model(input_data, hidden)\n",
    "    \n",
    "    loss = criterion(output.view(-1, input_size), target_data.view(-1))\n",
    "    \n",
    "    optimizer.zero_grad()\n",
    "    loss.backward()\n",
    "    optimizer.step()\n",
    "    \n",
    "    if epoch % 20 == 0:\n",
    "        print(f\"Epoch [{epoch}/200] Loss: {loss.item():.4f}\")\n",
    "\n",
    "# 문장 생성\n",
    "def generate_text(start_str, length):\n",
    "    model.eval()\n",
    "    chars_input = torch.LongTensor([[char_to_idx[c] for c in start_str]])\n",
    "    hidden = None\n",
    "    result = start_str\n",
    "    \n",
    "    for _ in range(length):\n",
    "        output, hidden = model(chars_input, hidden)\n",
    "        last_char_logits = output[:, -1, :]\n",
    "        last_char_idx = torch.argmax(last_char_logits, dim=1).item()\n",
    "        \n",
    "        result += idx_to_char[last_char_idx]\n",
    "        \n",
    "        chars_input = torch.LongTensor([[last_char_idx]])\n",
    "    \n",
    "    return result\n",
    "\n",
    "# 결과 보기\n",
    "print(\"\\nGenerated Text:\")\n",
    "print(generate_text(\"hello\", 50))\n"
   ]
  }
 ],
 "metadata": {
  "kernelspec": {
   "display_name": "rag",
   "language": "python",
   "name": "python3"
  },
  "language_info": {
   "codemirror_mode": {
    "name": "ipython",
    "version": 3
   },
   "file_extension": ".py",
   "mimetype": "text/x-python",
   "name": "python",
   "nbconvert_exporter": "python",
   "pygments_lexer": "ipython3",
   "version": "3.11.13"
  }
 },
 "nbformat": 4,
 "nbformat_minor": 2
}
